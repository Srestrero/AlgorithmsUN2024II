{
  "cells": [
    {
      "cell_type": "markdown",
      "metadata": {
        "id": "view-in-github",
        "colab_type": "text"
      },
      "source": [
        "<a href=\"https://colab.research.google.com/github/Srestrero/AlgorithmsUN2024II/blob/main/Lab3/srestreporo_Lab3.ipynb\" target=\"_parent\"><img src=\"https://colab.research.google.com/assets/colab-badge.svg\" alt=\"Open In Colab\"/></a>"
      ]
    },
    {
      "cell_type": "code",
      "execution_count": 7,
      "metadata": {
        "colab": {
          "base_uri": "https://localhost:8080/"
        },
        "id": "im-VVd1__7VU",
        "outputId": "c65036b2-3656-4f9c-b79a-07b5b3f34b05"
      },
      "outputs": [
        {
          "output_type": "stream",
          "name": "stdout",
          "text": [
            "processor\t: 0\n",
            "vendor_id\t: GenuineIntel\n",
            "cpu family\t: 6\n",
            "model\t\t: 79\n",
            "model name\t: Intel(R) Xeon(R) CPU @ 2.20GHz\n",
            "stepping\t: 0\n",
            "microcode\t: 0xffffffff\n",
            "cpu MHz\t\t: 2199.998\n",
            "cache size\t: 56320 KB\n",
            "physical id\t: 0\n",
            "siblings\t: 2\n",
            "core id\t\t: 0\n",
            "cpu cores\t: 1\n",
            "apicid\t\t: 0\n",
            "initial apicid\t: 0\n",
            "fpu\t\t: yes\n",
            "fpu_exception\t: yes\n",
            "cpuid level\t: 13\n",
            "wp\t\t: yes\n",
            "flags\t\t: fpu vme de pse tsc msr pae mce cx8 apic sep mtrr pge mca cmov pat pse36 clflush mmx fxsr sse sse2 ss ht syscall nx pdpe1gb rdtscp lm constant_tsc rep_good nopl xtopology nonstop_tsc cpuid tsc_known_freq pni pclmulqdq ssse3 fma cx16 pcid sse4_1 sse4_2 x2apic movbe popcnt aes xsave avx f16c rdrand hypervisor lahf_lm abm 3dnowprefetch invpcid_single ssbd ibrs ibpb stibp fsgsbase tsc_adjust bmi1 hle avx2 smep bmi2 erms invpcid rtm rdseed adx smap xsaveopt arat md_clear arch_capabilities\n",
            "bugs\t\t: cpu_meltdown spectre_v1 spectre_v2 spec_store_bypass l1tf mds swapgs taa mmio_stale_data retbleed bhi\n",
            "bogomips\t: 4399.99\n",
            "clflush size\t: 64\n",
            "cache_alignment\t: 64\n",
            "address sizes\t: 46 bits physical, 48 bits virtual\n",
            "power management:\n",
            "\n",
            "processor\t: 1\n",
            "vendor_id\t: GenuineIntel\n",
            "cpu family\t: 6\n",
            "model\t\t: 79\n",
            "model name\t: Intel(R) Xeon(R) CPU @ 2.20GHz\n",
            "stepping\t: 0\n",
            "microcode\t: 0xffffffff\n",
            "cpu MHz\t\t: 2199.998\n",
            "cache size\t: 56320 KB\n",
            "physical id\t: 0\n",
            "siblings\t: 2\n",
            "core id\t\t: 0\n",
            "cpu cores\t: 1\n",
            "apicid\t\t: 1\n",
            "initial apicid\t: 1\n",
            "fpu\t\t: yes\n",
            "fpu_exception\t: yes\n",
            "cpuid level\t: 13\n",
            "wp\t\t: yes\n",
            "flags\t\t: fpu vme de pse tsc msr pae mce cx8 apic sep mtrr pge mca cmov pat pse36 clflush mmx fxsr sse sse2 ss ht syscall nx pdpe1gb rdtscp lm constant_tsc rep_good nopl xtopology nonstop_tsc cpuid tsc_known_freq pni pclmulqdq ssse3 fma cx16 pcid sse4_1 sse4_2 x2apic movbe popcnt aes xsave avx f16c rdrand hypervisor lahf_lm abm 3dnowprefetch invpcid_single ssbd ibrs ibpb stibp fsgsbase tsc_adjust bmi1 hle avx2 smep bmi2 erms invpcid rtm rdseed adx smap xsaveopt arat md_clear arch_capabilities\n",
            "bugs\t\t: cpu_meltdown spectre_v1 spectre_v2 spec_store_bypass l1tf mds swapgs taa mmio_stale_data retbleed bhi\n",
            "bogomips\t: 4399.99\n",
            "clflush size\t: 64\n",
            "cache_alignment\t: 64\n",
            "address sizes\t: 46 bits physical, 48 bits virtual\n",
            "power management:\n",
            "\n"
          ]
        }
      ],
      "source": [
        "!cat /proc/cpuinfo"
      ]
    },
    {
      "cell_type": "markdown",
      "metadata": {
        "id": "N1ok_-56OjB1"
      },
      "source": [
        "# I Solving the Sum of Two Digits Programming Challenge"
      ]
    },
    {
      "cell_type": "markdown",
      "metadata": {
        "id": "MMY7kmDSO0KM"
      },
      "source": [
        "## C++"
      ]
    },
    {
      "cell_type": "code",
      "execution_count": 8,
      "metadata": {
        "colab": {
          "base_uri": "https://localhost:8080/"
        },
        "id": "2pGGf9BkPNIk",
        "outputId": "fc6c2931-e9da-4c98-96da-bac38362c533"
      },
      "outputs": [
        {
          "output_type": "stream",
          "name": "stdout",
          "text": [
            "Writing APlusB.cpp\n"
          ]
        }
      ],
      "source": [
        "%%writefile APlusB.cpp\n",
        "#include <iostream>\n",
        "\n",
        "int sum_of_two_digits(int first_digit, int second_digit) {\n",
        "    return first_digit + second_digit;\n",
        "}\n",
        "\n",
        "int main() {\n",
        "    int a = 0;\n",
        "    int b = 0;\n",
        "    std::cin >> a;\n",
        "    std::cin >> b;\n",
        "    std::cout << sum_of_two_digits(a, b);\n",
        "    return 0;\n",
        "}"
      ]
    },
    {
      "cell_type": "code",
      "execution_count": 9,
      "metadata": {
        "colab": {
          "base_uri": "https://localhost:8080/"
        },
        "id": "0G3ZKOYAPXSU",
        "outputId": "91a77b93-b7e9-4f51-d485-fbe6920800f0"
      },
      "outputs": [
        {
          "output_type": "stream",
          "name": "stdout",
          "text": [
            "12\n",
            "34\n",
            "46"
          ]
        }
      ],
      "source": [
        "!g++ APlusB.cpp -o APlusB -std=c++11\n",
        "!./APlusB"
      ]
    },
    {
      "cell_type": "markdown",
      "metadata": {
        "id": "iNkG2HqfTl9c"
      },
      "source": [
        "### Test input output files"
      ]
    },
    {
      "cell_type": "code",
      "execution_count": 10,
      "metadata": {
        "colab": {
          "base_uri": "https://localhost:8080/"
        },
        "id": "aTzU2efzMxly",
        "outputId": "b9fc01ec-af0e-43b3-d62d-9526b3cd01ec"
      },
      "outputs": [
        {
          "output_type": "stream",
          "name": "stdout",
          "text": [
            "Writing input1.txt\n"
          ]
        }
      ],
      "source": [
        "%%writefile input1.txt\n",
        "4 8"
      ]
    },
    {
      "cell_type": "code",
      "execution_count": 11,
      "metadata": {
        "colab": {
          "base_uri": "https://localhost:8080/"
        },
        "id": "zBJ0Gc0NQRet",
        "outputId": "27ec76bc-81d3-4397-c6b0-7e9405dc69d0"
      },
      "outputs": [
        {
          "output_type": "stream",
          "name": "stdout",
          "text": [
            "Writing output1.txt\n"
          ]
        }
      ],
      "source": [
        "%%writefile output1.txt\n",
        "12"
      ]
    },
    {
      "cell_type": "code",
      "execution_count": 12,
      "metadata": {
        "colab": {
          "base_uri": "https://localhost:8080/"
        },
        "id": "IjEcIx63PJAN",
        "outputId": "2fd60ce0-2448-4cf4-ad4a-8cbc541ad2eb"
      },
      "outputs": [
        {
          "output_type": "stream",
          "name": "stdout",
          "text": [
            "Writing input2.txt\n"
          ]
        }
      ],
      "source": [
        "%%writefile input2.txt\n",
        "0 9"
      ]
    },
    {
      "cell_type": "code",
      "execution_count": 13,
      "metadata": {
        "colab": {
          "base_uri": "https://localhost:8080/"
        },
        "id": "Up9gOrxURTmd",
        "outputId": "d699291a-7b4d-4320-eda8-03b4566f61f2"
      },
      "outputs": [
        {
          "output_type": "stream",
          "name": "stdout",
          "text": [
            "Writing output2.txt\n"
          ]
        }
      ],
      "source": [
        "%%writefile output2.txt\n",
        "9"
      ]
    },
    {
      "cell_type": "code",
      "execution_count": 14,
      "metadata": {
        "colab": {
          "base_uri": "https://localhost:8080/"
        },
        "id": "PST6G-s-Pwgc",
        "outputId": "a6f2bd61-115a-4bf3-cd5e-2d16350cda68"
      },
      "outputs": [
        {
          "output_type": "stream",
          "name": "stdout",
          "text": [
            "12"
          ]
        }
      ],
      "source": [
        "!./APlusB < input1.txt"
      ]
    },
    {
      "cell_type": "code",
      "execution_count": 15,
      "metadata": {
        "colab": {
          "base_uri": "https://localhost:8080/"
        },
        "id": "cKxZOjSlRfIN",
        "outputId": "c2b07742-9ec3-4818-f16e-42fd0c72000c"
      },
      "outputs": [
        {
          "output_type": "stream",
          "name": "stdout",
          "text": [
            "9"
          ]
        }
      ],
      "source": [
        "!./APlusB < input2.txt"
      ]
    },
    {
      "cell_type": "markdown",
      "metadata": {
        "id": "Qw2TQWCCUwqk"
      },
      "source": [
        "### Comparing files with grep\n",
        "\n",
        "https://askubuntu.com/questions/546796/comparing-two-text-files"
      ]
    },
    {
      "cell_type": "code",
      "execution_count": 16,
      "metadata": {
        "id": "Jlja0Xm4TX9M"
      },
      "outputs": [],
      "source": [
        "!./APlusB < input1.txt> ctest1.txt\n",
        "!grep -xvFf output1.txt ctest1.txt"
      ]
    },
    {
      "cell_type": "code",
      "execution_count": 17,
      "metadata": {
        "id": "g9OIUZA_QLCQ"
      },
      "outputs": [],
      "source": [
        "!./APlusB < input2.txt > ctest2.txt\n",
        "!grep -xvFf output2.txt ctest2.txt"
      ]
    },
    {
      "cell_type": "markdown",
      "metadata": {
        "id": "3BgOaDjUVJk6"
      },
      "source": [
        "## Python"
      ]
    },
    {
      "cell_type": "code",
      "execution_count": 18,
      "metadata": {
        "colab": {
          "base_uri": "https://localhost:8080/"
        },
        "id": "DBvl-T0CTN_8",
        "outputId": "fd89305d-3762-4563-9120-9e0bd17fb937"
      },
      "outputs": [
        {
          "output_type": "stream",
          "name": "stdout",
          "text": [
            "Writing sum.py\n"
          ]
        }
      ],
      "source": [
        "%%writefile sum.py\n",
        "# python3\n",
        "\n",
        "def sum_of_two_digits(first_digit, second_digit):\n",
        "    return first_digit + second_digit\n",
        "\n",
        "if __name__ == '__main__':\n",
        "    a, b = map(int, input().split())\n",
        "    print(sum_of_two_digits(a, b))"
      ]
    },
    {
      "cell_type": "code",
      "execution_count": 19,
      "metadata": {
        "colab": {
          "base_uri": "https://localhost:8080/"
        },
        "id": "QKoKM11_WGyF",
        "outputId": "62b577aa-5d9b-4de5-a68a-9e7ef960dc0e"
      },
      "outputs": [
        {
          "output_type": "stream",
          "name": "stdout",
          "text": [
            "12 34\n",
            "46\n"
          ]
        }
      ],
      "source": [
        "!python sum.py"
      ]
    },
    {
      "cell_type": "code",
      "execution_count": 20,
      "metadata": {
        "id": "cocFbPRTWrqt"
      },
      "outputs": [],
      "source": [
        "!python sum.py  < input1.txt> ptest1.txt\n",
        "!grep -xvFf output1.txt ptest1.txt"
      ]
    },
    {
      "cell_type": "code",
      "execution_count": 21,
      "metadata": {
        "id": "MorKTa-XXASN"
      },
      "outputs": [],
      "source": [
        "!python sum.py  < input2.txt> ptest2.txt\n",
        "!grep -xvFf output2.txt ptest2.txt"
      ]
    },
    {
      "cell_type": "markdown",
      "metadata": {
        "id": "uvP-mOubW_5F"
      },
      "source": [
        "# II Solving The Maximum Pairwise Product Programming Challenge in C++"
      ]
    },
    {
      "cell_type": "markdown",
      "metadata": {
        "id": "C12yoFR6Xonl"
      },
      "source": [
        "## C++\n",
        "\n",
        "$$ T(n) < 6 n^2 = O(n^2)$$"
      ]
    },
    {
      "cell_type": "code",
      "execution_count": 22,
      "metadata": {
        "colab": {
          "base_uri": "https://localhost:8080/"
        },
        "id": "3LpfoGv2Ae81",
        "outputId": "9fccf00a-1f1d-470a-c946-ecd12192c19f"
      },
      "outputs": [
        {
          "output_type": "stream",
          "name": "stdout",
          "text": [
            "Writing max_pairwise_product_full.cpp\n"
          ]
        }
      ],
      "source": [
        "%%writefile max_pairwise_product_full.cpp\n",
        "#include <iostream>\n",
        "#include <vector>\n",
        "#include <algorithm>\n",
        "\n",
        "int MaxPairwiseProduct(const std::vector<int>& numbers) {\n",
        "    int max_product = 0;\n",
        "    int aux_product = 0;\n",
        "    int n = numbers.size();\n",
        "\n",
        "    for (int first = 0; first < n; ++first) {\n",
        "        for (int second = 0; second < n; ++second) {\n",
        "          if ( first != second ){\n",
        "                aux_product = numbers[first] * numbers[second];\n",
        "                if (aux_product > max_product)  max_product = aux_product;\n",
        "          }\n",
        "        }\n",
        "    }\n",
        "\n",
        "    return max_product;\n",
        "}\n",
        "\n",
        "int main() {\n",
        "    int n;\n",
        "    std::cin >> n;\n",
        "    std::vector<int> numbers(n);\n",
        "    for (int i = 0; i < n; ++i) {\n",
        "        std::cin >> numbers[i];\n",
        "    }\n",
        "\n",
        "    std::cout << MaxPairwiseProduct(numbers) << \"\\n\";\n",
        "    return 0;\n",
        "}"
      ]
    },
    {
      "cell_type": "markdown",
      "metadata": {
        "id": "m75IQQPbEHBS"
      },
      "source": [
        "#### Time Complexity\n",
        "$$\\left. \\begin{array}{llc}\n",
        " \\text{INSTRUCTION} & \\text{TYPE}& \\text{# EXECUTIONS}\\\\\n",
        "\\text{first != second} &  \\text{comparisons} &n^2 \\\\\n",
        "\\text{numbers[first] * numbers[second]}& \\ \\text{ products}  &n^2 - n \\\\\n",
        "\\text{max_product = aux_product} &  \\text{assigments} & [1, \\frac{n^2 - n}{2})  \n",
        "\\end{array}\\right\\}  =  O(n^2)$$"
      ]
    },
    {
      "cell_type": "code",
      "execution_count": 23,
      "metadata": {
        "colab": {
          "base_uri": "https://localhost:8080/"
        },
        "id": "PCVo1h6nCF9k",
        "outputId": "258e336e-11fe-44c6-c92f-82f3e9e3ccaa"
      },
      "outputs": [
        {
          "output_type": "stream",
          "name": "stdout",
          "text": [
            "^C\n"
          ]
        }
      ],
      "source": [
        "!g++ max_pairwise_product_full.cpp -o max_pairwise_product_full\n",
        "!./max_pairwise_product_full"
      ]
    },
    {
      "cell_type": "markdown",
      "metadata": {
        "id": "e7KhxHGNS3i0"
      },
      "source": [
        "### Test 1: Small numbers"
      ]
    },
    {
      "cell_type": "code",
      "execution_count": 24,
      "metadata": {
        "colab": {
          "base_uri": "https://localhost:8080/"
        },
        "id": "17npyXt7lYzA",
        "outputId": "d26a927d-321a-4a0f-9398-c4616771f457"
      },
      "outputs": [
        {
          "output_type": "stream",
          "name": "stdout",
          "text": [
            "Writing input0.txt\n"
          ]
        }
      ],
      "source": [
        "%%writefile input0.txt\n",
        "10\n",
        "0 0 0 0 0 0 0 0 0 0"
      ]
    },
    {
      "cell_type": "code",
      "execution_count": 25,
      "metadata": {
        "colab": {
          "base_uri": "https://localhost:8080/"
        },
        "id": "NooGEkJylezm",
        "outputId": "c84d56cb-44e7-4acc-ad28-6c5f23fe2e01"
      },
      "outputs": [
        {
          "output_type": "stream",
          "name": "stdout",
          "text": [
            "Writing output0.txt\n"
          ]
        }
      ],
      "source": [
        "%%writefile output0.txt\n",
        "0"
      ]
    },
    {
      "cell_type": "code",
      "execution_count": 26,
      "metadata": {
        "id": "R0yFaAOrlqrE"
      },
      "outputs": [],
      "source": [
        "!./max_pairwise_product_full< input0.txt > ctest0.txt\n",
        "!grep -xvFf output0.txt ctest0.txt"
      ]
    },
    {
      "cell_type": "code",
      "execution_count": 27,
      "metadata": {
        "colab": {
          "base_uri": "https://localhost:8080/"
        },
        "id": "e1mmTzBgShT-",
        "outputId": "dee5d7c7-cd72-4369-cb3b-f2fafbeebf48"
      },
      "outputs": [
        {
          "output_type": "stream",
          "name": "stdout",
          "text": [
            "Overwriting input1.txt\n"
          ]
        }
      ],
      "source": [
        "%%writefile input1.txt\n",
        "10\n",
        "1 2 3 4 5 6 7 8 9 10"
      ]
    },
    {
      "cell_type": "code",
      "execution_count": 28,
      "metadata": {
        "colab": {
          "base_uri": "https://localhost:8080/"
        },
        "id": "vy_uI0x7TCId",
        "outputId": "68296eef-d100-4ab1-f172-4f6c039d84c5"
      },
      "outputs": [
        {
          "output_type": "stream",
          "name": "stdout",
          "text": [
            "90\n"
          ]
        }
      ],
      "source": [
        "!./max_pairwise_product_full < input1.txt"
      ]
    },
    {
      "cell_type": "code",
      "execution_count": 29,
      "metadata": {
        "colab": {
          "base_uri": "https://localhost:8080/"
        },
        "id": "xaj6f9bxC6D6",
        "outputId": "5477f236-5817-492d-d2e0-37c46151d676"
      },
      "outputs": [
        {
          "output_type": "stream",
          "name": "stdout",
          "text": [
            "Overwriting output1.txt\n"
          ]
        }
      ],
      "source": [
        "%%writefile output1.txt\n",
        "90"
      ]
    },
    {
      "cell_type": "code",
      "execution_count": 30,
      "metadata": {
        "id": "fYCjAdA_C-wy"
      },
      "outputs": [],
      "source": [
        "!./max_pairwise_product_full< input1.txt > ctest1.txt\n",
        "!grep -xvFf output1.txt ctest1.txt"
      ]
    },
    {
      "cell_type": "code",
      "execution_count": 31,
      "metadata": {
        "colab": {
          "base_uri": "https://localhost:8080/"
        },
        "id": "ZPe40LY14_6f",
        "outputId": "2391eebe-0ec8-426a-c411-a58811ad5e1c"
      },
      "outputs": [
        {
          "output_type": "stream",
          "name": "stdout",
          "text": [
            "Overwriting input2.txt\n"
          ]
        }
      ],
      "source": [
        "%%writefile input2.txt\n",
        "10\n",
        "10 9 8 7 6 5 4 3 2 1"
      ]
    },
    {
      "cell_type": "code",
      "execution_count": 32,
      "metadata": {
        "colab": {
          "base_uri": "https://localhost:8080/"
        },
        "id": "xiHmF7HA5Faa",
        "outputId": "87b9a81d-97de-4c77-a0d2-a98903e36e50"
      },
      "outputs": [
        {
          "output_type": "stream",
          "name": "stdout",
          "text": [
            "Overwriting output2.txt\n"
          ]
        }
      ],
      "source": [
        "%%writefile output2.txt\n",
        "90"
      ]
    },
    {
      "cell_type": "code",
      "execution_count": 33,
      "metadata": {
        "id": "jjwc9kwb5t_k"
      },
      "outputs": [],
      "source": [
        "!./max_pairwise_product_full< input2.txt > ctest2.txt\n",
        "!grep -xvFf output2.txt ctest2.txt"
      ]
    },
    {
      "cell_type": "markdown",
      "metadata": {
        "id": "IeZ3kTjpYmR9"
      },
      "source": [
        "### Test 2: largest input numbers 200000 200000 to check possible intger overflow"
      ]
    },
    {
      "cell_type": "code",
      "execution_count": 34,
      "metadata": {
        "colab": {
          "base_uri": "https://localhost:8080/"
        },
        "id": "LQNlZqaqYt7U",
        "outputId": "7157f2da-4ea1-41fc-8b43-64c1ed40520b"
      },
      "outputs": [
        {
          "output_type": "stream",
          "name": "stdout",
          "text": [
            "Writing input3.txt\n"
          ]
        }
      ],
      "source": [
        "%%writefile input3.txt\n",
        "6\n",
        "1 3 200000 9 200000 23"
      ]
    },
    {
      "cell_type": "code",
      "execution_count": 35,
      "metadata": {
        "colab": {
          "base_uri": "https://localhost:8080/"
        },
        "id": "GjQq7QOUCw-9",
        "outputId": "d539d6f5-c725-4de4-a8f5-86f043bcf989"
      },
      "outputs": [
        {
          "output_type": "execute_result",
          "data": {
            "text/plain": [
              "40000000000"
            ]
          },
          "metadata": {},
          "execution_count": 35
        }
      ],
      "source": [
        "200000*200000"
      ]
    },
    {
      "cell_type": "code",
      "execution_count": 36,
      "metadata": {
        "colab": {
          "base_uri": "https://localhost:8080/"
        },
        "id": "EuS6n3jtDK5C",
        "outputId": "998936fd-3cc1-4501-9e97-8860d2628ea0"
      },
      "outputs": [
        {
          "output_type": "stream",
          "name": "stdout",
          "text": [
            "Writing output3.txt\n"
          ]
        }
      ],
      "source": [
        "%%writefile output3.txt\n",
        "40000000000"
      ]
    },
    {
      "cell_type": "code",
      "execution_count": 37,
      "metadata": {
        "colab": {
          "base_uri": "https://localhost:8080/"
        },
        "id": "2Wad2VZUZDxR",
        "outputId": "6497c586-82e8-4c9f-a4b4-b4980c6681b1"
      },
      "outputs": [
        {
          "output_type": "stream",
          "name": "stdout",
          "text": [
            "1345294336\n"
          ]
        }
      ],
      "source": [
        "!./max_pairwise_product_full < input3.txt"
      ]
    },
    {
      "cell_type": "code",
      "execution_count": 38,
      "metadata": {
        "colab": {
          "base_uri": "https://localhost:8080/"
        },
        "id": "pEvp1ieyDJGq",
        "outputId": "ea9ecb45-8695-4837-fe1e-6eb92d794269"
      },
      "outputs": [
        {
          "output_type": "stream",
          "name": "stdout",
          "text": [
            "1345294336\n"
          ]
        }
      ],
      "source": [
        "!./max_pairwise_product_full < input3.txt > ctest3.txt\n",
        "!grep -xvFf output3.txt ctest3.txt"
      ]
    },
    {
      "cell_type": "code",
      "execution_count": 39,
      "metadata": {
        "colab": {
          "base_uri": "https://localhost:8080/"
        },
        "id": "SrtJrKqM-God",
        "outputId": "1ea5ef68-37c3-44d8-a420-57ed36b87f4e"
      },
      "outputs": [
        {
          "output_type": "stream",
          "name": "stdout",
          "text": [
            "Writing run_all_test.sh\n"
          ]
        }
      ],
      "source": [
        " %%writefile run_all_test.sh\n",
        "#!/bin/bash\n",
        "g++ max_pairwise_product_full.cpp -o max_pairwise_product_full\n",
        "for i in {0..3}\n",
        "do\n",
        "    ./max_pairwise_product_full < input$i.txt > ctest$i.txt\n",
        "    grep -xvFf output$i.txt ctest$i.txt\n",
        "done"
      ]
    },
    {
      "cell_type": "code",
      "execution_count": 40,
      "metadata": {
        "colab": {
          "base_uri": "https://localhost:8080/"
        },
        "id": "wGWMHtzS-QnA",
        "outputId": "7ed26897-ada0-403f-fd7d-c0a5babe6bfc"
      },
      "outputs": [
        {
          "output_type": "stream",
          "name": "stdout",
          "text": [
            "1345294336\n"
          ]
        }
      ],
      "source": [
        "!chmod u+x run_all_test.sh\n",
        "!./run_all_test.sh"
      ]
    },
    {
      "cell_type": "markdown",
      "metadata": {
        "id": "H2SC0Qt5HCzz"
      },
      "source": [
        "### Changing the variables to long long"
      ]
    },
    {
      "cell_type": "code",
      "execution_count": 41,
      "metadata": {
        "colab": {
          "base_uri": "https://localhost:8080/"
        },
        "id": "MPcmsxiQZSfE",
        "outputId": "ee47b333-0e4d-40b6-a2be-63a068b159eb"
      },
      "outputs": [
        {
          "output_type": "stream",
          "name": "stdout",
          "text": [
            "Writing max_pairwise_product_long_full.cpp\n"
          ]
        }
      ],
      "source": [
        "%%writefile max_pairwise_product_long_full.cpp\n",
        "#include <iostream>\n",
        "#include <vector>\n",
        "#include <algorithm>\n",
        "\n",
        "long long MaxPairwiseProduct(const std::vector<int>& numbers) {\n",
        "    long long max_product = 0LL;\n",
        "\t  long long aux_product = 0LL;\n",
        "    int n = numbers.size();\n",
        "\n",
        "    for (int first = 0; first < n; ++first) {\n",
        "        for (int second = 0; second < n; ++second) {\n",
        "          if ( first != second){\n",
        "                aux_product = (long long) numbers[first] * numbers[second];\n",
        "                if (aux_product > max_product)  max_product = aux_product;\n",
        "          }\n",
        "        }\n",
        "    }\n",
        "\n",
        "\n",
        "    return max_product;\n",
        "}\n",
        "\n",
        "int main() {\n",
        "    int n;\n",
        "    std::cin >> n;\n",
        "    std::vector<int> numbers(n);\n",
        "    for (int i = 0; i < n; ++i) {\n",
        "        std::cin >> numbers[i];\n",
        "    }\n",
        "\n",
        "    std::cout << MaxPairwiseProduct(numbers) << \"\\n\";\n",
        "    return 0;\n",
        "}\n"
      ]
    },
    {
      "cell_type": "code",
      "execution_count": 42,
      "metadata": {
        "id": "W3xQpFXL6wjO"
      },
      "outputs": [],
      "source": [
        "!g++ max_pairwise_product_long_full.cpp -o max_pairwise_product_long_full"
      ]
    },
    {
      "cell_type": "code",
      "execution_count": 43,
      "metadata": {
        "colab": {
          "base_uri": "https://localhost:8080/"
        },
        "id": "H5dvN9M3R9sV",
        "outputId": "a9b7e81d-54b2-46fc-ac9f-afb9d2212372"
      },
      "outputs": [
        {
          "output_type": "stream",
          "name": "stdout",
          "text": [
            "40000000000\n"
          ]
        }
      ],
      "source": [
        "!./max_pairwise_product_long_full < input3.txt"
      ]
    },
    {
      "cell_type": "markdown",
      "metadata": {
        "id": "gx-sEYdfQ8f8"
      },
      "source": [
        "### Runing multuple test with a bash shell"
      ]
    },
    {
      "cell_type": "code",
      "execution_count": 44,
      "metadata": {
        "colab": {
          "base_uri": "https://localhost:8080/"
        },
        "id": "O9qsq2nn7elw",
        "outputId": "b578dacf-811c-4731-b08b-b7dfa04040d9"
      },
      "outputs": [
        {
          "output_type": "stream",
          "name": "stdout",
          "text": [
            "Overwriting run_all_test.sh\n"
          ]
        }
      ],
      "source": [
        " %%writefile run_all_test.sh\n",
        "#!/bin/bash\n",
        "g++ max_pairwise_product_long_full.cpp -o max_pairwise_product_long_full\n",
        "for i in {1..3}\n",
        "do\n",
        "    ./max_pairwise_product_long_full < input$i.txt > ctest$i.txt\n",
        "    grep -xvFf output$i.txt ctest$i.txt\n",
        "done"
      ]
    },
    {
      "cell_type": "code",
      "execution_count": 45,
      "metadata": {
        "id": "0g5kKVph7xIA"
      },
      "outputs": [],
      "source": [
        "!chmod u+x run_all_test.sh\n",
        "!./run_all_test.sh"
      ]
    },
    {
      "cell_type": "markdown",
      "metadata": {
        "id": "XPVHkHxH6_7s"
      },
      "source": [
        "### Test 3  stress tests, 6 testing cases files input4.txt/output4.txt .. input10.txt/output10.txt\n",
        "\n",
        "---\n",
        "\n"
      ]
    },
    {
      "cell_type": "code",
      "execution_count": 46,
      "metadata": {
        "colab": {
          "base_uri": "https://localhost:8080/"
        },
        "id": "PwqpBmYr69fu",
        "outputId": "2995c070-fdef-4140-9b70-5611e745c25a"
      },
      "outputs": [
        {
          "output_type": "stream",
          "name": "stdout",
          "text": [
            "Writing input4.txt\n"
          ]
        }
      ],
      "source": [
        "%%writefile input4.txt\n",
        "12\n",
        "1 700 4567892 32 12 4 90 3 200000 9 200000 23"
      ]
    },
    {
      "cell_type": "code",
      "execution_count": 47,
      "metadata": {
        "colab": {
          "base_uri": "https://localhost:8080/"
        },
        "id": "yItItVwKBWGJ",
        "outputId": "785574d7-5228-488a-84be-97dfbb929eea"
      },
      "outputs": [
        {
          "output_type": "execute_result",
          "data": {
            "text/plain": [
              "913578400000"
            ]
          },
          "metadata": {},
          "execution_count": 47
        }
      ],
      "source": [
        "4567892 * 200000"
      ]
    },
    {
      "cell_type": "code",
      "execution_count": 48,
      "metadata": {
        "colab": {
          "base_uri": "https://localhost:8080/"
        },
        "id": "jBCkMeR6Fw4y",
        "outputId": "585e211f-2fe3-48c5-8116-f18702654162"
      },
      "outputs": [
        {
          "output_type": "stream",
          "name": "stdout",
          "text": [
            "Writing output4.txt\n"
          ]
        }
      ],
      "source": [
        "%%writefile output4.txt\n",
        "913578400000"
      ]
    },
    {
      "cell_type": "code",
      "execution_count": 49,
      "metadata": {
        "colab": {
          "base_uri": "https://localhost:8080/"
        },
        "id": "zED8V8wu-eoM",
        "outputId": "d6c666c8-e1fb-490a-e720-86855026b1df"
      },
      "outputs": [
        {
          "output_type": "stream",
          "name": "stdout",
          "text": [
            "Writing input5.txt\n"
          ]
        }
      ],
      "source": [
        "%%writefile input5.txt\n",
        "15\n",
        "1 800 5678901 45 13 5 100 4 300000 10 300000 24 6000000 7000000 8"
      ]
    },
    {
      "cell_type": "code",
      "execution_count": 50,
      "metadata": {
        "colab": {
          "base_uri": "https://localhost:8080/"
        },
        "id": "6WXsQweijdIf",
        "outputId": "0ac88498-a397-4e9a-8e9f-e4ee55b98563"
      },
      "outputs": [
        {
          "output_type": "execute_result",
          "data": {
            "text/plain": [
              "42000000000000"
            ]
          },
          "metadata": {},
          "execution_count": 50
        }
      ],
      "source": [
        "7000000 * 6000000"
      ]
    },
    {
      "cell_type": "code",
      "execution_count": 51,
      "metadata": {
        "colab": {
          "base_uri": "https://localhost:8080/"
        },
        "id": "XQ6njkDyjdgV",
        "outputId": "bfe408d0-5f70-410b-a18e-1dfa100e6cb2"
      },
      "outputs": [
        {
          "output_type": "stream",
          "name": "stdout",
          "text": [
            "Writing output5.txt\n"
          ]
        }
      ],
      "source": [
        "%%writefile output5.txt\n",
        "42000000000000"
      ]
    },
    {
      "cell_type": "code",
      "execution_count": 52,
      "metadata": {
        "colab": {
          "base_uri": "https://localhost:8080/"
        },
        "id": "LVSqcdHoje7w",
        "outputId": "10bdf30d-2df2-4316-c177-261f57edf702"
      },
      "outputs": [
        {
          "output_type": "stream",
          "name": "stdout",
          "text": [
            "Writing input6.txt\n"
          ]
        }
      ],
      "source": [
        "%%writefile input6.txt\n",
        "18\n",
        "1 1000 8901234 50 15 6 150 5 500000 12 500000 30 9000000 10000000 9 12000000 15000000 7"
      ]
    },
    {
      "cell_type": "code",
      "execution_count": 53,
      "metadata": {
        "colab": {
          "base_uri": "https://localhost:8080/"
        },
        "id": "gBOcxhBjje3V",
        "outputId": "0b1e0c09-8afe-4d06-ad42-8425cd71a081"
      },
      "outputs": [
        {
          "output_type": "execute_result",
          "data": {
            "text/plain": [
              "180000000000000"
            ]
          },
          "metadata": {},
          "execution_count": 53
        }
      ],
      "source": [
        "15000000 * 12000000"
      ]
    },
    {
      "cell_type": "code",
      "execution_count": 54,
      "metadata": {
        "colab": {
          "base_uri": "https://localhost:8080/"
        },
        "id": "kS7LvxFtkOar",
        "outputId": "5c740b41-1a36-4ac9-8d6c-3691f52e490d"
      },
      "outputs": [
        {
          "output_type": "stream",
          "name": "stdout",
          "text": [
            "Writing output6.txt\n"
          ]
        }
      ],
      "source": [
        "%%writefile output6.txt\n",
        "180000000000000"
      ]
    },
    {
      "cell_type": "code",
      "execution_count": 55,
      "metadata": {
        "colab": {
          "base_uri": "https://localhost:8080/"
        },
        "id": "t_6HAcbzjexI",
        "outputId": "d35c35a5-52f4-456e-b919-277e255c8892"
      },
      "outputs": [
        {
          "output_type": "stream",
          "name": "stdout",
          "text": [
            "Writing input7.txt\n"
          ]
        }
      ],
      "source": [
        "%%writefile input7.txt\n",
        "20\n",
        "2 2000 12345678 60 18 8 200 6 800000 15 800000 35 20000000 25000000 10 30000000 40000000 9 45000000 50000000"
      ]
    },
    {
      "cell_type": "code",
      "execution_count": 56,
      "metadata": {
        "colab": {
          "base_uri": "https://localhost:8080/"
        },
        "id": "8VSCvE1akRUT",
        "outputId": "c5e5cd5f-ba78-48d8-bced-bce9098207f5"
      },
      "outputs": [
        {
          "output_type": "execute_result",
          "data": {
            "text/plain": [
              "2250000000000000"
            ]
          },
          "metadata": {},
          "execution_count": 56
        }
      ],
      "source": [
        "50000000 * 45000000"
      ]
    },
    {
      "cell_type": "code",
      "execution_count": 57,
      "metadata": {
        "colab": {
          "base_uri": "https://localhost:8080/"
        },
        "id": "fIfIJSC-jeuP",
        "outputId": "a1836131-bfe9-4975-d7fa-02be1fc564aa"
      },
      "outputs": [
        {
          "output_type": "stream",
          "name": "stdout",
          "text": [
            "Writing output7.txt\n"
          ]
        }
      ],
      "source": [
        "%%writefile output7.txt\n",
        "2250000000000000"
      ]
    },
    {
      "cell_type": "code",
      "execution_count": 58,
      "metadata": {
        "colab": {
          "base_uri": "https://localhost:8080/"
        },
        "id": "AQM0C0w_jeq_",
        "outputId": "881b4bfa-1bbe-4e1d-da55-7200ec2ae172"
      },
      "outputs": [
        {
          "output_type": "stream",
          "name": "stdout",
          "text": [
            "Writing input8.txt\n"
          ]
        }
      ],
      "source": [
        "%%writefile input8.txt\n",
        "22\n",
        "3 3000 23456789 70 20 10 300 7 1000000 18 1000000 40 50000000 60000000 12 70000000 80000000 11 90000000 100000000 110000000 120000000"
      ]
    },
    {
      "cell_type": "code",
      "execution_count": 59,
      "metadata": {
        "colab": {
          "base_uri": "https://localhost:8080/"
        },
        "id": "yomuZuBTjen9",
        "outputId": "b9de508f-2c60-409f-9428-c987ac9e4050"
      },
      "outputs": [
        {
          "output_type": "execute_result",
          "data": {
            "text/plain": [
              "13200000000000000"
            ]
          },
          "metadata": {},
          "execution_count": 59
        }
      ],
      "source": [
        "120000000 * 110000000"
      ]
    },
    {
      "cell_type": "code",
      "execution_count": 60,
      "metadata": {
        "colab": {
          "base_uri": "https://localhost:8080/"
        },
        "id": "Qc4SDE2jjekI",
        "outputId": "a0971c6b-80d3-47a7-e91d-0e8a0277cf06"
      },
      "outputs": [
        {
          "output_type": "stream",
          "name": "stdout",
          "text": [
            "Writing output8.txt\n"
          ]
        }
      ],
      "source": [
        "%%writefile output8.txt\n",
        "13200000000000000"
      ]
    },
    {
      "cell_type": "code",
      "execution_count": 61,
      "metadata": {
        "colab": {
          "base_uri": "https://localhost:8080/"
        },
        "id": "rollaneLjegD",
        "outputId": "31cf6be4-3bdb-4802-d2fc-be7968d8a8a7"
      },
      "outputs": [
        {
          "output_type": "stream",
          "name": "stdout",
          "text": [
            "Writing input9.txt\n"
          ]
        }
      ],
      "source": [
        "%%writefile input9.txt\n",
        "25\n",
        "4 4000 34567890 80 25 12 400 8 2000000 20 2000000 45 150000000 160000000 15 170000000 180000000 13 190000000 200000000 210000000 220000000 230000000 240000000 250000000"
      ]
    },
    {
      "cell_type": "code",
      "execution_count": 62,
      "metadata": {
        "colab": {
          "base_uri": "https://localhost:8080/"
        },
        "id": "yND1186Vjecl",
        "outputId": "86459418-9136-4dc7-dd0e-92a2442edc19"
      },
      "outputs": [
        {
          "output_type": "execute_result",
          "data": {
            "text/plain": [
              "60000000000000000"
            ]
          },
          "metadata": {},
          "execution_count": 62
        }
      ],
      "source": [
        "250000000 * 240000000"
      ]
    },
    {
      "cell_type": "code",
      "execution_count": 63,
      "metadata": {
        "colab": {
          "base_uri": "https://localhost:8080/"
        },
        "id": "SoGTUj6AjeYy",
        "outputId": "e4587e47-8820-4c60-91b3-ad317c2a1de0"
      },
      "outputs": [
        {
          "output_type": "stream",
          "name": "stdout",
          "text": [
            "Writing output9.txt\n"
          ]
        }
      ],
      "source": [
        "%%writefile output9.txt\n",
        "60000000000000000"
      ]
    },
    {
      "cell_type": "code",
      "execution_count": 64,
      "metadata": {
        "colab": {
          "base_uri": "https://localhost:8080/"
        },
        "id": "elVa3zpAjeOO",
        "outputId": "8a5abb84-c818-4525-ac7c-eb6bd98ae429"
      },
      "outputs": [
        {
          "output_type": "stream",
          "name": "stdout",
          "text": [
            "Writing input10.txt\n"
          ]
        }
      ],
      "source": [
        "%%writefile input10.txt\n",
        "30\n",
        "5 5000 45678901 100 30 15 500 10 3000000 25 3000000 50 300000000 350000000 18 400000000 450000000 16 500000000 600000000 650000000 700000000 750000000 800000000 850000000 900000000 950000000 999999999 1000000000 1000000000"
      ]
    },
    {
      "cell_type": "code",
      "execution_count": 65,
      "metadata": {
        "colab": {
          "base_uri": "https://localhost:8080/"
        },
        "id": "_ezgLaBrjeCt",
        "outputId": "4b018a67-364c-4cad-deaf-7835a1f04316"
      },
      "outputs": [
        {
          "output_type": "execute_result",
          "data": {
            "text/plain": [
              "1000000000000000000"
            ]
          },
          "metadata": {},
          "execution_count": 65
        }
      ],
      "source": [
        "1000000000 * 1000000000"
      ]
    },
    {
      "cell_type": "code",
      "execution_count": 66,
      "metadata": {
        "colab": {
          "base_uri": "https://localhost:8080/"
        },
        "id": "2K09sCJjk6lm",
        "outputId": "0df4d29c-5a72-482a-9261-a3b0430ad66b"
      },
      "outputs": [
        {
          "output_type": "stream",
          "name": "stdout",
          "text": [
            "Writing output10.txt\n"
          ]
        }
      ],
      "source": [
        "%%writefile output10.txt\n",
        "1000000000000000000"
      ]
    },
    {
      "cell_type": "markdown",
      "metadata": {
        "id": "9z9yr5QkeyJF"
      },
      "source": [
        "### Test 4  time test  measure the execution time running with the the largest worst cases input11.txt  (200000 increasing numbers) and input12.txt (199998 increasing numbers and  200000, 200000 at the end)"
      ]
    },
    {
      "cell_type": "code",
      "execution_count": 67,
      "metadata": {
        "colab": {
          "base_uri": "https://localhost:8080/"
        },
        "id": "UmB1ipWM_nSk",
        "outputId": "59f3e081-0008-4f62-c307-5bd2c43a6c4d"
      },
      "outputs": [
        {
          "output_type": "stream",
          "name": "stdout",
          "text": [
            "Writing WriteTest.cpp\n"
          ]
        }
      ],
      "source": [
        "# input11.txt 200000 increasing numbers:  1 2 .. 200000\n",
        "\n",
        "%%writefile WriteTest.cpp\n",
        "\n",
        "#include <iostream>\n",
        "#include <fstream>\n",
        "#include <cstdlib>\n",
        "\n",
        "using namespace std;\n",
        "\n",
        "int main() {\n",
        "  // Create and open a text file\n",
        "  ofstream MyFile(\"input11.txt\");\n",
        "\n",
        " MyFile << 200000 <<\"\\n\";  // n\n",
        " for (int i=1; i <200001; i++){\n",
        "     MyFile << i <<\" \";\n",
        " }\n",
        "\n",
        "  // Close the file\n",
        "  MyFile.close();\n",
        "}"
      ]
    },
    {
      "cell_type": "code",
      "execution_count": 68,
      "metadata": {
        "id": "EH25TkOkZfD9"
      },
      "outputs": [],
      "source": [
        "!g++ WriteTest.cpp -o WriteTest\n",
        "!./WriteTest"
      ]
    },
    {
      "cell_type": "code",
      "execution_count": 69,
      "metadata": {
        "colab": {
          "base_uri": "https://localhost:8080/"
        },
        "id": "j0mokSOnCCtZ",
        "outputId": "7e9048a0-4ffd-4cae-c3ac-1178a5b06bd2"
      },
      "outputs": [
        {
          "output_type": "execute_result",
          "data": {
            "text/plain": [
              "39999800000"
            ]
          },
          "metadata": {},
          "execution_count": 69
        }
      ],
      "source": [
        "199999 * 200000"
      ]
    },
    {
      "cell_type": "code",
      "execution_count": 70,
      "metadata": {
        "colab": {
          "base_uri": "https://localhost:8080/"
        },
        "id": "VoDhDV73B5Mo",
        "outputId": "0a84b57a-bb4d-44b8-fecb-cf2b8228c968"
      },
      "outputs": [
        {
          "output_type": "stream",
          "name": "stdout",
          "text": [
            "Writing output11.txt\n"
          ]
        }
      ],
      "source": [
        "%%writefile output11.txt\n",
        "39999800000"
      ]
    },
    {
      "cell_type": "code",
      "execution_count": 71,
      "metadata": {
        "colab": {
          "base_uri": "https://localhost:8080/"
        },
        "id": "oLiMjbAIfPlX",
        "outputId": "33ccd1cb-0ec3-43e8-fe14-0874d09b8f56"
      },
      "outputs": [
        {
          "output_type": "stream",
          "name": "stdout",
          "text": [
            "Overwriting WriteTest.cpp\n"
          ]
        }
      ],
      "source": [
        "# input12.txt 200000 decreasing numbers and 200000, 199999 ...  2 1\n",
        "\n",
        "%%writefile WriteTest.cpp\n",
        "\n",
        "#include <iostream>\n",
        "#include <fstream>\n",
        "#include <cstdlib>\n",
        "\n",
        "using namespace std;\n",
        "\n",
        "int main() {\n",
        "  // Create and open a text file\n",
        "  ofstream MyFile(\"input12.txt\");\n",
        "\n",
        " MyFile << 200000 <<\"\\n\";  // n\n",
        " for (int i=1; i <200001; i++){\n",
        "     MyFile << 200001-i <<\" \";\n",
        " }\n",
        "\n",
        "  // Close the file\n",
        "  MyFile.close();\n",
        "}"
      ]
    },
    {
      "cell_type": "code",
      "execution_count": 72,
      "metadata": {
        "id": "oULNBr_zAd9c"
      },
      "outputs": [],
      "source": [
        "!g++ WriteTest.cpp -o WriteTest\n",
        "!./WriteTest"
      ]
    },
    {
      "cell_type": "code",
      "execution_count": 73,
      "metadata": {
        "colab": {
          "base_uri": "https://localhost:8080/"
        },
        "id": "PQLyocaFB-y4",
        "outputId": "e1714087-290d-4917-ebb3-5cc932d54abe"
      },
      "outputs": [
        {
          "output_type": "stream",
          "name": "stdout",
          "text": [
            "Writing output12.txt\n"
          ]
        }
      ],
      "source": [
        "%%writefile output12.txt\n",
        "39999800000"
      ]
    },
    {
      "cell_type": "markdown",
      "metadata": {
        "id": "JB6f03qO-lj9"
      },
      "source": [
        "### Measure time\n",
        "\n",
        "https://askubuntu.com/questions/53444/how-can-i-measure-the-execution-time-of-a-terminal-process"
      ]
    },
    {
      "cell_type": "code",
      "execution_count": 74,
      "metadata": {
        "colab": {
          "base_uri": "https://localhost:8080/"
        },
        "id": "6p2QLEr576zk",
        "outputId": "4763fb4f-07a6-4174-9f6c-43b5a70d6e98"
      },
      "outputs": [
        {
          "output_type": "stream",
          "name": "stdout",
          "text": [
            "^C\n"
          ]
        }
      ],
      "source": [
        "!g++ max_pairwise_product_long_full.cpp -o max_pairwise_product_long_full\n",
        "!time ./max_pairwise_product_long_full< input11.txt"
      ]
    },
    {
      "cell_type": "code",
      "execution_count": 75,
      "metadata": {
        "colab": {
          "base_uri": "https://localhost:8080/"
        },
        "id": "cnjCyeUdAnZj",
        "outputId": "a70af8ab-1f12-48a2-b4cb-219a2547356c"
      },
      "outputs": [
        {
          "output_type": "stream",
          "name": "stdout",
          "text": [
            "^C\n"
          ]
        }
      ],
      "source": [
        "!g++ max_pairwise_product_long_full.cpp -o max_pairwise_product_long_full\n",
        "!time ./max_pairwise_product_long_full< input12.txt"
      ]
    },
    {
      "cell_type": "markdown",
      "metadata": {
        "id": "FXClpBsUJuXC"
      },
      "source": [
        "### Calculate the number or and upper bound to the number of instructions executed by the algorithm as a function of n, add in each line a comment with the number of instructions that are executed in that line."
      ]
    },
    {
      "cell_type": "code",
      "execution_count": 76,
      "metadata": {
        "colab": {
          "base_uri": "https://localhost:8080/"
        },
        "id": "uG6Mv-Pwlkii",
        "outputId": "c54088b5-491b-4c2c-9945-7c4da8cec466"
      },
      "outputs": [
        {
          "output_type": "stream",
          "name": "stdout",
          "text": [
            "Overwriting max_pairwise_product_long_full.cpp\n"
          ]
        }
      ],
      "source": [
        "%%writefile max_pairwise_product_long_full.cpp\n",
        "#include <iostream>\n",
        "#include <vector>\n",
        "#include <algorithm>\n",
        "\n",
        "long long MaxPairwiseProduct(const std::vector<int>& numbers) {              //INSTRUCTIONS executed by line\n",
        "    long long max_product = 0LL;                                             //1\n",
        "\t  long long aux_product = 0LL;                                             //1\n",
        "    int n = numbers.size();                                                  //1\n",
        "\n",
        "    for (int first = 0; first < n; ++first) {                                //2+2n\n",
        "        for (int second = 0; second < n; ++second) {                         //2n + 2n**2\n",
        "          if ( first != second ){                                            //n**2\n",
        "                aux_product = numbers[first] * numbers[second];              //n**2 -n\n",
        "                if (aux_product > max_product)                               //n**2 -n\n",
        "                    max_product = aux_product;                               //[0, n**2/2 - n/2] upper bound\n",
        "          }\n",
        "        }\n",
        "    }\n",
        "\n",
        "                                                                             // --------------\n",
        "    return max_product;                                                      // 5 + 2*n + [5*n**2, 11*n**2/2  - n/2]  upper bound\n",
        "}\n",
        "\n",
        "int main() {                                              //INSTRUCTIONS executed by line\n",
        "    int n;                                                //1\n",
        "    std::cin >> n;                                        //1\n",
        "    std::vector<int> numbers(n);                          //n\n",
        "    for (int i = 0; i < n; ++i) {                         //2 + 2n\n",
        "        std::cin >> numbers[i];                           //n\n",
        "    }\n",
        "\n",
        "    std::cout << MaxPairwiseProduct(numbers) << \"\\n\";     //1 + 1  + 5 + 2*n + [5*n**2, 11*n**2/2  - n/2]\n",
        "\n",
        "    return 0;                                             // --------------\n",
        "}                                                         //  11 + 6*n + [5*n**2, 11*n**2/2  - n/2]  upper bound\n"
      ]
    },
    {
      "cell_type": "markdown",
      "metadata": {
        "id": "0vTsUg8OwcHs"
      },
      "source": [
        "### Count executed intructions in code\n",
        "\n",
        "\n"
      ]
    },
    {
      "cell_type": "code",
      "execution_count": 77,
      "metadata": {
        "colab": {
          "base_uri": "https://localhost:8080/"
        },
        "id": "CuRKkqQc137V",
        "outputId": "1780e340-142c-4eb2-e650-2f0c8457e3d8"
      },
      "outputs": [
        {
          "output_type": "stream",
          "name": "stdout",
          "text": [
            "Writing max_pairwise_product_long_full_execints.cpp\n"
          ]
        }
      ],
      "source": [
        "%%writefile max_pairwise_product_long_full_execints.cpp\n",
        "#include <iostream>\n",
        "#include <vector>\n",
        "#include <algorithm>\n",
        "\n",
        "long long MaxPairwiseProduct(const std::vector<int>& numbers, long long &execints) {      //INSTRUCTIONS executed by line\n",
        "\n",
        "    long long max_product = 0LL;                                                          //1\n",
        "    execints++;\n",
        "\n",
        "\t  long long aux_product = 0LL;                                                          //1\n",
        "    execints++;\n",
        "\n",
        "    int n = numbers.size();                                                               //1\n",
        "    execints++;\n",
        "\n",
        "    execints++;\n",
        "    for (int first = 0; first < n; ++first) {                                             //2+2n\n",
        "        execints += 2;\n",
        "\n",
        "        execints++;\n",
        "        for (int second = 0; second < n; ++second) {                                       //2n + 2n**2\n",
        "          execints += 2;\n",
        "\n",
        "          execints++;\n",
        "          if ( first != second ){                                                         //n**2\n",
        "                aux_product = numbers[first] * numbers[second];                           //n**2 -n\n",
        "                execints++;\n",
        "\n",
        "                execints++;\n",
        "                if (aux_product > max_product){                                           //n**2 -n\n",
        "                    max_product = aux_product;                                            //[0,n**2/2 - n/2)  upper bound\n",
        "                    execints++;\n",
        "\n",
        "                }\n",
        "        }\n",
        "\n",
        "      }\n",
        "      execints++;\n",
        "    }\n",
        "    execints++;\n",
        "                                                                                        // --------------\n",
        "    return max_product;                                                                 // 5 + 2*n + [5*n**2, 11*n**2/2  - n/2] upper bound\n",
        "}\n",
        "\n",
        "int main() {                                                 //INSTRUCTIONS executed by line\n",
        "\n",
        "    long long execints =0LL;\n",
        "\n",
        "    int n;                                                   //1\n",
        "    execints++;\n",
        "\n",
        "    std::cin >> n;                                           //1\n",
        "    execints++;\n",
        "\n",
        "    std::vector<int> numbers(n);                             //n\n",
        "    execints += n;\n",
        "\n",
        "    execints++;\n",
        "    for (int i = 0; i < n; ++i) {                            //2 + 2n\n",
        "        execints += 2;\n",
        "\n",
        "        std::cin >> numbers[i];\n",
        "        execints++;                                          //n\n",
        "\n",
        "    }\n",
        "\n",
        "\n",
        "    //std::cout << MaxPairwiseProduct(numbers) << \"\\n\";      //1 + 1  + 5 + 2*n + [5*n**2, 11*n**2/2  - n/2] upper bound\n",
        "\n",
        "    execints++;\n",
        "    int M = MaxPairwiseProduct(numbers,execints);\n",
        "\n",
        "    execints++;\n",
        "    std::cout <<  execints << \"\\n\";\n",
        "    return 0;                                                // --------------\n",
        "}                                                            // 11 + 6*n + [5*n**2, 11*n**2/2  - n/2]"
      ]
    },
    {
      "cell_type": "markdown",
      "metadata": {
        "id": "cUjHtvtdDsmr"
      },
      "source": [
        "The number of instructions executed by the algooirithm with a list of size $n$ is  \n",
        "\n",
        "$$T (n) = 11 + 6n + \\left[5n^2, 11\\frac{n^2}{2}  - \\frac{n}{2}\\right)  >  6n^2 = O(n^2)$$\n",
        "\n",
        "It depends on the size of the lists and  the order of the list.\n",
        "\n",
        "For the input0.txt\n",
        "```\n",
        "10\n",
        "0 0 0 0 0 0 0 0 0 0\n",
        "```\n",
        "$$T = 11 + 6(10) + 5(10)^2   = 561 $$\n",
        "\n",
        "$$T(10) \\in [571, 621)  $$\n"
      ]
    },
    {
      "cell_type": "code",
      "execution_count": 78,
      "metadata": {
        "colab": {
          "base_uri": "https://localhost:8080/"
        },
        "id": "Om9Fevb0miAT",
        "outputId": "7c2ad7e2-a19d-44ca-98dc-cb525891719f"
      },
      "outputs": [
        {
          "output_type": "stream",
          "name": "stdout",
          "text": [
            "570\n"
          ]
        }
      ],
      "source": [
        "!g++ max_pairwise_product_long_full_execints.cpp -o max_pairwise_product_long_full_execints\n",
        "!./max_pairwise_product_long_full_execints < input0.txt"
      ]
    },
    {
      "cell_type": "markdown",
      "metadata": {
        "id": "FwJzZ6VzmArY"
      },
      "source": [
        "For the input1.txt\n",
        "```\n",
        "10\n",
        "1 2 3 4 5 6 7 8 9 10\n",
        "```\n",
        "$$T = 11 + 6(10) + 5(10)^2 +  9 + 5 + 4 + 3 + 2 + 2 + 2 + 2 + 1 + 0  = 601 $$\n",
        "\n",
        "$$T(10) \\in [572, 622)  $$\n"
      ]
    },
    {
      "cell_type": "code",
      "execution_count": 79,
      "metadata": {
        "id": "K59xQMWiBNFj"
      },
      "outputs": [],
      "source": [
        "#The number of times that  max_product = aux_product; in the worst case is less than (n**2 -n)/2 -  upper bound\n",
        "\n",
        "#     1  2  3  4  5  6  7  8  9  10\n",
        "#  1  x  2  3  4  5  6  7  8  9  10         9\n",
        "#  2  2  x  6  8  10 12 14 16 18 20         5 14\n",
        "#  3  3  6  x  12 15 18 21 24 27 30         4 18\n",
        "#  4  4  8  12 x  20 24 28 32 36 40         3 21\n",
        "#  5  5  10 15 20 x  30 35 40 45 50         2 23\n",
        "#  6  6  12 18 24 30 x  42 48 54 60         2 25\n",
        "#  7  7  14 21 28 35 42 x  56 63 70         2 27\n",
        "#  8  8  18 27 36 45 54 63 72 x  90         1 30\n",
        "#  10 10 20 30 40 50 60 70 60 90 x          0"
      ]
    },
    {
      "cell_type": "code",
      "execution_count": 80,
      "metadata": {
        "colab": {
          "base_uri": "https://localhost:8080/"
        },
        "id": "E3O8dzFfEgir",
        "outputId": "a352c1bb-7756-404c-bdd6-898f26a9f503"
      },
      "outputs": [
        {
          "output_type": "execute_result",
          "data": {
            "text/plain": [
              "601"
            ]
          },
          "metadata": {},
          "execution_count": 80
        }
      ],
      "source": [
        "11 + 6*(10) + 5*(10)*(10) +  9 + 5 + 4 + 3 + 2 + 2 + 2 + 2 + 1 + 0"
      ]
    },
    {
      "cell_type": "code",
      "execution_count": 81,
      "metadata": {
        "colab": {
          "base_uri": "https://localhost:8080/"
        },
        "id": "TCpdl5u_Gq1a",
        "outputId": "847dff56-525d-44a9-8cd1-1bcaa3e3bf08"
      },
      "outputs": [
        {
          "output_type": "stream",
          "name": "stdout",
          "text": [
            "[ 571 , 621.0 )\n"
          ]
        }
      ],
      "source": [
        "n = 10\n",
        "print( \"[\", 11 + 6*n + 5*n**2,  \",\", 11 + 6*n  + 5.5*n**2, \")\")"
      ]
    },
    {
      "cell_type": "code",
      "execution_count": 82,
      "metadata": {
        "colab": {
          "base_uri": "https://localhost:8080/"
        },
        "id": "Kuvm1C05ly2a",
        "outputId": "685fc930-c232-476a-ac54-80cb696a8a67"
      },
      "outputs": [
        {
          "output_type": "stream",
          "name": "stdout",
          "text": [
            "600\n"
          ]
        }
      ],
      "source": [
        "!g++ max_pairwise_product_long_full_execints.cpp -o max_pairwise_product_long_full_execints\n",
        "!./max_pairwise_product_long_full_execints < input1.txt"
      ]
    },
    {
      "cell_type": "markdown",
      "metadata": {
        "id": "Yr_Lb7CaHfxB"
      },
      "source": [
        "\n",
        "For the input2.txt\n",
        "```\n",
        "10\n",
        "10 9 8 7 6 5 4 3 2 1\n",
        "```\n",
        "$$T = 11 + 6*(10) + 5*(10)**2 +  1  = 571 $$"
      ]
    },
    {
      "cell_type": "code",
      "execution_count": 83,
      "metadata": {
        "colab": {
          "base_uri": "https://localhost:8080/"
        },
        "id": "HOdqlwJiZUIp",
        "outputId": "cd397742-d8b0-4963-9785-2b03552420a3"
      },
      "outputs": [
        {
          "output_type": "execute_result",
          "data": {
            "text/plain": [
              "572"
            ]
          },
          "metadata": {},
          "execution_count": 83
        }
      ],
      "source": [
        "11 + 6*(10) + 5*(10)**2 +  1"
      ]
    },
    {
      "cell_type": "code",
      "execution_count": 84,
      "metadata": {
        "colab": {
          "base_uri": "https://localhost:8080/"
        },
        "id": "_znzLectjFSe",
        "outputId": "a5516528-51a1-42c5-bf7f-6191e253c32b"
      },
      "outputs": [
        {
          "output_type": "stream",
          "name": "stdout",
          "text": [
            "571\n"
          ]
        }
      ],
      "source": [
        "!g++ max_pairwise_product_long_full_execints.cpp -o max_pairwise_product_long_full_execints\n",
        "!./max_pairwise_product_long_full_execints < input2.txt"
      ]
    },
    {
      "cell_type": "markdown",
      "metadata": {
        "id": "NXW7QkoBL6xH"
      },
      "source": [
        "Calculate estimated time by instruction and number of instructions by second"
      ]
    },
    {
      "cell_type": "markdown",
      "metadata": {
        "id": "dlyRjaohz-YH"
      },
      "source": [
        "For the input11.txt\n",
        "```\n",
        "200000\n",
        "1 2 ..  199999 2000\n",
        "```\n",
        "$$T = 11 + 6*(200000) + 5.5*(200000)**2  = 200001200012  $$"
      ]
    },
    {
      "cell_type": "code",
      "execution_count": 85,
      "metadata": {
        "colab": {
          "base_uri": "https://localhost:8080/"
        },
        "id": "BMH8mF3EKn2w",
        "outputId": "97ccb4bf-3c17-4304-813e-80e25d86804e"
      },
      "outputs": [
        {
          "output_type": "stream",
          "name": "stdout",
          "text": [
            "^C\n"
          ]
        }
      ],
      "source": [
        "!g++ max_pairwise_product_long_full_execints.cpp -o max_pairwise_product_long_full_execints\n",
        "!./max_pairwise_product_long_full_execints < input11.txt"
      ]
    },
    {
      "cell_type": "code",
      "execution_count": 86,
      "metadata": {
        "colab": {
          "base_uri": "https://localhost:8080/"
        },
        "id": "pKqB3i7dIxnc",
        "outputId": "51cb79b7-0063-4ad8-af10-0ba2891a5b00"
      },
      "outputs": [
        {
          "output_type": "execute_result",
          "data": {
            "text/plain": [
              "1.4749765693187072e-09"
            ]
          },
          "metadata": {},
          "execution_count": 86
        }
      ],
      "source": [
        "# Estimated time by instruction\n",
        "\n",
        "295/200003177092\n"
      ]
    },
    {
      "cell_type": "code",
      "execution_count": 87,
      "metadata": {
        "colab": {
          "base_uri": "https://localhost:8080/"
        },
        "id": "18N1ouqeMhE1",
        "outputId": "ab15b46d-8e1e-421f-fe19-bc9ee8f5a3e5"
      },
      "outputs": [
        {
          "output_type": "execute_result",
          "data": {
            "text/plain": [
              "677976871.4983051"
            ]
          },
          "metadata": {},
          "execution_count": 87
        }
      ],
      "source": [
        "# Estimated number of instructions by second\n",
        "\n",
        "200003177092/295"
      ]
    },
    {
      "cell_type": "markdown",
      "metadata": {
        "id": "KyuxejFkL5X_"
      },
      "source": [
        "### Estimate and verify the maximun n that can be solved in 1 second\n",
        "\n",
        "$$(5.5n^2 + 5.5n + 11) \\times 1.47*10^{-9} s = 1 s$$\n",
        "\n",
        "$$ n \\approx 11000$$\n"
      ]
    },
    {
      "cell_type": "code",
      "execution_count": 88,
      "metadata": {
        "colab": {
          "base_uri": "https://localhost:8080/"
        },
        "id": "WXu5jp-DLTOI",
        "outputId": "55ca8b7d-d385-4602-95dd-4220258275dd"
      },
      "outputs": [
        {
          "output_type": "stream",
          "name": "stdout",
          "text": [
            "Overwriting WriteTest.cpp\n"
          ]
        }
      ],
      "source": [
        "# Verify input13.txt\n",
        "%%writefile WriteTest.cpp\n",
        "\n",
        "#include <iostream>\n",
        "#include <fstream>\n",
        "#include <cstdlib>\n",
        "\n",
        "using namespace std;\n",
        "\n",
        "int main() {\n",
        "  // Create and open a text file\n",
        "  ofstream MyFile(\"input13.txt\");\n",
        "\n",
        " MyFile << 11000 <<\"\\n\";  // n\n",
        " for (int i=1; i <11001; i++){\n",
        "     MyFile << i <<\" \";\n",
        " }\n",
        "\n",
        "  // Close the file\n",
        "  MyFile.close();\n",
        "}"
      ]
    },
    {
      "cell_type": "code",
      "execution_count": 89,
      "metadata": {
        "id": "AQ8N52pUMCeT"
      },
      "outputs": [],
      "source": [
        "!g++ WriteTest.cpp -o WriteTest\n",
        "!./WriteTest"
      ]
    },
    {
      "cell_type": "code",
      "execution_count": 90,
      "metadata": {
        "colab": {
          "base_uri": "https://localhost:8080/"
        },
        "id": "2iIOdbTrEtBx",
        "outputId": "fc560db5-d909-4a6e-8f40-a250517cf89b"
      },
      "outputs": [
        {
          "output_type": "execute_result",
          "data": {
            "text/plain": [
              "120989000"
            ]
          },
          "metadata": {},
          "execution_count": 90
        }
      ],
      "source": [
        "10999 * 11000"
      ]
    },
    {
      "cell_type": "code",
      "execution_count": 91,
      "metadata": {
        "colab": {
          "base_uri": "https://localhost:8080/"
        },
        "id": "ussuAokfM2du",
        "outputId": "efcb9382-d074-4460-9d04-ed7b39186b98"
      },
      "outputs": [
        {
          "output_type": "stream",
          "name": "stdout",
          "text": [
            "120989000\n",
            "\n",
            "real\t0m0.859s\n",
            "user\t0m0.852s\n",
            "sys\t0m0.002s\n"
          ]
        }
      ],
      "source": [
        "!g++ max_pairwise_product_long_full.cpp -o max_pairwise_product_long_full\n",
        "!time ./max_pairwise_product_long_full< input13.txt"
      ]
    },
    {
      "cell_type": "markdown",
      "metadata": {
        "id": "Tm_AVmt-QQH4"
      },
      "source": [
        "## Python"
      ]
    },
    {
      "cell_type": "code",
      "execution_count": 92,
      "metadata": {
        "colab": {
          "base_uri": "https://localhost:8080/"
        },
        "id": "gRCCcd7IQTKZ",
        "outputId": "e073a397-1b4a-4572-8e78-d5c7b12c558a"
      },
      "outputs": [
        {
          "output_type": "stream",
          "name": "stdout",
          "text": [
            "Writing max_pairwise_product_execints.py\n"
          ]
        }
      ],
      "source": [
        "%%writefile max_pairwise_product_execints.py\n",
        "def MaxPairwiseProduct(numbers, execints):                      # INSTRUCTIONS executed by line\n",
        "    max_product = 0                                             # 1\n",
        "    execints[0] += 1\n",
        "\n",
        "    aux_product = 0                                             # 1\n",
        "    execints[0] += 1\n",
        "\n",
        "    n = len(numbers)                                            # 1\n",
        "    execints[0] += 1\n",
        "\n",
        "    execints[0] += 1\n",
        "    for first in range(n):                                      # 2 + 2n\n",
        "        execints[0] += 2\n",
        "\n",
        "        execints[0] += 1\n",
        "        for second in range(n):                                 # 2n + 2n**2\n",
        "            execints[0] += 2\n",
        "\n",
        "            execints[0] += 1\n",
        "            if first != second:                                 # n**2\n",
        "                aux_product = numbers[first] * numbers[second]   # n**2 - n\n",
        "                execints[0] += 1\n",
        "\n",
        "                execints[0] += 1\n",
        "                if aux_product > max_product:                    # n**2 - n\n",
        "                    max_product = aux_product                    # [0, n**2/2 - n/2] upper bound\n",
        "                    execints[0] += 1\n",
        "\n",
        "        execints[0] += 1\n",
        "    execints[0] += 1\n",
        "\n",
        "    return max_product                                          # 5 + 2n + [5n**2, 11n**2/2 - n/2] upper bound\n",
        "\n",
        "def main():                                                     # INSTRUCTIONS executed by line\n",
        "    execints = [0]                                             # Usando lista para simular paso por referencia\n",
        "\n",
        "    n = int(input())                                           # 1\n",
        "    execints[0] += 1\n",
        "\n",
        "    numbers = list(map(int, input().split()))                  # n\n",
        "    execints[0] += n\n",
        "\n",
        "    execints[0] += 1\n",
        "    result = MaxPairwiseProduct(numbers, execints)             # 1 + 5 + 2n + [5n**2, 11n**2/2 - n/2]\n",
        "\n",
        "    execints[0] += 1\n",
        "    print(execints[0])                                         # Imprime el número total de instrucciones ejecutadas\n",
        "\n",
        "    return 0                                                   # --------------\n",
        "                                                              # 11 + 6n + [5n**2, 11n**2/2 - n/2] upper bound\n",
        "\n",
        "if __name__ == '__main__':\n",
        "    main()"
      ]
    },
    {
      "cell_type": "markdown",
      "metadata": {
        "id": "NrJ5Hn4N8IiE"
      },
      "source": [
        "La complejidad temporal sigue siendo la misma:\n",
        "$$T(n) = 11 + 6n + \\left[5n^2, 11\\frac{n^2}{2} - \\frac{n}{2}\\right) > 6n^2 = O(n^2)$$"
      ]
    },
    {
      "cell_type": "code",
      "execution_count": 93,
      "metadata": {
        "colab": {
          "base_uri": "https://localhost:8080/"
        },
        "id": "hjw7TJrDL0d-",
        "outputId": "9fea95bf-d3b6-4cb7-f641-79d993f0f48b"
      },
      "outputs": [
        {
          "output_type": "stream",
          "name": "stdout",
          "text": [
            "538\n"
          ]
        }
      ],
      "source": [
        "# Verify\n",
        "!python3 max_pairwise_product_execints.py < input0.txt"
      ]
    },
    {
      "cell_type": "code",
      "execution_count": 94,
      "metadata": {
        "colab": {
          "base_uri": "https://localhost:8080/"
        },
        "id": "_3tCSFBo9QPd",
        "outputId": "0f99ca67-e3ee-43a8-d5e6-b3d80c1d59f5"
      },
      "outputs": [
        {
          "output_type": "stream",
          "name": "stdout",
          "text": [
            "539\n"
          ]
        }
      ],
      "source": [
        "!python3 max_pairwise_product_execints.py < input2.txt"
      ]
    },
    {
      "cell_type": "markdown",
      "metadata": {
        "id": "fEZR-3V4ZjCv"
      },
      "source": [
        "# For the follwing solutions rquired  the same tests and analysis performed for the first solution"
      ]
    },
    {
      "cell_type": "markdown",
      "metadata": {
        "id": "MKQKSC-vKePK"
      },
      "source": [
        "## Solutions in C++ and Python that uses\n",
        "$$\\frac{n^2 - n}{2} = O(n^2)\\ \\ \\text{products}$$"
      ]
    },
    {
      "cell_type": "code",
      "execution_count": 95,
      "metadata": {
        "colab": {
          "base_uri": "https://localhost:8080/"
        },
        "id": "jkkHHoxSK65p",
        "outputId": "d616c7da-2eda-4262-9182-1623a3f3a1d6"
      },
      "outputs": [
        {
          "output_type": "stream",
          "name": "stdout",
          "text": [
            "Writing max_pairwise_product.cpp\n"
          ]
        }
      ],
      "source": [
        "%%writefile max_pairwise_product.cpp\n",
        "#include <iostream>\n",
        "#include <vector>\n",
        "#include <algorithm>\n",
        "\n",
        "int MaxPairwiseProduct(const std::vector<int>& numbers) {\n",
        "    int max_product = 0;\n",
        "    int n = numbers.size();\n",
        "\n",
        "    for (int first = 0; first < n; ++first) {\n",
        "        for (int second = first + 1; second < n; ++second) {\n",
        "            max_product = std::max(max_product,\n",
        "                numbers[first] * numbers[second]);\n",
        "        }\n",
        "    }\n",
        "\n",
        "    return max_product;\n",
        "}\n",
        "\n",
        "int main() {\n",
        "    int n;\n",
        "    std::cin >> n;\n",
        "    std::vector<int> numbers(n);\n",
        "    for (int i = 0; i < n; ++i) {\n",
        "        std::cin >> numbers[i];\n",
        "    }\n",
        "\n",
        "    std::cout << MaxPairwiseProduct(numbers) << \"\\n\";\n",
        "    return 0;\n",
        "}"
      ]
    },
    {
      "cell_type": "code",
      "execution_count": 96,
      "metadata": {
        "colab": {
          "base_uri": "https://localhost:8080/"
        },
        "id": "sU8-Ote7K8vz",
        "outputId": "b678ef2a-7fa6-47ac-b8d1-f50d6dbc7953"
      },
      "outputs": [
        {
          "output_type": "stream",
          "name": "stdout",
          "text": [
            "Writing max_pairwise_product_long.cpp\n"
          ]
        }
      ],
      "source": [
        "%%writefile max_pairwise_product_long.cpp\n",
        "#include <iostream>\n",
        "#include <vector>\n",
        "#include <algorithm>\n",
        "\n",
        "long long MaxPairwiseProduct(const std::vector<int>& numbers) {              //INSTRUCTIONS executed by line\n",
        "    long long max_product = 0LL;                                             //1\n",
        "\t  long long aux_product = 0LL;                                             //1\n",
        "    int n = numbers.size();                                                  //1\n",
        "\n",
        "    for (int first = 0; first < n; ++first) {                                //2+2n\n",
        "        for (int second = first + 1; second < n; ++second) {                 //2n + (n-1)n\n",
        "\t\t\t       aux_product =  (long long) numbers[first] * numbers[second];    //(n-1)n/2\n",
        "            if (max_product < aux_product)  {                                //(n-1)n/2\n",
        "\t\t\t\t        max_product = aux_product;                                   //[1,(n-1)n/2)  upper bound\n",
        "             }\n",
        "        }\n",
        "    }\n",
        "                                                                             // --------------\n",
        "    return max_product;                                                      // 5 + 4n + [2(n-1)n+1, 2.5 (n-1)n) upper bound\n",
        "}\n",
        "\n",
        "int main() {                                              //INSTRUCTIONS executed by line\n",
        "    int n;                                                //1\n",
        "    std::cin >> n;                                        //1\n",
        "    std::vector<int> numbers(n);                          //n\n",
        "    for (int i = 0; i < n; ++i) {                         //2 + 2n\n",
        "        std::cin >> numbers[i];                           //n\n",
        "    }\n",
        "\n",
        "    std::cout << MaxPairwiseProduct(numbers) << \"\\n\";     //1 + 1  + 5 + 4n + [2(n-1)n+1, 2.5 (n-1)n) upper bound\n",
        "    return 0;                                             // --------------\n",
        "}                                                         // 11 + 7n + [2(n-1)n+1, 2.5 (n-1)n) upper bound\n"
      ]
    },
    {
      "cell_type": "markdown",
      "metadata": {
        "id": "ypjsiZ6qBrQM"
      },
      "source": [
        "The number of instructions executed by the algorithm with a list of size $n$ is  \n",
        "\n",
        "$$T (n) = 11 + 7n + \\left[2(n-1)n+1, 2.5(n-1)n\\right)= O(n^2)$$\n",
        "\n",
        "Then for the input0.txt\n",
        "$$T = 11 + 7(10) + 2(9)11   = 279 $$"
      ]
    },
    {
      "cell_type": "markdown",
      "metadata": {
        "id": "zxCvxiB-XQJh"
      },
      "source": [
        "### Estimate and verify the maximun n that can be solved in 1 second\n",
        "\n"
      ]
    },
    {
      "cell_type": "markdown",
      "metadata": {
        "id": "ShipMFLaDFxl"
      },
      "source": [
        "Analysis of Maximum n that can be solved in 1 second\n",
        "\n",
        "First, let's look at the time complexity from the C++ code:\n",
        "$$T(n) = 11 + 7n + [2(n-1)n+1, 2.5(n-1)n]$$\n",
        "Let's expand the formula:\n",
        "\n",
        "Lower bound: $2(n-1)n + 1 = 2n^2 - 2n + 1$\n",
        "Upper bound: $2.5(n-1)n = 2.5n^2 - 2.5n$\n",
        "\n",
        "\n",
        "\n",
        "Therefore, the complete range of instructions is:\n",
        "$$T(n) = 11 + 7n + [2n^2 - 2n + 1, 2.5n^2 - 2.5n]$$\n",
        "\n",
        "Assuming a modern computer can execute approximately $10^8$ operations per second, we can set up the inequality using the lower bound:\n",
        "\n",
        "$$11 + 7n + (2n^2 - 2n + 1) \\leq 10^8$$\n",
        "Simplifying:\n",
        "$$2n^2 + 5n + 12 \\leq 10^8$$\n",
        "\n",
        "Since the quadratic term dominates, we can approximate:\n",
        "$$2n^2 \\leq 10^8$$\n",
        "$$n^2 \\leq 5 \\times 10^7$$\n",
        "$$n \\leq \\sqrt{5 \\times 10^7} \\approx 7071$$"
      ]
    },
    {
      "cell_type": "code",
      "execution_count": 97,
      "metadata": {
        "colab": {
          "base_uri": "https://localhost:8080/"
        },
        "id": "Su8drkhrZwcp",
        "outputId": "8b84e5cb-a1b8-414d-aec9-60a0ba8dd110"
      },
      "outputs": [
        {
          "output_type": "stream",
          "name": "stdout",
          "text": [
            "Writing test_generator.cpp\n"
          ]
        }
      ],
      "source": [
        "%%writefile test_generator.cpp\n",
        "#include <iostream>\n",
        "#include <fstream>\n",
        "#include <random>\n",
        "#include <string>\n",
        "\n",
        "void generateTest(int n, const std::string& filename) {\n",
        "    std::random_device rd;\n",
        "    std::mt19937 gen(rd());\n",
        "    std::uniform_int_distribution<> dis(1, 1000000000);  // Números entre 1 y 10^9\n",
        "\n",
        "    std::ofstream file(filename);\n",
        "    file << n << \"\\n\";\n",
        "    for (int i = 0; i < n; i++) {\n",
        "        file << dis(gen);\n",
        "        if (i < n-1) file << \" \";\n",
        "    }\n",
        "    file << \"\\n\";\n",
        "    file.close();\n",
        "}\n",
        "\n",
        "int main() {\n",
        "    // Generar tests con tamaños crecientes\n",
        "    int sizes[] = {1000, 2000, 3000, 4000, 5000, 6000, 7000};\n",
        "\n",
        "    for (int size : sizes) {\n",
        "        std::string filename = \"input_\" + std::to_string(size) + \".txt\";\n",
        "        generateTest(size, filename);\n",
        "        std::cout << \"Generated \" << filename << \" with \" << size << \" numbers\\n\";\n",
        "    }\n",
        "\n",
        "    return 0;\n",
        "}"
      ]
    },
    {
      "cell_type": "code",
      "execution_count": 98,
      "metadata": {
        "colab": {
          "base_uri": "https://localhost:8080/"
        },
        "id": "8asa-9O1D7x6",
        "outputId": "daf47024-e2af-478d-9d92-01b66b00354d"
      },
      "outputs": [
        {
          "output_type": "stream",
          "name": "stdout",
          "text": [
            "Generated input_1000.txt with 1000 numbers\n",
            "Generated input_2000.txt with 2000 numbers\n",
            "Generated input_3000.txt with 3000 numbers\n",
            "Generated input_4000.txt with 4000 numbers\n",
            "Generated input_5000.txt with 5000 numbers\n",
            "Generated input_6000.txt with 6000 numbers\n",
            "Generated input_7000.txt with 7000 numbers\n",
            "999686901002030670\n",
            "\n",
            "real\t0m0.007s\n",
            "user\t0m0.005s\n",
            "sys\t0m0.001s\n",
            "998902235681819300\n",
            "\n",
            "real\t0m0.019s\n",
            "user\t0m0.014s\n",
            "sys\t0m0.003s\n",
            "997447509693180975\n",
            "\n",
            "real\t0m0.034s\n",
            "user\t0m0.034s\n",
            "sys\t0m0.000s\n",
            "999107194788782534\n",
            "\n",
            "real\t0m0.076s\n",
            "user\t0m0.070s\n",
            "sys\t0m0.001s\n",
            "999552176314272944\n",
            "\n",
            "real\t0m0.085s\n",
            "user\t0m0.084s\n",
            "sys\t0m0.000s\n",
            "999878096533696333\n",
            "\n",
            "real\t0m0.129s\n",
            "user\t0m0.123s\n",
            "sys\t0m0.002s\n",
            "999667719326834250\n",
            "\n",
            "real\t0m0.173s\n",
            "user\t0m0.166s\n",
            "sys\t0m0.003s\n"
          ]
        }
      ],
      "source": [
        "!g++ test_generator.cpp -o test_generator\n",
        "!./test_generator\n",
        "\n",
        "# Compilar el programa principal\n",
        "!g++ max_pairwise_product_long.cpp -o max_pairwise_product_long\n",
        "\n",
        "# Ejecutar los tests y medir el tiempo\n",
        "!time ./max_pairwise_product_long < input_1000.txt\n",
        "!time ./max_pairwise_product_long < input_2000.txt\n",
        "!time ./max_pairwise_product_long < input_3000.txt\n",
        "!time ./max_pairwise_product_long < input_4000.txt\n",
        "!time ./max_pairwise_product_long < input_5000.txt\n",
        "!time ./max_pairwise_product_long < input_6000.txt\n",
        "!time ./max_pairwise_product_long < input_7000.txt"
      ]
    },
    {
      "cell_type": "markdown",
      "metadata": {
        "id": "1Hsbd-uHOb_j"
      },
      "source": [
        "# Sort solution in C++ and Python\n",
        "\n",
        "$$ O(n \\lg n)$$\n",
        "\n",
        "**Which sorting algorithm is used in GCC?**\n",
        "https://stackoverflow.com/questions/7221257/which-sorting-algorithm-is-used-in-gcc\n",
        "\n",
        "* ...  the algorithm is called introsort, a combination between Insertionsort, Quicksort & Heapsort. ...\n",
        "\n",
        "**Introsort**\n",
        "https://en.wikipedia.org/wiki/Introsort\n",
        "\n",
        "Introsort or introspective sort is a hybrid sorting algorithm that provides both fast average performance and (asymptotically) optimal worst-case performance. It begins with quicksort, it switches to heapsort when the recursion depth exceeds a level based on (the logarithm of) the number of elements being sorted and it switches to insertion sort when the number of elements is below some threshold\n",
        "\n",
        "*   Class\tSorting algorithm\n",
        "*   Data structure\tArray\n",
        "*   Worst-case performance\t$O(n \\lg n)$\n",
        "*   Average performance\t$O(n \\lg n)$\n",
        "\n",
        "**Timsort**\n",
        "https://en.wikipedia.org/wiki/Timsort\n",
        "\n",
        "Timsort is a hybrid, stable sorting algorithm, derived from merge sort and insertion sort, designed to perform well on many kinds of real-world data. It was implemented by Tim Peters in 2002 for use in the Python programming language.\n",
        "\n",
        "*   Class\tSorting algorithm\n",
        "*   Data structure\tArray\n",
        "*   Worst-case performance\t$O(n \\lg n)$\n",
        "*   Best-case performance $O(n)$\n",
        "*   Average performance\t$O(n \\lg n)$\n",
        "*   Worst-case space complexity $O(n)$"
      ]
    },
    {
      "cell_type": "markdown",
      "metadata": {
        "id": "WMUthAXjOb_k"
      },
      "source": []
    },
    {
      "cell_type": "code",
      "execution_count": 99,
      "metadata": {
        "colab": {
          "base_uri": "https://localhost:8080/"
        },
        "id": "jnIRWyUEDu_C",
        "outputId": "b1c2a83e-2b05-4235-99ca-93077a2f5858"
      },
      "outputs": [
        {
          "output_type": "stream",
          "name": "stdout",
          "text": [
            "Writing max_pairwise_product_sort.cpp\n"
          ]
        }
      ],
      "source": [
        "%%writefile max_pairwise_product_sort.cpp\n",
        "#include <iostream>\n",
        "#include <vector>\n",
        "\n",
        "// Function to swap two elements in the vector\n",
        "void swap(long long& a, long long& b) {\n",
        "    long long temp = a;\n",
        "    a = b;\n",
        "    b = temp;\n",
        "}\n",
        "\n",
        "// Function to sort a vector using bubble sort implementation\n",
        "void bubbleSort(std::vector<long long>& arr) {\n",
        "    int n = arr.size();\n",
        "    // Iterate through the array n-1 times\n",
        "    for (int i = 0; i < n - 1; i++) {\n",
        "        // Last i elements are already sorted\n",
        "        for (int j = 0; j < n - i - 1; j++) {\n",
        "            // Compare adjacent elements and swap if needed\n",
        "            if (arr[j] > arr[j + 1]) {\n",
        "                swap(arr[j], arr[j + 1]);\n",
        "            }\n",
        "        }\n",
        "    }\n",
        "}\n",
        "\n",
        "// Function to calculate the maximum pairwise product\n",
        "long long MaxPairwiseProduct(const std::vector<long long>& numbers) {\n",
        "    int n = numbers.size();\n",
        "\n",
        "    // Create a copy of the original vector to avoid modifying it\n",
        "    std::vector<long long> sorted_numbers(numbers);\n",
        "\n",
        "    // Sort the vector using our custom bubble sort\n",
        "    bubbleSort(sorted_numbers);\n",
        "\n",
        "    // Calculate the product of the two largest numbers\n",
        "    // (last two numbers in the sorted array)\n",
        "    long long max_product = sorted_numbers[n - 1] * sorted_numbers[n - 2];\n",
        "\n",
        "    return max_product;\n",
        "}\n",
        "\n",
        "int main() {\n",
        "    // Declare variable to store the size of input\n",
        "    int n;\n",
        "\n",
        "    // Read the size of the array\n",
        "    std::cin >> n;\n",
        "\n",
        "    // Create a vector to store the numbers\n",
        "    std::vector<long long> numbers(n);\n",
        "\n",
        "    // Input the numbers from user\n",
        "    for (int i = 0; i < n; ++i) {\n",
        "        std::cin >> numbers[i];\n",
        "    }\n",
        "\n",
        "    // Calculate and output the maximum pairwise product\n",
        "    std::cout << MaxPairwiseProduct(numbers) << \"\\n\";\n",
        "\n",
        "    return 0;\n",
        "}"
      ]
    },
    {
      "cell_type": "code",
      "execution_count": 100,
      "metadata": {
        "id": "qaCqvkseTbBX"
      },
      "outputs": [],
      "source": [
        "!g++ -o max_pairwise_product_sort max_pairwise_product_sort.cpp\n",
        "!chmod +x max_pairwise_product_sort.cpp"
      ]
    },
    {
      "cell_type": "markdown",
      "metadata": {
        "id": "v8pdV9ABOb_k"
      },
      "source": [
        "Test with inputs 1 and 2\n",
        "\n"
      ]
    },
    {
      "cell_type": "code",
      "execution_count": 101,
      "metadata": {
        "colab": {
          "base_uri": "https://localhost:8080/"
        },
        "id": "kdXAyLG4Ob_k",
        "outputId": "7db80425-d5c6-483c-fbdf-826ceaa8c8a0"
      },
      "outputs": [
        {
          "output_type": "stream",
          "name": "stdout",
          "text": [
            "90\n",
            "90\n"
          ]
        }
      ],
      "source": [
        "!./max_pairwise_product_sort < input1.txt\n",
        "!./max_pairwise_product_sort < input2.txt"
      ]
    },
    {
      "cell_type": "markdown",
      "metadata": {
        "id": "Sw-5X1q1Ob_k"
      },
      "source": [
        "Test and time it with input 3"
      ]
    },
    {
      "cell_type": "code",
      "execution_count": 102,
      "metadata": {
        "colab": {
          "base_uri": "https://localhost:8080/"
        },
        "id": "ryHJ30WIOb_k",
        "outputId": "562abe21-63da-40d7-c593-a3214518c584"
      },
      "outputs": [
        {
          "output_type": "stream",
          "name": "stdout",
          "text": [
            "40000000000\n",
            "\n",
            "real\t0m0.004s\n",
            "user\t0m0.000s\n",
            "sys\t0m0.003s\n"
          ]
        }
      ],
      "source": [
        "!time ./max_pairwise_product_sort < input3.txt"
      ]
    },
    {
      "cell_type": "markdown",
      "metadata": {
        "id": "oJGdPl1HOb_k"
      },
      "source": [
        "20 stress tests"
      ]
    },
    {
      "cell_type": "code",
      "execution_count": 103,
      "metadata": {
        "colab": {
          "base_uri": "https://localhost:8080/"
        },
        "id": "_wdnjSKwUg87",
        "outputId": "c364bd1a-8f25-496b-9671-2b25dd79d1f7"
      },
      "outputs": [
        {
          "output_type": "stream",
          "name": "stdout",
          "text": [
            "Writing generate_last_tests.cpp\n"
          ]
        }
      ],
      "source": [
        "%%writefile generate_last_tests.cpp\n",
        "#include <iostream>\n",
        "#include <fstream>\n",
        "#include <cstdlib>\n",
        "#include <ctime>\n",
        "#include <string>\n",
        "\n",
        "using namespace std;\n",
        "\n",
        "// Function to generate a random long long number within a range\n",
        "long long random_number(long long min, long long max) {\n",
        "    long long range = max - min + 1;\n",
        "    return min + (rand() % range);\n",
        "}\n",
        "\n",
        "// Function to create test file with specified parameters\n",
        "void create_test_file(const string& filename, int n, long long min_val, long long max_val, bool sorted = false) {\n",
        "    ofstream MyFile(filename);\n",
        "    MyFile << n << \"\\n\";\n",
        "\n",
        "    // Create array to store numbers if we need to sort them\n",
        "    long long* numbers = new long long[n];\n",
        "\n",
        "    // Generate random numbers\n",
        "    for (int i = 0; i < n; i++) {\n",
        "        numbers[i] = random_number(min_val, max_val);\n",
        "    }\n",
        "\n",
        "    // If sorted flag is true, sort in descending order\n",
        "    if (sorted) {\n",
        "        for (int i = 0; i < n; i++) {\n",
        "            for (int j = i + 1; j < n; j++) {\n",
        "                if (numbers[i] < numbers[j]) {\n",
        "                    long long temp = numbers[i];\n",
        "                    numbers[i] = numbers[j];\n",
        "                    numbers[j] = temp;\n",
        "                }\n",
        "            }\n",
        "        }\n",
        "    }\n",
        "\n",
        "    // Write numbers to file\n",
        "    for (int i = 0; i < n; i++) {\n",
        "        MyFile << numbers[i] << \" \";\n",
        "    }\n",
        "\n",
        "    MyFile.close();\n",
        "    delete[] numbers;\n",
        "}\n",
        "\n",
        "int main() {\n",
        "    // Seed the random number generator\n",
        "    srand(time(0));\n",
        "\n",
        "    // input11.txt: 10000 random numbers between 1 and 100000\n",
        "    create_test_file(\"input11.txt\", 10000, 1, 100000);\n",
        "\n",
        "    // input12.txt: 10000 random numbers between 1 and 100000\n",
        "    create_test_file(\"input12.txt\", 10000, 1, 100000);\n",
        "\n",
        "    // input13.txt: 10000 random numbers between 1 and 100000\n",
        "    create_test_file(\"input13.txt\", 10000, 1, 100000);\n",
        "\n",
        "    // input14.txt: 100000 random numbers between 1 and 1000000\n",
        "    create_test_file(\"input14.txt\", 100000, 1, 1000000);\n",
        "\n",
        "    // input15.txt: 150000 random numbers between -1000000 and 1000000\n",
        "    create_test_file(\"input15.txt\", 150000, -1000000, 1000000);\n",
        "\n",
        "    // input16.txt: 180000 random numbers, sorted in descending order\n",
        "    create_test_file(\"input16.txt\", 180000, 1, 2000000, true);\n",
        "\n",
        "    // input17.txt: 190000 random numbers with some very large values\n",
        "    create_test_file(\"input17.txt\", 190000, -1000000000, 1000000000);\n",
        "\n",
        "    // input18.txt: 195000 random numbers with many duplicates\n",
        "    create_test_file(\"input18.txt\", 195000, 1, 1000);\n",
        "\n",
        "    // input19.txt: 198000 random numbers with mostly small values\n",
        "    create_test_file(\"input19.txt\", 198000, 0, 100);\n",
        "\n",
        "    // input20.txt: 200000 random numbers with full range\n",
        "    create_test_file(\"input20.txt\", 200000, -2000000000, 2000000000);\n",
        "\n",
        "    cout << \"All test files have been generated successfully!\" << endl;\n",
        "    return 0;\n",
        "}"
      ]
    },
    {
      "cell_type": "code",
      "execution_count": 104,
      "metadata": {
        "id": "T1Cijl3mUyHP",
        "colab": {
          "base_uri": "https://localhost:8080/"
        },
        "outputId": "02da2762-5a41-4707-92b4-5cf02a1acf09"
      },
      "outputs": [
        {
          "output_type": "stream",
          "name": "stdout",
          "text": [
            "All test files have been generated successfully!\n"
          ]
        }
      ],
      "source": [
        "!g++ -o generate_last_tests generate_last_tests.cpp\n",
        "!chmod +x generate_last_tests.cpp\n",
        "!g++ -o generate_last_tests generate_last_tests.cpp\n",
        "!./generate_last_tests"
      ]
    },
    {
      "cell_type": "code",
      "execution_count": 105,
      "metadata": {
        "colab": {
          "base_uri": "https://localhost:8080/"
        },
        "id": "pXHtO1dEOb_k",
        "outputId": "1eeb5e6e-8292-4c6f-c634-287ddb128258"
      },
      "outputs": [
        {
          "output_type": "stream",
          "name": "stdout",
          "text": [
            "90\n",
            "90\n",
            "40000000000\n",
            "913578400000\n",
            "42000000000000\n",
            "180000000000000\n",
            "2250000000000000\n",
            "13200000000000000\n",
            "60000000000000000\n",
            "1000000000000000000\n",
            "9999500000\n",
            "9996900108\n",
            "9997400160\n",
            "^C\n",
            "^C\n",
            "^C\n",
            "^C\n",
            "^C\n",
            "^C\n"
          ]
        }
      ],
      "source": [
        "!./max_pairwise_product_sort < input1.txt\n",
        "!./max_pairwise_product_sort < input2.txt\n",
        "!./max_pairwise_product_sort < input3.txt\n",
        "!./max_pairwise_product_sort < input4.txt\n",
        "!./max_pairwise_product_sort < input5.txt\n",
        "!./max_pairwise_product_sort < input6.txt\n",
        "!./max_pairwise_product_sort < input7.txt\n",
        "!./max_pairwise_product_sort < input8.txt\n",
        "!./max_pairwise_product_sort < input9.txt\n",
        "!./max_pairwise_product_sort < input10.txt\n",
        "!./max_pairwise_product_sort < input11.txt\n",
        "!./max_pairwise_product_sort < input12.txt\n",
        "!./max_pairwise_product_sort < input13.txt\n",
        "!./max_pairwise_product_sort < input14.txt\n",
        "!./max_pairwise_product_sort < input15.txt\n",
        "!./max_pairwise_product_sort < input16.txt\n",
        "!./max_pairwise_product_sort < input18.txt\n",
        "!./max_pairwise_product_sort < input19.txt\n",
        "!./max_pairwise_product_sort < input20.txt"
      ]
    },
    {
      "cell_type": "markdown",
      "metadata": {
        "id": "2beTmWFPOb_k"
      },
      "source": [
        "Count executed instructions in code and verify with inputs 1,2 and 3\n"
      ]
    },
    {
      "cell_type": "code",
      "execution_count": 106,
      "metadata": {
        "colab": {
          "base_uri": "https://localhost:8080/"
        },
        "id": "mYtvrbL1zgTm",
        "outputId": "d7429db7-55ff-4568-b695-cb1a8c392610"
      },
      "outputs": [
        {
          "output_type": "stream",
          "name": "stdout",
          "text": [
            "Overwriting max_pairwise_product_sort.cpp\n"
          ]
        }
      ],
      "source": [
        "%%writefile max_pairwise_product_sort.cpp\n",
        "#include <iostream>\n",
        "#include <vector>\n",
        "\n",
        "// Function to swap two elements in the vector\n",
        "void swap(long long& a, long long& b) {\n",
        "    long long temp = a;                    // 1\n",
        "    a = b;                                 // 1\n",
        "    b = temp;                              // 1\n",
        "}                                          // Total: 3 instructions per swap\n",
        "\n",
        "// Function to sort a vector using bubble sort implementation\n",
        "void bubbleSort(std::vector<long long>& arr) {\n",
        "    int n = arr.size();                    // 1\n",
        "    for (int i = 0; i < n - 1; i++) {      // 2 + 2(n-1)\n",
        "        for (int j = 0; j < n - i - 1; j++) { // (n-1) * [2 + 2(n-i-1)]\n",
        "            if (arr[j] > arr[j + 1]) {      // (n-1)(n-i-1)\n",
        "                swap(arr[j], arr[j + 1]);    // 3 * up to (n-1)(n-i-1)\n",
        "            }\n",
        "        }\n",
        "    }\n",
        "}                                          // Total: O(n²) with exact count:\n",
        "                                          // 1 + 2(n-1) + Σᵢ₌₀ⁿ⁻²[2(n-i-1) + (n-i-1)(1 + 3)]\n",
        "\n",
        "// Function to calculate the maximum pairwise product\n",
        "long long MaxPairwiseProduct(const std::vector<long long>& numbers) {\n",
        "    int n = numbers.size();                // 1\n",
        "\n",
        "    std::vector<long long> sorted_numbers(numbers); // n (copy construction)\n",
        "\n",
        "    bubbleSort(sorted_numbers);            // See bubbleSort analysis above\n",
        "\n",
        "    long long max_product = sorted_numbers[n - 1] * sorted_numbers[n - 2]; // 3\n",
        "\n",
        "    return max_product;                    // 1\n",
        "}                                         // Total: 5 + n + bubbleSort complexity\n",
        "\n",
        "int main() {\n",
        "    int n;                                // 1\n",
        "    std::cin >> n;                        // 1\n",
        "\n",
        "    std::vector<long long> numbers(n);    // n\n",
        "\n",
        "    for (int i = 0; i < n; ++i) {        // 2 + 2n\n",
        "        std::cin >> numbers[i];           // n\n",
        "    }\n",
        "\n",
        "    std::cout << MaxPairwiseProduct(numbers) << \"\\n\"; // 1 + MaxPairwiseProduct complexity\n",
        "\n",
        "    return 0;                            // 1\n",
        "}                                        // Total: 6 + 4n + MaxPairwiseProduct complexity"
      ]
    },
    {
      "cell_type": "markdown",
      "metadata": {
        "id": "ss5E7iKn0o5u"
      },
      "source": [
        "Let's analyze the number of instructions executed for each input case. For our algorithm using bubble sort, the general formula for executed instructions is:\n",
        "$$T(n) = 12 + 7n + n(n-1)(4) = 12 + 7n + 4n^2 - 4n = 4n^2 + 3n + 12$$\n",
        "This formula comes from:\n",
        "\n",
        "12 base instructions (initializations, returns, etc.)\n",
        "7n from linear operations (vector copies, input loops)\n",
        "4n² - 4n from bubble sort (comparisons and swaps)\n",
        "\n",
        "for input1.txt\n",
        "\n",
        "In this case (best case, already sorted list):\n",
        "\n",
        "Comparisons: 45 (n(n-1)/2)\n",
        "Swaps: 0 (already sorted)\n",
        "Total instructions: 12 + 7(10) + 10(9)(1) = 12 + 70 + 90 = 172\n",
        "\n",
        "for input2.txt\n",
        "\n",
        "Comparisons: 45 (n(n-1)/2)\n",
        "Swaps: 45 (each comparison results in a swap)\n",
        "Total instructions: 12 + 7(10) + 10(9)(4) = 12 + 70 + 360 = 442\n",
        "\n",
        "for input3.txt\n",
        "\n",
        "Comparisons: 15 (n(n-1)/2)\n",
        "Swaps: ~8 (estimated based on unsorted elements)\n",
        "Total instructions: 12 + 7(6) + 6(5)(2.5) = 12 + 42 + 75 = 129"
      ]
    },
    {
      "cell_type": "markdown",
      "metadata": {
        "id": "x2CXhkwTOb_l"
      },
      "source": [
        "Calculate estimated time by instruction and number of instructions by second"
      ]
    },
    {
      "cell_type": "code",
      "execution_count": 107,
      "metadata": {
        "id": "nTjxyTMtOb_l"
      },
      "outputs": [],
      "source": [
        "n = 50000\n",
        "numbers = \" \".join(map(str, range(1, 50001)))\n",
        "with open('input21.txt', 'w') as file:\n",
        "    file.write(f\"{n}\\n{numbers}\\n\")"
      ]
    },
    {
      "cell_type": "code",
      "execution_count": 108,
      "metadata": {
        "colab": {
          "base_uri": "https://localhost:8080/"
        },
        "id": "NlBT732S1bvm",
        "outputId": "f9f8441f-deb3-4f4d-d54d-be91567ba507"
      },
      "outputs": [
        {
          "output_type": "stream",
          "name": "stdout",
          "text": [
            "2499950000\n",
            "\n",
            "real\t0m8.871s\n",
            "user\t0m8.707s\n",
            "sys\t0m0.012s\n"
          ]
        }
      ],
      "source": [
        "!time ./max_pairwise_product_sort < input21.txt"
      ]
    },
    {
      "cell_type": "markdown",
      "metadata": {
        "id": "EjLgWIjZ2rQL"
      },
      "source": [
        "Time and Instruction Analysis for n = 50000\n",
        "Total Instructions Calculation\n",
        "For n = 50000 (sorted case - best case scenario):\n",
        "T(n) = 12 + 7n + n(n-1)(1)\n",
        "= 12 + 7(50000) + 50000(49999)(1)\n",
        "= 12 + 350000 + 2499950000\n",
        "= 2500300012 instructions\n",
        "Time Analysis\n",
        "Observed execution time: 8.103 seconds\n",
        "Time per Instruction\n",
        "\n",
        "Time per instruction = Total time / Total instructions\n",
        "= 8.103 seconds / 2500300012 instructions\n",
        "= 3.24 × 10⁻⁹ seconds per instruction (or 3.24 nanoseconds per instruction)\n",
        "\n",
        "Instructions per Second\n",
        "\n",
        "Instructions per second = Total instructions / Total time\n",
        "= 2500300012 / 8.103\n",
        "≈ 308,564,976 instructions per second (or about 308.6 million instructions per second)"
      ]
    },
    {
      "cell_type": "markdown",
      "metadata": {
        "id": "CcgDYDQuaFeH"
      },
      "source": [
        "### Estimate and verify the maximun n that can be solved in 1 second"
      ]
    },
    {
      "cell_type": "markdown",
      "metadata": {
        "id": "1JVkyFOP22S5"
      },
      "source": [
        "Estimating Maximum n for 1 Second Execution\n",
        "Step 1: Calculate Instructions per Second\n",
        "From our previous analysis with n = 50000:\n",
        "\n",
        "Time taken: 8.103 seconds\n",
        "Total instructions: 2500300012\n",
        "Instructions per second ≈ 308,564,976\n",
        "\n",
        "Step 2: Solve the Equation\n",
        "For our algorithm:\n",
        "\n",
        "T(n) = 4n² + 3n + 12 instructions (worst case)\n",
        "We want T(n) instructions to be executed in 1 second\n",
        "Therefore: 4n² + 3n + 12 = 308,564,976\n",
        "\n",
        "Solving this quadratic equation:\n",
        "\n",
        "4n² + 3n + (12 - 308,564,976) = 0\n",
        "4n² + 3n - 308,564,964 = 0\n",
        "\n",
        "Using quadratic formula:\n",
        "\n",
        "n = [-3 ± √(9 + 4(4)(308,564,964))] / 8\n",
        "n = [-3 ± √(4,937,039,431)] / 8\n",
        "n = [-3 ± 70,264] / 8\n",
        "n ≈ 8,782.625"
      ]
    },
    {
      "cell_type": "code",
      "execution_count": 109,
      "metadata": {
        "id": "fLztHReKaGFq"
      },
      "outputs": [],
      "source": [
        "n = 8782\n",
        "numbers = \" \".join(map(str, range(1, 8783)))\n",
        "with open('verify_n.txt', 'w') as file:\n",
        "    file.write(f\"{n}\\n{numbers}\\n\")"
      ]
    },
    {
      "cell_type": "code",
      "execution_count": 110,
      "metadata": {
        "colab": {
          "base_uri": "https://localhost:8080/"
        },
        "id": "Z8HIhKyQ287a",
        "outputId": "3ee59e5d-f936-424a-a7f6-01804fd2b3e1"
      },
      "outputs": [
        {
          "output_type": "stream",
          "name": "stdout",
          "text": [
            "77114742\n",
            "\n",
            "real\t0m0.247s\n",
            "user\t0m0.241s\n",
            "sys\t0m0.002s\n"
          ]
        }
      ],
      "source": [
        "!time ./max_pairwise_product_sort < verify_n.txt"
      ]
    },
    {
      "cell_type": "markdown",
      "metadata": {
        "id": "VMKC5duEOQfk"
      },
      "source": [
        "## Efficient solution with largest and second-largest in an list, array or vector in C++ and Python\n",
        "\n",
        " $$T(n) < 10 n  = O(n)$$\n",
        "\n",
        "\n",
        "\n"
      ]
    },
    {
      "cell_type": "markdown",
      "metadata": {
        "id": "nLcKBwbU0QsE"
      },
      "source": [
        "Add in each line a coment with the number of intstrcution that are executed in that line"
      ]
    },
    {
      "cell_type": "code",
      "execution_count": 111,
      "metadata": {
        "colab": {
          "base_uri": "https://localhost:8080/"
        },
        "id": "knls5Fh3NSt_",
        "outputId": "4d0062e3-41a9-4a8b-f23d-7f2945cd8a32"
      },
      "outputs": [
        {
          "output_type": "stream",
          "name": "stdout",
          "text": [
            "Writing max_pairwise_product_python.py\n"
          ]
        }
      ],
      "source": [
        "%%writefile max_pairwise_product_python.py\n",
        "def max_pairwise_product(numbers):\n",
        "    # Get length of array\n",
        "    # Cost: 1 instruction\n",
        "    n = len(numbers)\n",
        "\n",
        "    # Initialize first maximum index\n",
        "    # Cost: 1 instruction\n",
        "    max1_index = 0\n",
        "\n",
        "    # Find index of maximum number\n",
        "    # Cost: 2n instructions (n comparisons + n iterations)\n",
        "    for i in range(n):\n",
        "        if numbers[i] > numbers[max1_index]:\n",
        "            max1_index = i\n",
        "\n",
        "    # Initialize second maximum index to first number if max1 is second number,\n",
        "    # otherwise initialize to second number\n",
        "    # Cost: 2 instructions\n",
        "    max2_index = 0 if max1_index == 1 else 1\n",
        "\n",
        "    # Find second largest number, skip max1_index\n",
        "    # Cost: 2n instructions (n comparisons + n iterations)\n",
        "    for i in range(n):\n",
        "        if i != max1_index and numbers[i] > numbers[max2_index]:\n",
        "            max2_index = i\n",
        "\n",
        "    # Return product of two largest numbers\n",
        "    # Cost: 1 instruction\n",
        "    return numbers[max1_index] * numbers[max2_index]\n",
        "\n",
        "# Read size of input\n",
        "# Cost: 1 instruction\n",
        "n = int(input())\n",
        "\n",
        "# Read and convert input string to list of integers\n",
        "# Cost: n instructions\n",
        "input_numbers = list(map(int, input().split()))\n",
        "\n",
        "# Calculate maximum pairwise product\n",
        "# Cost: 1 instruction (call) + function cost\n",
        "result = max_pairwise_product(input_numbers)\n",
        "\n",
        "# Print result\n",
        "# Cost: 1 instruction\n",
        "print(result)\n",
        "\n",
        "# Total instruction count analysis:\n",
        "# Base operations: 7 instructions (initializations, return, input/output)\n",
        "# Loop operations: 5n instructions\n",
        "#   - 2n for first loop (finding max1)\n",
        "#   - 2n for second loop (finding max2)\n",
        "#   - n for input processing\n",
        "# Total: T(n) = 5n + 7 instructions"
      ]
    },
    {
      "cell_type": "markdown",
      "metadata": {
        "id": "-JCijbWxNSii"
      },
      "source": [
        "Test with inputs 1 and 2\n",
        "\n"
      ]
    },
    {
      "cell_type": "code",
      "execution_count": 112,
      "metadata": {
        "colab": {
          "base_uri": "https://localhost:8080/"
        },
        "id": "TrTGAfqlNVXT",
        "outputId": "67e15ba6-e4c4-4187-b155-bcd39c96bd80"
      },
      "outputs": [
        {
          "output_type": "stream",
          "name": "stdout",
          "text": [
            "-rwxr-xr-x 1 root root 1582 Dec  8 23:05 max_pairwise_product_python.py\n"
          ]
        }
      ],
      "source": [
        "!chmod +x max_pairwise_product_python.py\n",
        "!ls -l max_pairwise_product_python.py"
      ]
    },
    {
      "cell_type": "code",
      "execution_count": 113,
      "metadata": {
        "colab": {
          "base_uri": "https://localhost:8080/"
        },
        "id": "25WULWNz-_YP",
        "outputId": "e0d1ecd7-355f-4cfe-c47e-f4d36331f046"
      },
      "outputs": [
        {
          "output_type": "stream",
          "name": "stdout",
          "text": [
            "90\n",
            "90\n"
          ]
        }
      ],
      "source": [
        "!python ./max_pairwise_product_python.py < input1.txt\n",
        "!python ./max_pairwise_product_python.py < input2.txt"
      ]
    },
    {
      "cell_type": "markdown",
      "metadata": {
        "id": "PRX51wADNR8b"
      },
      "source": [
        "Test and time it with input 3"
      ]
    },
    {
      "cell_type": "code",
      "execution_count": 114,
      "metadata": {
        "id": "v4z7-Is_NRt7",
        "colab": {
          "base_uri": "https://localhost:8080/"
        },
        "outputId": "ce37afe1-a255-4ccf-9764-dbe623989276"
      },
      "outputs": [
        {
          "output_type": "stream",
          "name": "stdout",
          "text": [
            "40000000000\n"
          ]
        }
      ],
      "source": [
        "!python ./max_pairwise_product_python.py < input3.txt"
      ]
    },
    {
      "cell_type": "markdown",
      "metadata": {
        "id": "rpdfs0_TNZJf"
      },
      "source": [
        "20 stress tests"
      ]
    },
    {
      "cell_type": "code",
      "execution_count": 115,
      "metadata": {
        "id": "Lu4tYcKzNcTT",
        "colab": {
          "base_uri": "https://localhost:8080/"
        },
        "outputId": "f65e78a4-4eff-4d04-bd91-5e3fbc3d881c"
      },
      "outputs": [
        {
          "output_type": "stream",
          "name": "stdout",
          "text": [
            "90\n",
            "90\n",
            "40000000000\n",
            "913578400000\n",
            "42000000000000\n",
            "180000000000000\n",
            "2250000000000000\n",
            "13200000000000000\n",
            "60000000000000000\n",
            "1000000000000000000\n",
            "9999500000\n",
            "9996900108\n",
            "9997400160\n",
            "999999000000\n",
            "999932001152\n",
            "3999992000003\n",
            "999923120037658488\n",
            "1000000\n",
            "10000\n",
            "21746249744779648\n"
          ]
        }
      ],
      "source": [
        "!python ./max_pairwise_product_python.py < input1.txt\n",
        "!python ./max_pairwise_product_python.py < input2.txt\n",
        "!python ./max_pairwise_product_python.py < input3.txt\n",
        "!python ./max_pairwise_product_python.py < input4.txt\n",
        "!python ./max_pairwise_product_python.py < input5.txt\n",
        "!python ./max_pairwise_product_python.py < input6.txt\n",
        "!python ./max_pairwise_product_python.py < input7.txt\n",
        "!python ./max_pairwise_product_python.py < input8.txt\n",
        "!python ./max_pairwise_product_python.py < input9.txt\n",
        "!python ./max_pairwise_product_python.py < input10.txt\n",
        "!python ./max_pairwise_product_python.py < input11.txt\n",
        "!python ./max_pairwise_product_python.py < input12.txt\n",
        "!python ./max_pairwise_product_python.py < input13.txt\n",
        "!python ./max_pairwise_product_python.py < input14.txt\n",
        "!python ./max_pairwise_product_python.py < input15.txt\n",
        "!python ./max_pairwise_product_python.py < input16.txt\n",
        "!python ./max_pairwise_product_python.py < input17.txt\n",
        "!python ./max_pairwise_product_python.py < input18.txt\n",
        "!python ./max_pairwise_product_python.py < input19.txt\n",
        "!python ./max_pairwise_product_python.py < input20.txt"
      ]
    },
    {
      "cell_type": "markdown",
      "metadata": {
        "id": "L8U4151JNbxk"
      },
      "source": [
        "Count executed instructions in code and verify with inputs 1,2 and 3\n"
      ]
    },
    {
      "cell_type": "markdown",
      "source": [
        "for input1.txt\n",
        "\n",
        "In this case:\n",
        "\n",
        "n = 10\n",
        "Instructions = 5(10) + 7\n",
        "Instructions = 50 + 7 = 57 instructions\n",
        "\n",
        "Breakdown:\n",
        "\n",
        "Finding max1_index (max value = 10 at index 9):\n",
        "\n",
        "10 iterations + 10 comparisons = 20 instructions\n",
        "\n",
        "\n",
        "Finding max2_index (second max = 9 at index 8):\n",
        "\n",
        "10 iterations + 10 comparisons = 20 instructions\n",
        "\n",
        "\n",
        "Input processing: 10 instructions\n",
        "Base operations: 7 instructions\n",
        "\n",
        "\n",
        "Total: 57 instructions\n",
        "\n",
        "for input2.txt\n",
        "\n",
        "In this case:\n",
        "\n",
        "n = 10\n",
        "Instructions = 5(10) + 7\n",
        "Instructions = 57 instructions\n",
        "\n",
        "Breakdown:\n",
        "\n",
        "Finding max1_index (max value = 10 at index 0):\n",
        "\n",
        "10 iterations + 10 comparisons = 20 instructions\n",
        "\n",
        "\n",
        "Finding max2_index (second max = 9 at index 1):\n",
        "\n",
        "10 iterations + 10 comparisons = 20 instructions\n",
        "\n",
        "\n",
        "Input processing: 10 instructions\n",
        "Base operations: 7 instructions\n",
        "\n",
        "\n",
        "Total: 57 instructions\n",
        "\n",
        " for input3.txt\n",
        "\n",
        " In this case:\n",
        "\n",
        "n = 6\n",
        "Instructions = 5(6) + 7\n",
        "Instructions = 30 + 7 = 37 instructions\n",
        "\n",
        "Breakdown:\n",
        "\n",
        "Finding max1_index (max value = 200000 at index 2):\n",
        "\n",
        "6 iterations + 6 comparisons = 12 instructions\n",
        "\n",
        "\n",
        "Finding max2_index (second max = 200000 at index 4):\n",
        "\n",
        "6 iterations + 6 comparisons = 12 instructions\n",
        "\n",
        "\n",
        "Input processing: 6 instructions\n",
        "Base operations: 7 instructions\n",
        "\n",
        "\n",
        "Total: 37 instructions"
      ],
      "metadata": {
        "id": "fJsUml5WDgsW"
      }
    },
    {
      "cell_type": "markdown",
      "metadata": {
        "id": "K6ybgCmpNygr"
      },
      "source": [
        "Calculate estimated time by instruction and number of instructions by second"
      ]
    },
    {
      "cell_type": "code",
      "execution_count": 116,
      "metadata": {
        "id": "kwe3G1O3Nz1w",
        "colab": {
          "base_uri": "https://localhost:8080/"
        },
        "outputId": "c30e94e0-acad-4d63-9009-dd98b7b5ff03"
      },
      "outputs": [
        {
          "output_type": "stream",
          "name": "stdout",
          "text": [
            "2499950000\n",
            "\n",
            "real\t0m0.063s\n",
            "user\t0m0.047s\n",
            "sys\t0m0.014s\n"
          ]
        }
      ],
      "source": [
        "!time python ./max_pairwise_product_python.py < input21.txt"
      ]
    },
    {
      "cell_type": "markdown",
      "source": [
        "\n",
        "Time and Instruction Analysis for Python Implementation (n = 50000)\n",
        "\n",
        "For n = 50000:\n",
        "T(n) = 5n + 7\n",
        "T(50000) = 5(50000) + 7\n",
        "= 250000 + 7\n",
        "= 250007 instructions\n",
        "\n",
        "Measured Execution Time\n",
        "\n",
        "Total time (real): 0.060 seconds\n",
        "CPU user time: 0.044 seconds\n",
        "CPU system time: 0.015 seconds\n",
        "\n",
        "Instruction Count\n",
        "For n = 50000:\n",
        "\n",
        "T(n) = 5n + 7\n",
        "T(50000) = 5(50000) + 7\n",
        "= 250,007 instructions total\n",
        "\n",
        "Time per Instruction Calculation\n",
        "Using total execution time:\n",
        "\n",
        "Time per instruction = Total time / Total instructions\n",
        "= 0.060 seconds / 250,007 instructions\n",
        "= 2.4 × 10⁻⁷ seconds per instruction\n",
        "= 240 nanoseconds per instruction\n",
        "\n",
        "Instructions per Second Calculation\n",
        "\n",
        "Instructions per second = Total instructions / Total time\n",
        "= 250,007 / 0.060\n",
        "≈ 4,166,783 instructions per second\n",
        "≈ 4.17 million instructions per second"
      ],
      "metadata": {
        "id": "o1okXMuLEKsT"
      }
    },
    {
      "cell_type": "markdown",
      "metadata": {
        "id": "v8GY6n_ZaJ4P"
      },
      "source": [
        "### Estimate and verify the maximun n that can be solved in 1 second"
      ]
    },
    {
      "cell_type": "markdown",
      "source": [
        "From our last test with n = 50000:\n",
        "\n",
        "Time taken: 0.060 seconds\n",
        "Instructions executed: 5(50000) + 7 = 250,007\n",
        "Instructions per second ≈ 4,166,783\n",
        "\n",
        "Step 2: Calculate Maximum n\n",
        "Using our formula T(n) = 5n + 7 and our measured execution speed:\n",
        "\n",
        "For 1 second, we can execute ≈ 4,166,783 instructions\n",
        "5n + 7 = 4,166,783\n",
        "5n = 4,166,776\n",
        "n ≈ 833,355\n",
        "\n",
        "Step 3: Add Safety Margin\n",
        "Considering:\n",
        "\n",
        "System overhead\n",
        "Input/output operations\n",
        "Memory constraints\n",
        "Python's garbage collection\n",
        "\n",
        "Let's use n = 800,000 for verification"
      ],
      "metadata": {
        "id": "894RvggTFIn4"
      }
    },
    {
      "cell_type": "code",
      "execution_count": 117,
      "metadata": {
        "id": "z3xjzg1YaKk6"
      },
      "outputs": [],
      "source": [
        "# Create test file for n = 800000\n",
        "n = 800000\n",
        "numbers = \" \".join(map(str, range(1, n+1)))\n",
        "with open('verify_max_n.txt', 'w') as file:\n",
        "    file.write(f\"{n}\\n{numbers}\\n\")"
      ]
    },
    {
      "cell_type": "code",
      "source": [
        "!time python ./max_pairwise_product_python.py < verify_max_n.txt"
      ],
      "metadata": {
        "colab": {
          "base_uri": "https://localhost:8080/"
        },
        "id": "giFC313GFY-c",
        "outputId": "60321c65-a50b-43dc-9b2d-95f5d2ac2810"
      },
      "execution_count": 118,
      "outputs": [
        {
          "output_type": "stream",
          "name": "stdout",
          "text": [
            "639999200000\n",
            "\n",
            "real\t0m0.498s\n",
            "user\t0m0.394s\n",
            "sys\t0m0.098s\n"
          ]
        }
      ]
    },
    {
      "cell_type": "markdown",
      "metadata": {
        "id": "sUpIWcykOGpT"
      },
      "source": [
        "## Super efficient solution\n",
        "\n",
        "Whitout storing the list in memory, only stpring the largest and second largest and whitout calling a function, add in each line a coment with the number of instructions that are executed in that line\n",
        "\n",
        "in C++ and Python\n",
        "\n",
        "\n",
        " $$T(n) < 13 n  = O(n)$$\n"
      ]
    },
    {
      "cell_type": "code",
      "execution_count": 119,
      "metadata": {
        "id": "hBLt_xBQLy8E",
        "colab": {
          "base_uri": "https://localhost:8080/"
        },
        "outputId": "40c18a02-ef0d-4a8f-8fd0-cc559801fe1c"
      },
      "outputs": [
        {
          "output_type": "stream",
          "name": "stdout",
          "text": [
            "Writing super_efficient_python.py\n"
          ]
        }
      ],
      "source": [
        "%%writefile super_efficient_python.py\n",
        "n = int(input())                    # 1 instruction\n",
        "max1, max2 = float('-inf'), float('-inf')  # 2 instructions\n",
        "numbers = map(int, input().split()) # 1 instruction (iterator creation)\n",
        "\n",
        "for num in numbers:                 # n iterations\n",
        "    if num > max1:                  # n comparisons\n",
        "        max2 = max1                 # up to n assignments\n",
        "        max1 = num                  # up to n assignments\n",
        "    elif num > max2:                # up to n comparisons\n",
        "        max2 = num                  # up to n assignments\n",
        "\n",
        "print(max1 * max2)                  # 1 instruction\n",
        "\n",
        "# Total: 5 + 6n instructions"
      ]
    },
    {
      "cell_type": "code",
      "source": [
        "!chmod +x super_efficient_python.py\n",
        "!ls -l super_efficient_python.py"
      ],
      "metadata": {
        "colab": {
          "base_uri": "https://localhost:8080/"
        },
        "id": "gTZVVHjqF8RT",
        "outputId": "15499f98-c32f-4c10-b025-9916ef80e4e6"
      },
      "execution_count": 120,
      "outputs": [
        {
          "output_type": "stream",
          "name": "stdout",
          "text": [
            "-rwxr-xr-x 1 root root 603 Dec  8 23:05 super_efficient_python.py\n"
          ]
        }
      ]
    },
    {
      "cell_type": "markdown",
      "metadata": {
        "id": "683gc3roHqzb"
      },
      "source": [
        "Test with inputs 1 and 2\n",
        "\n",
        "\n"
      ]
    },
    {
      "cell_type": "code",
      "execution_count": 121,
      "metadata": {
        "id": "b7d4LA8OIc2_",
        "colab": {
          "base_uri": "https://localhost:8080/"
        },
        "outputId": "e1362c6d-a1f5-48a9-d704-44208233af1c"
      },
      "outputs": [
        {
          "output_type": "stream",
          "name": "stdout",
          "text": [
            "90\n",
            "90\n"
          ]
        }
      ],
      "source": [
        "!python ./super_efficient_python.py < input1.txt\n",
        "!python ./super_efficient_python.py < input2.txt"
      ]
    },
    {
      "cell_type": "markdown",
      "metadata": {
        "id": "36Ugn1odIeJz"
      },
      "source": [
        "Test and time it with input 3"
      ]
    },
    {
      "cell_type": "code",
      "execution_count": 122,
      "metadata": {
        "id": "jDyMbCnxHqSN",
        "colab": {
          "base_uri": "https://localhost:8080/"
        },
        "outputId": "9ab76f89-59c4-49a8-f1e6-7f0aec1d39dc"
      },
      "outputs": [
        {
          "output_type": "stream",
          "name": "stdout",
          "text": [
            "40000000000\n"
          ]
        }
      ],
      "source": [
        "!python ./super_efficient_python.py < input3.txt"
      ]
    },
    {
      "cell_type": "markdown",
      "metadata": {
        "id": "bhqiKQG6fjKM"
      },
      "source": [
        "20 stress tests"
      ]
    },
    {
      "cell_type": "code",
      "execution_count": 123,
      "metadata": {
        "id": "2KsiXKhALzwm",
        "colab": {
          "base_uri": "https://localhost:8080/"
        },
        "outputId": "ee79577e-5b81-4542-e97f-2998aad5c091"
      },
      "outputs": [
        {
          "output_type": "stream",
          "name": "stdout",
          "text": [
            "90\n",
            "90\n",
            "40000000000\n",
            "913578400000\n",
            "42000000000000\n",
            "180000000000000\n",
            "2250000000000000\n",
            "13200000000000000\n",
            "60000000000000000\n",
            "1000000000000000000\n",
            "9999500000\n",
            "9996900108\n",
            "9997400160\n",
            "999999000000\n",
            "999932001152\n",
            "3999992000003\n",
            "999923120037658488\n",
            "1000000\n",
            "10000\n",
            "21746249744779648\n"
          ]
        }
      ],
      "source": [
        "!python ./super_efficient_python.py < input1.txt\n",
        "!python ./super_efficient_python.py < input2.txt\n",
        "!python ./super_efficient_python.py < input3.txt\n",
        "!python ./super_efficient_python.py < input4.txt\n",
        "!python ./super_efficient_python.py < input5.txt\n",
        "!python ./super_efficient_python.py < input6.txt\n",
        "!python ./super_efficient_python.py < input7.txt\n",
        "!python ./super_efficient_python.py < input8.txt\n",
        "!python ./super_efficient_python.py < input9.txt\n",
        "!python ./super_efficient_python.py < input10.txt\n",
        "!python ./super_efficient_python.py < input11.txt\n",
        "!python ./super_efficient_python.py < input12.txt\n",
        "!python ./super_efficient_python.py < input13.txt\n",
        "!python ./super_efficient_python.py < input14.txt\n",
        "!python ./super_efficient_python.py < input15.txt\n",
        "!python ./super_efficient_python.py < input16.txt\n",
        "!python ./super_efficient_python.py < input17.txt\n",
        "!python ./super_efficient_python.py < input18.txt\n",
        "!python ./super_efficient_python.py < input19.txt\n",
        "!python ./super_efficient_python.py < input20.txt"
      ]
    },
    {
      "cell_type": "markdown",
      "metadata": {
        "id": "fEXj8GHJH5p1"
      },
      "source": [
        "Count executed instructions in code and verify with inputs 1,2 and 3"
      ]
    },
    {
      "cell_type": "markdown",
      "source": [
        "for input1.txt\n",
        "\n",
        "Instructions executed:\n",
        "\n",
        "Initial setup: 4 instructions\n",
        "Loop analysis (n = 10):\n",
        "\n",
        "Iterations: 10\n",
        "All numbers cause max1 update: 10 * 4 instructions (comparison + 2 assignments + iteration)\n",
        "No max2-only updates\n",
        "\n",
        "\n",
        "Final print: 1 instruction\n",
        "\n",
        "Total = 4 + (10 * 4) + 1 = 45 instructions\n",
        "\n",
        "for input2.txt\n",
        "\n",
        "Instructions executed:\n",
        "\n",
        "Initial setup: 4 instructions\n",
        "Loop analysis (n = 10):\n",
        "\n",
        "First number (10): 4 instructions\n",
        "Remaining 9 numbers: 9 * 3 instructions (comparison + 1 assignment + iteration)\n",
        "\n",
        "\n",
        "Final print: 1 instruction\n",
        "\n",
        "Total = 4 + 4 + (9 * 3) + 1 = 32 instructions\n",
        "\n",
        "for input3.txt\n",
        "\n",
        "Instructions executed:\n",
        "\n",
        "Initial setup: 4 instructions\n",
        "Loop analysis (n = 6):\n",
        "\n",
        "Numbers updating max1 (200000): 4 instructions twice\n",
        "Numbers updating max2: 3 instructions once\n",
        "Numbers not updating either: 3 instructions thrice\n",
        "\n",
        "\n",
        "Final print: 1 instruction\n",
        "\n",
        "Total = 4 + (2 * 4) + (1 * 3) + (3 * 3) + 1 = 22 instructions"
      ],
      "metadata": {
        "id": "C_z7sUt_LCTK"
      }
    },
    {
      "cell_type": "markdown",
      "metadata": {
        "id": "yae7sSm2IG9U"
      },
      "source": [
        "Calculate estimated time by instruction and number of instructions by second"
      ]
    },
    {
      "cell_type": "code",
      "execution_count": 124,
      "metadata": {
        "id": "suouY7BYL2dz",
        "colab": {
          "base_uri": "https://localhost:8080/"
        },
        "outputId": "5ac04d7c-29da-401e-bccb-290ee1239c6e"
      },
      "outputs": [
        {
          "output_type": "stream",
          "name": "stdout",
          "text": [
            "2499950000\n",
            "\n",
            "real\t0m0.125s\n",
            "user\t0m0.067s\n",
            "sys\t0m0.018s\n"
          ]
        }
      ],
      "source": [
        "!time python ./super_efficient_python.py < input21.txt"
      ]
    },
    {
      "cell_type": "markdown",
      "source": [
        "Time and Instruction Analysis for n = 50000\n",
        "Execution Time Measurements\n",
        "\n",
        "Real time: 0.054 seconds\n",
        "User CPU time: 0.038 seconds\n",
        "System CPU time: 0.016 seconds\n",
        "\n",
        "Calculate Total Instructions\n",
        "For n = 50000:\n",
        "\n",
        "T(n) = 5 + 4n instructions\n",
        "T(50000) = 5 + 4(50000)\n",
        "= 5 + 200000\n",
        "= 200,005 total instructions\n",
        "\n",
        "Time per Instruction\n",
        "Using total execution time:\n",
        "\n",
        "Time per instruction = Total time / Total instructions\n",
        "= 0.054 seconds / 200,005 instructions\n",
        "= 2.7 × 10⁻⁷ seconds per instruction\n",
        "= 270 nanoseconds per instruction\n",
        "\n",
        "Instructions per Second\n",
        "\n",
        "Instructions per second = Total instructions / Total time\n",
        "= 200,005 / 0.054\n",
        "≈ 3,703,796 instructions per second\n",
        "≈ 3.7 million instructions per second"
      ],
      "metadata": {
        "id": "M0gvOyyCLwJl"
      }
    },
    {
      "cell_type": "markdown",
      "metadata": {
        "id": "sy33CNNfPxcE"
      },
      "source": [
        "### Super efficient solution in Python\n",
        "\n",
        "Whitout storing the list in memory and whitout calling a function, add in each line a coment with the number of intstrcution that are executed in that line"
      ]
    },
    {
      "cell_type": "code",
      "execution_count": 125,
      "metadata": {
        "id": "_mOjJwKrPxcJ",
        "colab": {
          "base_uri": "https://localhost:8080/"
        },
        "outputId": "77960b12-8938-4edc-d2dd-8d6d95c44605"
      },
      "outputs": [
        {
          "output_type": "stream",
          "name": "stdout",
          "text": [
            "Overwriting super_efficient.py\n"
          ]
        }
      ],
      "source": [
        "%%writefile super_efficient.py\n",
        "# Read the size of input\n",
        "n = int(input())                                    # 1 instruction: integer conversion\n",
        "\n",
        "# Initialize the two largest numbers as minimum possible values\n",
        "max1 = 0                                           # 1 instruction: assignment\n",
        "max2 = 0                                           # 1 instruction: assignment\n",
        "\n",
        "# Process each number from input without storing the list\n",
        "for num in map(int, input().split()):             # n iterations: split, convert and iterate\n",
        "    if num > max1:                                # n comparisons\n",
        "        max2 = max1                               # up to n assignments\n",
        "        max1 = num                                # up to n assignments\n",
        "    elif num > max2:                              # up to n comparisons\n",
        "        max2 = num                                # up to n assignments\n",
        "\n",
        "# Print the result\n",
        "print(max1 * max2)                                # 1 instruction: multiplication and print\n",
        "\n",
        "# Total instruction count breakdown:\n",
        "# - Base instructions (initialization + final print): 4\n",
        "# - Per number processing: 4 instructions maximum per number\n",
        "# - Total worst case: T(n) = 4 + 4n instructions\n",
        "# - Total best case: T(n) = 4 + 2n instructions (when numbers are in descending order)\n",
        "# Therefore: T(n) ≤ 4 + 4n = O(n)\n"
      ]
    },
    {
      "cell_type": "markdown",
      "metadata": {
        "id": "K08Eow0hPxcJ"
      },
      "source": [
        "Test with inputs 1 and 2\n",
        "\n",
        "\n"
      ]
    },
    {
      "cell_type": "code",
      "execution_count": 126,
      "metadata": {
        "id": "1_mUee2cPxcJ",
        "colab": {
          "base_uri": "https://localhost:8080/"
        },
        "outputId": "8fdc9f86-0791-4673-9295-d0337739353b"
      },
      "outputs": [
        {
          "output_type": "stream",
          "name": "stdout",
          "text": [
            "90\n",
            "90\n"
          ]
        }
      ],
      "source": [
        "!python ./super_efficient.py < input1.txt\n",
        "!python ./super_efficient.py < input2.txt"
      ]
    },
    {
      "cell_type": "markdown",
      "metadata": {
        "id": "CE5DB3CmPxcJ"
      },
      "source": [
        "Test and time it with input 3"
      ]
    },
    {
      "cell_type": "code",
      "execution_count": 128,
      "metadata": {
        "id": "lyLhFOoePxcJ",
        "colab": {
          "base_uri": "https://localhost:8080/"
        },
        "outputId": "33a850c8-5c54-435d-9167-7fb52d8ff63c"
      },
      "outputs": [
        {
          "output_type": "stream",
          "name": "stdout",
          "text": [
            "40000000000\n"
          ]
        }
      ],
      "source": [
        "!python ./super_efficient.py < input3.txt"
      ]
    },
    {
      "cell_type": "markdown",
      "metadata": {
        "id": "HZEI236lPxcK"
      },
      "source": [
        "20 stress tests"
      ]
    },
    {
      "cell_type": "code",
      "execution_count": 130,
      "metadata": {
        "id": "_LoV-p4zPxcK",
        "colab": {
          "base_uri": "https://localhost:8080/"
        },
        "outputId": "ffb90971-ec0f-4549-fb75-9df895911be1"
      },
      "outputs": [
        {
          "output_type": "stream",
          "name": "stdout",
          "text": [
            "90\n",
            "90\n",
            "40000000000\n",
            "913578400000\n",
            "42000000000000\n",
            "180000000000000\n",
            "2250000000000000\n",
            "13200000000000000\n",
            "60000000000000000\n",
            "1000000000000000000\n",
            "9999500000\n",
            "9996900108\n",
            "9997400160\n",
            "999999000000\n",
            "999932001152\n",
            "3999992000003\n",
            "999923120037658488\n",
            "1000000\n",
            "10000\n",
            "21746249744779648\n"
          ]
        }
      ],
      "source": [
        "!python ./super_efficient.py < input1.txt\n",
        "!python ./super_efficient.py < input2.txt\n",
        "!python ./super_efficient.py < input3.txt\n",
        "!python ./super_efficient.py < input4.txt\n",
        "!python ./super_efficient.py < input5.txt\n",
        "!python ./super_efficient.py < input6.txt\n",
        "!python ./super_efficient.py < input7.txt\n",
        "!python ./super_efficient.py < input8.txt\n",
        "!python ./super_efficient.py < input9.txt\n",
        "!python ./super_efficient.py < input10.txt\n",
        "!python ./super_efficient.py < input11.txt\n",
        "!python ./super_efficient.py < input12.txt\n",
        "!python ./super_efficient.py < input13.txt\n",
        "!python ./super_efficient.py < input14.txt\n",
        "!python ./super_efficient.py < input15.txt\n",
        "!python ./super_efficient.py < input16.txt\n",
        "!python ./super_efficient.py < input17.txt\n",
        "!python ./super_efficient.py < input18.txt\n",
        "!python ./super_efficient.py < input19.txt\n",
        "!python ./super_efficient.py < input20.txt"
      ]
    },
    {
      "cell_type": "markdown",
      "metadata": {
        "id": "IRVdP3iuPxcK"
      },
      "source": [
        "Count executed instructions in code and verify with inputs 1,2 and 3"
      ]
    },
    {
      "cell_type": "markdown",
      "source": [
        "For Input 1\n",
        "\n",
        "Instruction count:\n",
        "\n",
        "Initial setup:\n",
        "\n",
        "n = int(input()): 1 instruction\n",
        "max1 = 0: 1 instruction\n",
        "max2 = 0: 1 instruction\n",
        "\n",
        "\n",
        "Loop execution (ascending numbers):\n",
        "\n",
        "First number (1):\n",
        "\n",
        "comparison with max1: 1\n",
        "max2 = max1: 1\n",
        "max1 = num: 1\n",
        "iteration: 1\n",
        "\n",
        "\n",
        "Each subsequent number (2-10):\n",
        "\n",
        "Same pattern as all numbers are larger than max1\n",
        "4 instructions × 9 numbers = 36 instructions\n",
        "\n",
        "\n",
        "Total = 3 + 4 + 36 + 1 (final print) = 44 instructions\n",
        "\n",
        "For input 2\n",
        "\n",
        "Instruction count:\n",
        "\n",
        "Initial setup: 3 instructions\n",
        "Loop execution (descending numbers):\n",
        "\n",
        "First number (10):\n",
        "\n",
        "comparison with max1: 1\n",
        "max2 = max1: 1\n",
        "max1 = num: 1\n",
        "iteration: 1\n",
        "\n",
        "\n",
        "Each subsequent number:\n",
        "\n",
        "comparison with max1: 1\n",
        "comparison with max2: 1\n",
        "iteration: 1\n",
        "max2 update when needed: 1\n",
        "3 instructions × 9 numbers = 27 instructions\n",
        "\n",
        "Total = 3 + 4 + 27 + 1 (final print) = 35 instructions\n",
        "\n",
        "For input 3\n",
        "\n",
        "Instruction count:\n",
        "\n",
        "Initial setup: 3 instructions\n",
        "Loop execution:\n",
        "\n",
        "First number (1): 4 instructions\n",
        "Second number (3): 4 instructions\n",
        "Third number (200000): 4 instructions\n",
        "Fourth number (9): 3 instructions (comparison + comparison with max2)\n",
        "Fifth number (200000): 4 instructions\n",
        "Sixth number (23): 3 instructions\n",
        "\n",
        "Total = 3 + (4×3 + 3×2) + 1 (final print) = 25 instructions"
      ],
      "metadata": {
        "id": "0WAiG0nhhwHP"
      }
    },
    {
      "cell_type": "markdown",
      "metadata": {
        "id": "R6qeUjPaPxcK"
      },
      "source": [
        "Calculate estimated time by instruction and number of instructions by second"
      ]
    },
    {
      "cell_type": "code",
      "execution_count": 133,
      "metadata": {
        "id": "iLdXYvn3PxcK",
        "colab": {
          "base_uri": "https://localhost:8080/"
        },
        "outputId": "7772fa5b-abf8-4c72-db72-aaa47ebb4e65"
      },
      "outputs": [
        {
          "output_type": "stream",
          "name": "stdout",
          "text": [
            "2499950000\n",
            "\n",
            "real\t0m0.057s\n",
            "user\t0m0.040s\n",
            "sys\t0m0.016s\n"
          ]
        }
      ],
      "source": [
        "!time python ./super_efficient.py < input21.txt"
      ]
    },
    {
      "cell_type": "markdown",
      "source": [
        "Time and Instruction Analysis for n = 50000\n",
        "Measured Execution Time\n",
        "\n",
        "    Real time: 0.074 seconds\n",
        "    User CPU time: 0.050 seconds\n",
        "    System time: 0.021 seconds\n",
        "\n",
        "Calculate Total Instructions\n",
        "\n",
        "For n = 50000:\n",
        "\n",
        "    T(n) = 4 + 4n instructions (worst case)\n",
        "    T(50000) = 4 + 4(50000)\n",
        "    = 4 + 200000\n",
        "    = 200,004 total instructions\n",
        "\n",
        "Time per Instruction\n",
        "\n",
        "    Time per instruction = Total time / Total instructions\n",
        "    = 0.074 seconds / 200,004 instructions\n",
        "    = 3.7 × 10⁻⁷ seconds per instruction\n",
        "    = 370 nanoseconds per instruction\n"
      ],
      "metadata": {
        "id": "aMkwe8PviaTp"
      }
    },
    {
      "cell_type": "markdown",
      "metadata": {
        "id": "uZGdjUwuaO4v"
      },
      "source": [
        "### Estimate and verify the maximun n that can be solved in 1 second"
      ]
    },
    {
      "cell_type": "markdown",
      "source": [
        "Step 1: Using Previous Measurement\n",
        "From our last test (n = 50000):\n",
        "\n",
        "Time taken: 0.074 seconds\n",
        "Instructions executed: 4 + 4(50000) = 200,004\n",
        "Instructions per second ≈ 2,702,756\n",
        "\n",
        "Step 2: Calculate Maximum n\n",
        "Using our formula T(n) = 4 + 4n and measured execution speed:\n",
        "\n",
        "For 1 second, we can execute ≈ 2,702,756 instructions\n",
        "4 + 4n = 2,702,756\n",
        "4n = 2,702,752\n",
        "n ≈ 675,688\n",
        "\n",
        "Step 3: Add Safety Margin\n",
        "Considering:\n",
        "\n",
        "System overhead (28.4% in previous test)\n",
        "Input/output operations\n",
        "Python interpreter overhead\n",
        "Memory constraints\n",
        "\n",
        "Let's use n = 650,000 for verification"
      ],
      "metadata": {
        "id": "EF4Iuh9PinFU"
      }
    },
    {
      "cell_type": "code",
      "execution_count": 132,
      "metadata": {
        "id": "FjqFevOaaOVz"
      },
      "outputs": [],
      "source": [
        "# Create test file for n = 650000\n",
        "n = 650000\n",
        "numbers = \" \".join(map(str, range(1, n+1)))\n",
        "with open('verify_max_n.txt', 'w') as file:\n",
        "    file.write(f\"{n}\\n{numbers}\\n\")"
      ]
    },
    {
      "cell_type": "code",
      "source": [
        "!time python ./super_efficient.py < verify_max_n.txt"
      ],
      "metadata": {
        "colab": {
          "base_uri": "https://localhost:8080/"
        },
        "id": "3pEWjT7cir-V",
        "outputId": "8ba6877d-346b-4408-8f0c-3b7c3692bad7"
      },
      "execution_count": 134,
      "outputs": [
        {
          "output_type": "stream",
          "name": "stdout",
          "text": [
            "422499350000\n",
            "\n",
            "real\t0m0.285s\n",
            "user\t0m0.213s\n",
            "sys\t0m0.070s\n"
          ]
        }
      ]
    },
    {
      "cell_type": "markdown",
      "metadata": {
        "id": "4hHRQMXzW6oR"
      },
      "source": [
        "## Perform 100 randomized automated tests in C++ and Python with a porgram  compares the answers,for the same 100 random input instances, of the super efficient solution $(T(n) < 10 n = O(n))$ against the sorting solution  $(T(n)  = O(n \\lg{n}))$,  if the answers are not the same stops and displays \"Error\" listing  the input and the two answers; if the 100 tests are completed without stoping displays \"Pass\"."
      ]
    }
  ],
  "metadata": {
    "colab": {
      "provenance": [],
      "include_colab_link": true
    },
    "kernelspec": {
      "display_name": "Python 3",
      "name": "python3"
    },
    "language_info": {
      "name": "python"
    }
  },
  "nbformat": 4,
  "nbformat_minor": 0
}