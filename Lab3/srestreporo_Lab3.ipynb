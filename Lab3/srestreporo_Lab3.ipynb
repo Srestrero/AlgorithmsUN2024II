{
  "cells": [
    {
      "cell_type": "markdown",
      "metadata": {
        "id": "view-in-github",
        "colab_type": "text"
      },
      "source": [
        "<a href=\"https://colab.research.google.com/github/Srestrero/AlgorithmsUN2024II/blob/main/Lab3/srestreporo_Lab3.ipynb\" target=\"_parent\"><img src=\"https://colab.research.google.com/assets/colab-badge.svg\" alt=\"Open In Colab\"/></a>"
      ]
    },
    {
      "cell_type": "code",
      "execution_count": 26,
      "metadata": {
        "id": "im-VVd1__7VU",
        "colab": {
          "base_uri": "https://localhost:8080/"
        },
        "outputId": "b9fc81bc-866a-4b38-a0d7-f166c6f692a4"
      },
      "outputs": [
        {
          "output_type": "stream",
          "name": "stdout",
          "text": [
            "processor\t: 0\n",
            "vendor_id\t: GenuineIntel\n",
            "cpu family\t: 6\n",
            "model\t\t: 79\n",
            "model name\t: Intel(R) Xeon(R) CPU @ 2.20GHz\n",
            "stepping\t: 0\n",
            "microcode\t: 0xffffffff\n",
            "cpu MHz\t\t: 2200.200\n",
            "cache size\t: 56320 KB\n",
            "physical id\t: 0\n",
            "siblings\t: 2\n",
            "core id\t\t: 0\n",
            "cpu cores\t: 1\n",
            "apicid\t\t: 0\n",
            "initial apicid\t: 0\n",
            "fpu\t\t: yes\n",
            "fpu_exception\t: yes\n",
            "cpuid level\t: 13\n",
            "wp\t\t: yes\n",
            "flags\t\t: fpu vme de pse tsc msr pae mce cx8 apic sep mtrr pge mca cmov pat pse36 clflush mmx fxsr sse sse2 ss ht syscall nx pdpe1gb rdtscp lm constant_tsc rep_good nopl xtopology nonstop_tsc cpuid tsc_known_freq pni pclmulqdq ssse3 fma cx16 pcid sse4_1 sse4_2 x2apic movbe popcnt aes xsave avx f16c rdrand hypervisor lahf_lm abm 3dnowprefetch invpcid_single ssbd ibrs ibpb stibp fsgsbase tsc_adjust bmi1 hle avx2 smep bmi2 erms invpcid rtm rdseed adx smap xsaveopt arat md_clear arch_capabilities\n",
            "bugs\t\t: cpu_meltdown spectre_v1 spectre_v2 spec_store_bypass l1tf mds swapgs taa mmio_stale_data retbleed bhi\n",
            "bogomips\t: 4400.40\n",
            "clflush size\t: 64\n",
            "cache_alignment\t: 64\n",
            "address sizes\t: 46 bits physical, 48 bits virtual\n",
            "power management:\n",
            "\n",
            "processor\t: 1\n",
            "vendor_id\t: GenuineIntel\n",
            "cpu family\t: 6\n",
            "model\t\t: 79\n",
            "model name\t: Intel(R) Xeon(R) CPU @ 2.20GHz\n",
            "stepping\t: 0\n",
            "microcode\t: 0xffffffff\n",
            "cpu MHz\t\t: 2200.200\n",
            "cache size\t: 56320 KB\n",
            "physical id\t: 0\n",
            "siblings\t: 2\n",
            "core id\t\t: 0\n",
            "cpu cores\t: 1\n",
            "apicid\t\t: 1\n",
            "initial apicid\t: 1\n",
            "fpu\t\t: yes\n",
            "fpu_exception\t: yes\n",
            "cpuid level\t: 13\n",
            "wp\t\t: yes\n",
            "flags\t\t: fpu vme de pse tsc msr pae mce cx8 apic sep mtrr pge mca cmov pat pse36 clflush mmx fxsr sse sse2 ss ht syscall nx pdpe1gb rdtscp lm constant_tsc rep_good nopl xtopology nonstop_tsc cpuid tsc_known_freq pni pclmulqdq ssse3 fma cx16 pcid sse4_1 sse4_2 x2apic movbe popcnt aes xsave avx f16c rdrand hypervisor lahf_lm abm 3dnowprefetch invpcid_single ssbd ibrs ibpb stibp fsgsbase tsc_adjust bmi1 hle avx2 smep bmi2 erms invpcid rtm rdseed adx smap xsaveopt arat md_clear arch_capabilities\n",
            "bugs\t\t: cpu_meltdown spectre_v1 spectre_v2 spec_store_bypass l1tf mds swapgs taa mmio_stale_data retbleed bhi\n",
            "bogomips\t: 4400.40\n",
            "clflush size\t: 64\n",
            "cache_alignment\t: 64\n",
            "address sizes\t: 46 bits physical, 48 bits virtual\n",
            "power management:\n",
            "\n"
          ]
        }
      ],
      "source": [
        "!cat /proc/cpuinfo"
      ]
    },
    {
      "cell_type": "markdown",
      "metadata": {
        "id": "N1ok_-56OjB1"
      },
      "source": [
        "# I Solving the Sum of Two Digits Programming Challenge"
      ]
    },
    {
      "cell_type": "markdown",
      "metadata": {
        "id": "MMY7kmDSO0KM"
      },
      "source": [
        "## C++"
      ]
    },
    {
      "cell_type": "code",
      "execution_count": 29,
      "metadata": {
        "colab": {
          "base_uri": "https://localhost:8080/"
        },
        "id": "2pGGf9BkPNIk",
        "outputId": "0f0ab411-715f-4349-dac6-29d3d3da5969"
      },
      "outputs": [
        {
          "output_type": "stream",
          "name": "stdout",
          "text": [
            "Writing APlusB.cpp\n"
          ]
        }
      ],
      "source": [
        "%%writefile APlusB.cpp\n",
        "#include <iostream>\n",
        "\n",
        "int sum_of_two_digits(int first_digit, int second_digit) {\n",
        "    return first_digit + second_digit;\n",
        "}\n",
        "\n",
        "int main() {\n",
        "    int a = 0;\n",
        "    int b = 0;\n",
        "    std::cin >> a;\n",
        "    std::cin >> b;\n",
        "    std::cout << sum_of_two_digits(a, b);\n",
        "    return 0;\n",
        "}"
      ]
    },
    {
      "cell_type": "code",
      "execution_count": 35,
      "metadata": {
        "colab": {
          "base_uri": "https://localhost:8080/"
        },
        "id": "0G3ZKOYAPXSU",
        "outputId": "b37c1ea5-df92-4bea-93f2-8ca7c1118f9a"
      },
      "outputs": [
        {
          "output_type": "stream",
          "name": "stdout",
          "text": [
            "12\n",
            "5\n",
            "17"
          ]
        }
      ],
      "source": [
        "!g++ APlusB.cpp -o APlusB -std=c++11\n",
        "!./APlusB"
      ]
    },
    {
      "cell_type": "markdown",
      "metadata": {
        "id": "iNkG2HqfTl9c"
      },
      "source": [
        "### Test input output files"
      ]
    },
    {
      "cell_type": "code",
      "execution_count": 30,
      "metadata": {
        "colab": {
          "base_uri": "https://localhost:8080/"
        },
        "id": "aTzU2efzMxly",
        "outputId": "b996475f-0c2a-430f-8c6e-02cbe90f4d9b"
      },
      "outputs": [
        {
          "output_type": "stream",
          "name": "stdout",
          "text": [
            "Overwriting input1.txt\n"
          ]
        }
      ],
      "source": [
        "%%writefile input1.txt\n",
        "4 8"
      ]
    },
    {
      "cell_type": "code",
      "execution_count": 31,
      "metadata": {
        "colab": {
          "base_uri": "https://localhost:8080/"
        },
        "id": "zBJ0Gc0NQRet",
        "outputId": "bd555236-bf21-4275-ab52-aea904b567f2"
      },
      "outputs": [
        {
          "output_type": "stream",
          "name": "stdout",
          "text": [
            "Overwriting output1.txt\n"
          ]
        }
      ],
      "source": [
        "%%writefile output1.txt\n",
        "12"
      ]
    },
    {
      "cell_type": "code",
      "execution_count": 32,
      "metadata": {
        "colab": {
          "base_uri": "https://localhost:8080/"
        },
        "id": "IjEcIx63PJAN",
        "outputId": "43d18798-cecd-465e-e25c-19bb831f6256"
      },
      "outputs": [
        {
          "output_type": "stream",
          "name": "stdout",
          "text": [
            "Overwriting input2.txt\n"
          ]
        }
      ],
      "source": [
        "%%writefile input2.txt\n",
        "0 9"
      ]
    },
    {
      "cell_type": "code",
      "execution_count": 33,
      "metadata": {
        "colab": {
          "base_uri": "https://localhost:8080/"
        },
        "id": "Up9gOrxURTmd",
        "outputId": "12f7f71e-df79-47a7-ad63-c73c0ada761a"
      },
      "outputs": [
        {
          "output_type": "stream",
          "name": "stdout",
          "text": [
            "Overwriting output2.txt\n"
          ]
        }
      ],
      "source": [
        "%%writefile output2.txt\n",
        "9"
      ]
    },
    {
      "cell_type": "code",
      "execution_count": 36,
      "metadata": {
        "colab": {
          "base_uri": "https://localhost:8080/"
        },
        "id": "PST6G-s-Pwgc",
        "outputId": "2d69efba-3ce7-4480-9511-8284fc4d927a"
      },
      "outputs": [
        {
          "output_type": "stream",
          "name": "stdout",
          "text": [
            "12"
          ]
        }
      ],
      "source": [
        "!./APlusB < input1.txt"
      ]
    },
    {
      "cell_type": "code",
      "execution_count": 37,
      "metadata": {
        "colab": {
          "base_uri": "https://localhost:8080/"
        },
        "id": "cKxZOjSlRfIN",
        "outputId": "0265c9e0-0a24-43fd-a157-56fc7333e68c"
      },
      "outputs": [
        {
          "output_type": "stream",
          "name": "stdout",
          "text": [
            "9"
          ]
        }
      ],
      "source": [
        "!./APlusB < input2.txt"
      ]
    },
    {
      "cell_type": "markdown",
      "metadata": {
        "id": "Qw2TQWCCUwqk"
      },
      "source": [
        "### Comparing files with grep\n",
        "\n",
        "https://askubuntu.com/questions/546796/comparing-two-text-files"
      ]
    },
    {
      "cell_type": "code",
      "execution_count": 38,
      "metadata": {
        "id": "Jlja0Xm4TX9M"
      },
      "outputs": [],
      "source": [
        "!./APlusB < input1.txt> ctest1.txt\n",
        "!grep -xvFf output1.txt ctest1.txt"
      ]
    },
    {
      "cell_type": "code",
      "execution_count": 39,
      "metadata": {
        "id": "g9OIUZA_QLCQ"
      },
      "outputs": [],
      "source": [
        "!./APlusB < input2.txt > ctest2.txt\n",
        "!grep -xvFf output2.txt ctest2.txt"
      ]
    },
    {
      "cell_type": "markdown",
      "metadata": {
        "id": "3BgOaDjUVJk6"
      },
      "source": [
        "## Python"
      ]
    },
    {
      "cell_type": "code",
      "execution_count": 40,
      "metadata": {
        "colab": {
          "base_uri": "https://localhost:8080/"
        },
        "id": "DBvl-T0CTN_8",
        "outputId": "bfad8eb1-208f-46b9-c416-2fc5ae0c606d"
      },
      "outputs": [
        {
          "output_type": "stream",
          "name": "stdout",
          "text": [
            "Writing sum.py\n"
          ]
        }
      ],
      "source": [
        "%%writefile sum.py\n",
        "# python3\n",
        "\n",
        "def sum_of_two_digits(first_digit, second_digit):\n",
        "    return first_digit + second_digit\n",
        "\n",
        "if __name__ == '__main__':\n",
        "    a, b = map(int, input().split())\n",
        "    print(sum_of_two_digits(a, b))"
      ]
    },
    {
      "cell_type": "code",
      "execution_count": 41,
      "metadata": {
        "colab": {
          "base_uri": "https://localhost:8080/"
        },
        "id": "QKoKM11_WGyF",
        "outputId": "4744f69b-aec5-4c8d-ecaa-a1c681a9a8bd"
      },
      "outputs": [
        {
          "output_type": "stream",
          "name": "stdout",
          "text": [
            "124 53\n",
            "177\n"
          ]
        }
      ],
      "source": [
        "!python sum.py"
      ]
    },
    {
      "cell_type": "code",
      "execution_count": 42,
      "metadata": {
        "id": "cocFbPRTWrqt"
      },
      "outputs": [],
      "source": [
        "!python sum.py  < input1.txt> ptest1.txt\n",
        "!grep -xvFf output1.txt ptest1.txt"
      ]
    },
    {
      "cell_type": "code",
      "execution_count": 43,
      "metadata": {
        "id": "MorKTa-XXASN"
      },
      "outputs": [],
      "source": [
        "!python sum.py  < input2.txt> ptest2.txt\n",
        "!grep -xvFf output2.txt ptest2.txt"
      ]
    },
    {
      "cell_type": "markdown",
      "metadata": {
        "id": "uvP-mOubW_5F"
      },
      "source": [
        "# II Solving The Maximum Pairwise Product Programming Challenge in C++"
      ]
    },
    {
      "cell_type": "markdown",
      "metadata": {
        "id": "C12yoFR6Xonl"
      },
      "source": [
        "## C++\n",
        "\n",
        "$$ T(n) < 6 n^2 = O(n^2)$$"
      ]
    },
    {
      "cell_type": "code",
      "source": [
        "%%writefile max_pairwise_product_full.cpp\n",
        "#include <iostream>\n",
        "#include <vector>\n",
        "#include <algorithm>\n",
        "\n",
        "int MaxPairwiseProduct(const std::vector<int>& numbers) {\n",
        "    int max_product = 0;\n",
        "    int aux_product = 0;\n",
        "    int n = numbers.size();\n",
        "\n",
        "    for (int first = 0; first < n; ++first) {\n",
        "        for (int second = 0; second < n; ++second) {\n",
        "          if ( first != second ){\n",
        "                aux_product = numbers[first] * numbers[second];\n",
        "                if (aux_product > max_product)  max_product = aux_product;\n",
        "          }\n",
        "        }\n",
        "    }\n",
        "\n",
        "    return max_product;\n",
        "}\n",
        "\n",
        "int main() {\n",
        "    int n;\n",
        "    std::cin >> n;\n",
        "    std::vector<int> numbers(n);\n",
        "    for (int i = 0; i < n; ++i) {\n",
        "        std::cin >> numbers[i];\n",
        "    }\n",
        "\n",
        "    std::cout << MaxPairwiseProduct(numbers) << \"\\n\";\n",
        "    return 0;\n",
        "}"
      ],
      "metadata": {
        "colab": {
          "base_uri": "https://localhost:8080/"
        },
        "id": "3LpfoGv2Ae81",
        "outputId": "a9a196cc-27fb-48b5-fda2-efadc8593915"
      },
      "execution_count": 44,
      "outputs": [
        {
          "output_type": "stream",
          "name": "stdout",
          "text": [
            "Writing max_pairwise_product_full.cpp\n"
          ]
        }
      ]
    },
    {
      "cell_type": "markdown",
      "metadata": {
        "id": "m75IQQPbEHBS"
      },
      "source": [
        "#### Time Complexity\n",
        "$$\\left. \\begin{array}{llc}\n",
        " \\text{INSTRUCTION} & \\text{TYPE}& \\text{# EXECUTIONS}\\\\\n",
        "\\text{first != second} &  \\text{comparisons} &n^2 \\\\\n",
        "\\text{numbers[first] * numbers[second]}& \\ \\text{ products}  &n^2 - n \\\\\n",
        "\\text{max_product = aux_product} &  \\text{assigments} & [1, \\frac{n^2 - n}{2})  \n",
        "\\end{array}\\right\\}  =  O(n^2)$$"
      ]
    },
    {
      "cell_type": "code",
      "source": [
        "!g++ max_pairwise_product_full.cpp -o max_pairwise_product_full\n",
        "!./max_pairwise_product_full"
      ],
      "metadata": {
        "id": "PCVo1h6nCF9k",
        "colab": {
          "base_uri": "https://localhost:8080/"
        },
        "outputId": "a110020d-5c1a-4ffd-c2bf-3b9daedeb003"
      },
      "execution_count": 45,
      "outputs": [
        {
          "output_type": "stream",
          "name": "stdout",
          "text": [
            "3\n",
            "31 56 32\n",
            "1792\n"
          ]
        }
      ]
    },
    {
      "cell_type": "markdown",
      "metadata": {
        "id": "e7KhxHGNS3i0"
      },
      "source": [
        "### Test 1: Small numbers"
      ]
    },
    {
      "cell_type": "code",
      "source": [
        "%%writefile input0.txt\n",
        "10\n",
        "0 0 0 0 0 0 0 0 0 0"
      ],
      "metadata": {
        "colab": {
          "base_uri": "https://localhost:8080/"
        },
        "id": "17npyXt7lYzA",
        "outputId": "8df9c247-3686-46ad-ecf7-caa9762d5196"
      },
      "execution_count": 46,
      "outputs": [
        {
          "output_type": "stream",
          "name": "stdout",
          "text": [
            "Overwriting input0.txt\n"
          ]
        }
      ]
    },
    {
      "cell_type": "code",
      "source": [
        "%%writefile output0.txt\n",
        "0"
      ],
      "metadata": {
        "colab": {
          "base_uri": "https://localhost:8080/"
        },
        "id": "NooGEkJylezm",
        "outputId": "62187840-a1e2-41d5-aa43-af1ad55691ee"
      },
      "execution_count": 47,
      "outputs": [
        {
          "output_type": "stream",
          "name": "stdout",
          "text": [
            "Overwriting output0.txt\n"
          ]
        }
      ]
    },
    {
      "cell_type": "code",
      "source": [
        "!./max_pairwise_product_full< input0.txt > ctest0.txt\n",
        "!grep -xvFf output0.txt ctest0.txt"
      ],
      "metadata": {
        "id": "R0yFaAOrlqrE"
      },
      "execution_count": 48,
      "outputs": []
    },
    {
      "cell_type": "code",
      "execution_count": 49,
      "metadata": {
        "colab": {
          "base_uri": "https://localhost:8080/"
        },
        "id": "e1mmTzBgShT-",
        "outputId": "b1c5fd15-415e-42d1-8cbc-d2f8abfa0bf8"
      },
      "outputs": [
        {
          "output_type": "stream",
          "name": "stdout",
          "text": [
            "Overwriting input1.txt\n"
          ]
        }
      ],
      "source": [
        "%%writefile input1.txt\n",
        "10\n",
        "1 2 3 4 5 6 7 8 9 10"
      ]
    },
    {
      "cell_type": "code",
      "execution_count": 50,
      "metadata": {
        "colab": {
          "base_uri": "https://localhost:8080/"
        },
        "id": "vy_uI0x7TCId",
        "outputId": "484899d7-2393-4bc1-ceee-e26e37c16275"
      },
      "outputs": [
        {
          "output_type": "stream",
          "name": "stdout",
          "text": [
            "90\n"
          ]
        }
      ],
      "source": [
        "!./max_pairwise_product_full < input1.txt"
      ]
    },
    {
      "cell_type": "code",
      "execution_count": 51,
      "metadata": {
        "colab": {
          "base_uri": "https://localhost:8080/"
        },
        "id": "xaj6f9bxC6D6",
        "outputId": "33c3f797-f0f6-4214-9744-25e4ff29c4d6"
      },
      "outputs": [
        {
          "output_type": "stream",
          "name": "stdout",
          "text": [
            "Overwriting output1.txt\n"
          ]
        }
      ],
      "source": [
        "%%writefile output1.txt\n",
        "90"
      ]
    },
    {
      "cell_type": "code",
      "execution_count": 52,
      "metadata": {
        "id": "fYCjAdA_C-wy"
      },
      "outputs": [],
      "source": [
        "!./max_pairwise_product_full< input1.txt > ctest1.txt\n",
        "!grep -xvFf output1.txt ctest1.txt"
      ]
    },
    {
      "cell_type": "code",
      "source": [
        "%%writefile input2.txt\n",
        "10\n",
        "10 9 8 7 6 5 4 3 2 1"
      ],
      "metadata": {
        "colab": {
          "base_uri": "https://localhost:8080/"
        },
        "id": "ZPe40LY14_6f",
        "outputId": "b4c071a6-737f-49d6-9267-9861f2425424"
      },
      "execution_count": 53,
      "outputs": [
        {
          "output_type": "stream",
          "name": "stdout",
          "text": [
            "Overwriting input2.txt\n"
          ]
        }
      ]
    },
    {
      "cell_type": "code",
      "source": [
        "%%writefile output2.txt\n",
        "90"
      ],
      "metadata": {
        "colab": {
          "base_uri": "https://localhost:8080/"
        },
        "id": "xiHmF7HA5Faa",
        "outputId": "c5f7ef16-2475-4b1c-8a80-a319c9b9c03e"
      },
      "execution_count": 54,
      "outputs": [
        {
          "output_type": "stream",
          "name": "stdout",
          "text": [
            "Overwriting output2.txt\n"
          ]
        }
      ]
    },
    {
      "cell_type": "code",
      "source": [
        "!./max_pairwise_product_full< input2.txt > ctest2.txt\n",
        "!grep -xvFf output2.txt ctest2.txt"
      ],
      "metadata": {
        "id": "jjwc9kwb5t_k"
      },
      "execution_count": 55,
      "outputs": []
    },
    {
      "cell_type": "markdown",
      "metadata": {
        "id": "IeZ3kTjpYmR9"
      },
      "source": [
        "### Test 2: largest input numbers 200000 200000 to check possible intger overflow"
      ]
    },
    {
      "cell_type": "code",
      "execution_count": 56,
      "metadata": {
        "colab": {
          "base_uri": "https://localhost:8080/"
        },
        "id": "LQNlZqaqYt7U",
        "outputId": "0dcb4d68-7fb5-4cdb-df53-cebea137e29e"
      },
      "outputs": [
        {
          "output_type": "stream",
          "name": "stdout",
          "text": [
            "Writing input3.txt\n"
          ]
        }
      ],
      "source": [
        "%%writefile input3.txt\n",
        "6\n",
        "1 3 200000 9 200000 23"
      ]
    },
    {
      "cell_type": "code",
      "execution_count": 57,
      "metadata": {
        "colab": {
          "base_uri": "https://localhost:8080/"
        },
        "id": "GjQq7QOUCw-9",
        "outputId": "95ef5c4f-4828-416d-b904-213c1c3aae8d"
      },
      "outputs": [
        {
          "output_type": "execute_result",
          "data": {
            "text/plain": [
              "40000000000"
            ]
          },
          "metadata": {},
          "execution_count": 57
        }
      ],
      "source": [
        "200000*200000"
      ]
    },
    {
      "cell_type": "code",
      "execution_count": 58,
      "metadata": {
        "colab": {
          "base_uri": "https://localhost:8080/"
        },
        "id": "EuS6n3jtDK5C",
        "outputId": "ecb493f2-7c88-4cb7-df29-2deb25aef899"
      },
      "outputs": [
        {
          "output_type": "stream",
          "name": "stdout",
          "text": [
            "Writing output3.txt\n"
          ]
        }
      ],
      "source": [
        "%%writefile output3.txt\n",
        "40000000000"
      ]
    },
    {
      "cell_type": "code",
      "execution_count": 59,
      "metadata": {
        "colab": {
          "base_uri": "https://localhost:8080/"
        },
        "id": "2Wad2VZUZDxR",
        "outputId": "65098cb1-34b8-4a67-c949-6c7299956d6d"
      },
      "outputs": [
        {
          "output_type": "stream",
          "name": "stdout",
          "text": [
            "1345294336\n"
          ]
        }
      ],
      "source": [
        "!./max_pairwise_product_full < input3.txt"
      ]
    },
    {
      "cell_type": "code",
      "execution_count": 60,
      "metadata": {
        "colab": {
          "base_uri": "https://localhost:8080/"
        },
        "id": "pEvp1ieyDJGq",
        "outputId": "761608d2-de73-43ee-881a-43c4916f1bfc"
      },
      "outputs": [
        {
          "output_type": "stream",
          "name": "stdout",
          "text": [
            "1345294336\n"
          ]
        }
      ],
      "source": [
        "!./max_pairwise_product_full < input3.txt > ctest3.txt\n",
        "!grep -xvFf output3.txt ctest3.txt"
      ]
    },
    {
      "cell_type": "code",
      "source": [
        " %%writefile run_all_test.sh\n",
        "#!/bin/bash\n",
        "g++ max_pairwise_product_full.cpp -o max_pairwise_product_full\n",
        "for i in {0..3}\n",
        "do\n",
        "    ./max_pairwise_product_full < input$i.txt > ctest$i.txt\n",
        "    grep -xvFf output$i.txt ctest$i.txt\n",
        "done"
      ],
      "metadata": {
        "colab": {
          "base_uri": "https://localhost:8080/"
        },
        "id": "SrtJrKqM-God",
        "outputId": "88a3478d-3306-43ce-bc83-271432495206"
      },
      "execution_count": 61,
      "outputs": [
        {
          "output_type": "stream",
          "name": "stdout",
          "text": [
            "Overwriting run_all_test.sh\n"
          ]
        }
      ]
    },
    {
      "cell_type": "code",
      "source": [
        "!chmod u+x run_all_test.sh\n",
        "!./run_all_test.sh"
      ],
      "metadata": {
        "colab": {
          "base_uri": "https://localhost:8080/"
        },
        "id": "wGWMHtzS-QnA",
        "outputId": "2023b394-960f-477c-8204-941e5a218fb1"
      },
      "execution_count": 62,
      "outputs": [
        {
          "output_type": "stream",
          "name": "stdout",
          "text": [
            "1345294336\n"
          ]
        }
      ]
    },
    {
      "cell_type": "markdown",
      "metadata": {
        "id": "H2SC0Qt5HCzz"
      },
      "source": [
        "### Changing the variables to long long"
      ]
    },
    {
      "cell_type": "code",
      "execution_count": 63,
      "metadata": {
        "colab": {
          "base_uri": "https://localhost:8080/"
        },
        "id": "MPcmsxiQZSfE",
        "outputId": "17180c95-845a-43d5-b3f4-a27b05ea1352"
      },
      "outputs": [
        {
          "output_type": "stream",
          "name": "stdout",
          "text": [
            "Writing max_pairwise_product_long_full.cpp\n"
          ]
        }
      ],
      "source": [
        "%%writefile max_pairwise_product_long_full.cpp\n",
        "#include <iostream>\n",
        "#include <vector>\n",
        "#include <algorithm>\n",
        "\n",
        "long long MaxPairwiseProduct(const std::vector<int>& numbers) {\n",
        "    long long max_product = 0LL;\n",
        "\t  long long aux_product = 0LL;\n",
        "    int n = numbers.size();\n",
        "\n",
        "    for (int first = 0; first < n; ++first) {\n",
        "        for (int second = 0; second < n; ++second) {\n",
        "          if ( first != second){\n",
        "                aux_product = (long long) numbers[first] * numbers[second];\n",
        "                if (aux_product > max_product)  max_product = aux_product;\n",
        "          }\n",
        "        }\n",
        "    }\n",
        "\n",
        "\n",
        "    return max_product;\n",
        "}\n",
        "\n",
        "int main() {\n",
        "    int n;\n",
        "    std::cin >> n;\n",
        "    std::vector<int> numbers(n);\n",
        "    for (int i = 0; i < n; ++i) {\n",
        "        std::cin >> numbers[i];\n",
        "    }\n",
        "\n",
        "    std::cout << MaxPairwiseProduct(numbers) << \"\\n\";\n",
        "    return 0;\n",
        "}\n"
      ]
    },
    {
      "cell_type": "code",
      "source": [
        "!g++ max_pairwise_product_long_full.cpp -o max_pairwise_product_long_full"
      ],
      "metadata": {
        "id": "W3xQpFXL6wjO"
      },
      "execution_count": 64,
      "outputs": []
    },
    {
      "cell_type": "code",
      "source": [
        "!./max_pairwise_product_long_full < input3.txt"
      ],
      "metadata": {
        "colab": {
          "base_uri": "https://localhost:8080/"
        },
        "id": "H5dvN9M3R9sV",
        "outputId": "91b0dd83-946d-4ee2-ade9-3e552df20920"
      },
      "execution_count": 65,
      "outputs": [
        {
          "output_type": "stream",
          "name": "stdout",
          "text": [
            "40000000000\n"
          ]
        }
      ]
    },
    {
      "cell_type": "markdown",
      "source": [
        "### Runing multuple test with a bash shell"
      ],
      "metadata": {
        "id": "gx-sEYdfQ8f8"
      }
    },
    {
      "cell_type": "code",
      "source": [
        " %%writefile run_all_test.sh\n",
        "#!/bin/bash\n",
        "g++ max_pairwise_product_long_full.cpp -o max_pairwise_product_long_full\n",
        "for i in {1..3}\n",
        "do\n",
        "    ./max_pairwise_product_long_full < input$i.txt > ctest$i.txt\n",
        "    grep -xvFf output$i.txt ctest$i.txt\n",
        "done"
      ],
      "metadata": {
        "colab": {
          "base_uri": "https://localhost:8080/"
        },
        "id": "O9qsq2nn7elw",
        "outputId": "6e403eed-5142-47f2-9e3f-6d8876c2770b"
      },
      "execution_count": 66,
      "outputs": [
        {
          "output_type": "stream",
          "name": "stdout",
          "text": [
            "Overwriting run_all_test.sh\n"
          ]
        }
      ]
    },
    {
      "cell_type": "code",
      "source": [
        "!chmod u+x run_all_test.sh\n",
        "!./run_all_test.sh"
      ],
      "metadata": {
        "id": "0g5kKVph7xIA"
      },
      "execution_count": 67,
      "outputs": []
    },
    {
      "cell_type": "markdown",
      "metadata": {
        "id": "XPVHkHxH6_7s"
      },
      "source": [
        "### Test 3  stress tests, 6 testing cases files input4.txt/output4.txt .. input10.txt/output10.txt\n",
        "\n",
        "---\n",
        "\n"
      ]
    },
    {
      "cell_type": "code",
      "execution_count": 68,
      "metadata": {
        "id": "PwqpBmYr69fu",
        "colab": {
          "base_uri": "https://localhost:8080/"
        },
        "outputId": "65a6a566-bf48-4ce1-8bc7-df0e5b6517ae"
      },
      "outputs": [
        {
          "output_type": "stream",
          "name": "stdout",
          "text": [
            "Writing input4.txt\n"
          ]
        }
      ],
      "source": [
        "%%writefile input4.txt\n",
        "12\n",
        "1 700 4567892 32 12 4 90 3 200000 9 200000 23"
      ]
    },
    {
      "cell_type": "code",
      "source": [
        "4567892 * 200000"
      ],
      "metadata": {
        "colab": {
          "base_uri": "https://localhost:8080/"
        },
        "id": "yItItVwKBWGJ",
        "outputId": "ce71170f-ddf5-4dca-e943-b03609644037"
      },
      "execution_count": null,
      "outputs": [
        {
          "output_type": "execute_result",
          "data": {
            "text/plain": [
              "913578400000"
            ]
          },
          "metadata": {},
          "execution_count": 42
        }
      ]
    },
    {
      "cell_type": "code",
      "execution_count": 69,
      "metadata": {
        "id": "jBCkMeR6Fw4y",
        "colab": {
          "base_uri": "https://localhost:8080/"
        },
        "outputId": "b15ce337-6145-4b25-b0bc-2fe6ecfac794"
      },
      "outputs": [
        {
          "output_type": "stream",
          "name": "stdout",
          "text": [
            "Writing output4.txt\n"
          ]
        }
      ],
      "source": [
        "%%writefile output4.txt\n",
        "913578400000"
      ]
    },
    {
      "cell_type": "code",
      "source": [
        "%%writefile input5.txt\n",
        "15\n",
        "1 800 5678901 45 13 5 100 4 300000 10 300000 24 6000000 7000000 8"
      ],
      "metadata": {
        "id": "zED8V8wu-eoM",
        "colab": {
          "base_uri": "https://localhost:8080/"
        },
        "outputId": "216d0c80-dc0e-4ad1-ca50-ca0ce60d9f06"
      },
      "execution_count": 70,
      "outputs": [
        {
          "output_type": "stream",
          "name": "stdout",
          "text": [
            "Writing input5.txt\n"
          ]
        }
      ]
    },
    {
      "cell_type": "code",
      "source": [
        "7000000 * 6000000"
      ],
      "metadata": {
        "colab": {
          "base_uri": "https://localhost:8080/"
        },
        "id": "6WXsQweijdIf",
        "outputId": "168a02b4-2b60-46a5-f6eb-e88c06a521da"
      },
      "execution_count": null,
      "outputs": [
        {
          "output_type": "execute_result",
          "data": {
            "text/plain": [
              "42000000000000"
            ]
          },
          "metadata": {},
          "execution_count": 73
        }
      ]
    },
    {
      "cell_type": "code",
      "source": [
        "%%writefile output5.txt\n",
        "42000000000000"
      ],
      "metadata": {
        "colab": {
          "base_uri": "https://localhost:8080/"
        },
        "id": "XQ6njkDyjdgV",
        "outputId": "5e4ea13f-17e6-4e61-c471-d959207c9812"
      },
      "execution_count": 71,
      "outputs": [
        {
          "output_type": "stream",
          "name": "stdout",
          "text": [
            "Writing output5.txt\n"
          ]
        }
      ]
    },
    {
      "cell_type": "code",
      "source": [
        "%%writefile input6.txt\n",
        "18\n",
        "1 1000 8901234 50 15 6 150 5 500000 12 500000 30 9000000 10000000 9 12000000 15000000 7"
      ],
      "metadata": {
        "colab": {
          "base_uri": "https://localhost:8080/"
        },
        "id": "LVSqcdHoje7w",
        "outputId": "b7f6914c-2959-4d00-f364-db67a2c981e3"
      },
      "execution_count": 72,
      "outputs": [
        {
          "output_type": "stream",
          "name": "stdout",
          "text": [
            "Writing input6.txt\n"
          ]
        }
      ]
    },
    {
      "cell_type": "code",
      "source": [
        "15000000 * 12000000"
      ],
      "metadata": {
        "colab": {
          "base_uri": "https://localhost:8080/"
        },
        "id": "gBOcxhBjje3V",
        "outputId": "3f083a1b-4c7c-4721-bb8e-feb6ad3b3e61"
      },
      "execution_count": null,
      "outputs": [
        {
          "output_type": "execute_result",
          "data": {
            "text/plain": [
              "180000000000000"
            ]
          },
          "metadata": {},
          "execution_count": 76
        }
      ]
    },
    {
      "cell_type": "code",
      "source": [
        "%%writefile output6.txt\n",
        "180000000000000"
      ],
      "metadata": {
        "colab": {
          "base_uri": "https://localhost:8080/"
        },
        "id": "kS7LvxFtkOar",
        "outputId": "7ccfa738-7a14-4223-d4f8-795423391219"
      },
      "execution_count": 73,
      "outputs": [
        {
          "output_type": "stream",
          "name": "stdout",
          "text": [
            "Writing output6.txt\n"
          ]
        }
      ]
    },
    {
      "cell_type": "code",
      "source": [
        "%%writefile input7.txt\n",
        "20\n",
        "2 2000 12345678 60 18 8 200 6 800000 15 800000 35 20000000 25000000 10 30000000 40000000 9 45000000 50000000"
      ],
      "metadata": {
        "colab": {
          "base_uri": "https://localhost:8080/"
        },
        "id": "t_6HAcbzjexI",
        "outputId": "a414ad21-5f38-4324-87bb-e3014078206d"
      },
      "execution_count": 74,
      "outputs": [
        {
          "output_type": "stream",
          "name": "stdout",
          "text": [
            "Writing input7.txt\n"
          ]
        }
      ]
    },
    {
      "cell_type": "code",
      "source": [
        "50000000 * 45000000"
      ],
      "metadata": {
        "colab": {
          "base_uri": "https://localhost:8080/"
        },
        "id": "8VSCvE1akRUT",
        "outputId": "31602ebd-c48c-4944-d053-75ead923ed5e"
      },
      "execution_count": null,
      "outputs": [
        {
          "output_type": "execute_result",
          "data": {
            "text/plain": [
              "2250000000000000"
            ]
          },
          "metadata": {},
          "execution_count": 80
        }
      ]
    },
    {
      "cell_type": "code",
      "source": [
        "%%writefile output7.txt\n",
        "2250000000000000"
      ],
      "metadata": {
        "colab": {
          "base_uri": "https://localhost:8080/"
        },
        "id": "fIfIJSC-jeuP",
        "outputId": "f406ea1a-1ee6-447c-caab-80aba628089a"
      },
      "execution_count": 75,
      "outputs": [
        {
          "output_type": "stream",
          "name": "stdout",
          "text": [
            "Writing output7.txt\n"
          ]
        }
      ]
    },
    {
      "cell_type": "code",
      "source": [
        "%%writefile input8.txt\n",
        "22\n",
        "3 3000 23456789 70 20 10 300 7 1000000 18 1000000 40 50000000 60000000 12 70000000 80000000 11 90000000 100000000 110000000 120000000"
      ],
      "metadata": {
        "colab": {
          "base_uri": "https://localhost:8080/"
        },
        "id": "AQM0C0w_jeq_",
        "outputId": "13688226-6475-4588-9ed2-4effaf34add2"
      },
      "execution_count": 76,
      "outputs": [
        {
          "output_type": "stream",
          "name": "stdout",
          "text": [
            "Writing input8.txt\n"
          ]
        }
      ]
    },
    {
      "cell_type": "code",
      "source": [
        "120000000 * 110000000"
      ],
      "metadata": {
        "colab": {
          "base_uri": "https://localhost:8080/"
        },
        "id": "yomuZuBTjen9",
        "outputId": "9006911b-e35c-4ec2-c012-50cc5977cca3"
      },
      "execution_count": null,
      "outputs": [
        {
          "output_type": "execute_result",
          "data": {
            "text/plain": [
              "13200000000000000"
            ]
          },
          "metadata": {},
          "execution_count": 82
        }
      ]
    },
    {
      "cell_type": "code",
      "source": [
        "%%writefile output8.txt\n",
        "13200000000000000"
      ],
      "metadata": {
        "colab": {
          "base_uri": "https://localhost:8080/"
        },
        "id": "Qc4SDE2jjekI",
        "outputId": "5aeac780-c7af-485a-b22e-034003df9beb"
      },
      "execution_count": 77,
      "outputs": [
        {
          "output_type": "stream",
          "name": "stdout",
          "text": [
            "Writing output8.txt\n"
          ]
        }
      ]
    },
    {
      "cell_type": "code",
      "source": [
        "%%writefile input9.txt\n",
        "25\n",
        "4 4000 34567890 80 25 12 400 8 2000000 20 2000000 45 150000000 160000000 15 170000000 180000000 13 190000000 200000000 210000000 220000000 230000000 240000000 250000000"
      ],
      "metadata": {
        "colab": {
          "base_uri": "https://localhost:8080/"
        },
        "id": "rollaneLjegD",
        "outputId": "621774bd-a6d6-4857-b958-11c43e5c90d8"
      },
      "execution_count": 78,
      "outputs": [
        {
          "output_type": "stream",
          "name": "stdout",
          "text": [
            "Writing input9.txt\n"
          ]
        }
      ]
    },
    {
      "cell_type": "code",
      "source": [
        "250000000 * 240000000"
      ],
      "metadata": {
        "colab": {
          "base_uri": "https://localhost:8080/"
        },
        "id": "yND1186Vjecl",
        "outputId": "980f0782-b300-4112-b3ec-f55f7a9b0649"
      },
      "execution_count": null,
      "outputs": [
        {
          "output_type": "execute_result",
          "data": {
            "text/plain": [
              "60000000000000000"
            ]
          },
          "metadata": {},
          "execution_count": 85
        }
      ]
    },
    {
      "cell_type": "code",
      "source": [
        "%%writefile output9.txt\n",
        "60000000000000000"
      ],
      "metadata": {
        "colab": {
          "base_uri": "https://localhost:8080/"
        },
        "id": "SoGTUj6AjeYy",
        "outputId": "9b49e04f-a441-4915-a7a0-c8c8d4efe17b"
      },
      "execution_count": 79,
      "outputs": [
        {
          "output_type": "stream",
          "name": "stdout",
          "text": [
            "Writing output9.txt\n"
          ]
        }
      ]
    },
    {
      "cell_type": "code",
      "source": [
        "%%writefile input10.txt\n",
        "30\n",
        "5 5000 45678901 100 30 15 500 10 3000000 25 3000000 50 300000000 350000000 18 400000000 450000000 16 500000000 600000000 650000000 700000000 750000000 800000000 850000000 900000000 950000000 999999999 1000000000 1000000000"
      ],
      "metadata": {
        "id": "elVa3zpAjeOO",
        "colab": {
          "base_uri": "https://localhost:8080/"
        },
        "outputId": "97d0c8f2-1313-4819-c939-51e317531673"
      },
      "execution_count": 80,
      "outputs": [
        {
          "output_type": "stream",
          "name": "stdout",
          "text": [
            "Writing input10.txt\n"
          ]
        }
      ]
    },
    {
      "cell_type": "code",
      "source": [
        "1000000000 * 1000000000"
      ],
      "metadata": {
        "colab": {
          "base_uri": "https://localhost:8080/"
        },
        "id": "_ezgLaBrjeCt",
        "outputId": "be148b00-2906-4e38-8d5b-f5fb558f42ba"
      },
      "execution_count": null,
      "outputs": [
        {
          "output_type": "execute_result",
          "data": {
            "text/plain": [
              "1000000000000000000"
            ]
          },
          "metadata": {},
          "execution_count": 87
        }
      ]
    },
    {
      "cell_type": "code",
      "source": [
        "%%writefile output10.txt\n",
        "1000000000000000000"
      ],
      "metadata": {
        "colab": {
          "base_uri": "https://localhost:8080/"
        },
        "id": "2K09sCJjk6lm",
        "outputId": "339cdbe5-f40d-4c72-f169-262dd9f1cfc6"
      },
      "execution_count": 81,
      "outputs": [
        {
          "output_type": "stream",
          "name": "stdout",
          "text": [
            "Writing output10.txt\n"
          ]
        }
      ]
    },
    {
      "cell_type": "markdown",
      "metadata": {
        "id": "9z9yr5QkeyJF"
      },
      "source": [
        "### Test 4  time test  measure the execution time running with the the largest worst cases input11.txt  (200000 increasing numbers) and input12.txt (199998 increasing numbers and  200000, 200000 at the end)"
      ]
    },
    {
      "cell_type": "code",
      "source": [
        "# input11.txt 200000 increasing numbers:  1 2 .. 200000\n",
        "\n",
        "%%writefile WriteTest.cpp\n",
        "\n",
        "#include <iostream>\n",
        "#include <fstream>\n",
        "#include <cstdlib>\n",
        "\n",
        "using namespace std;\n",
        "\n",
        "int main() {\n",
        "  // Create and open a text file\n",
        "  ofstream MyFile(\"input11.txt\");\n",
        "\n",
        " MyFile << 200000 <<\"\\n\";  // n\n",
        " for (int i=1; i <200001; i++){\n",
        "     MyFile << i <<\" \";\n",
        " }\n",
        "\n",
        "  // Close the file\n",
        "  MyFile.close();\n",
        "}"
      ],
      "metadata": {
        "colab": {
          "base_uri": "https://localhost:8080/"
        },
        "id": "UmB1ipWM_nSk",
        "outputId": "ad08fea7-e9e4-406b-b72c-16afb5f1763e"
      },
      "execution_count": 82,
      "outputs": [
        {
          "output_type": "stream",
          "name": "stdout",
          "text": [
            "Writing WriteTest.cpp\n"
          ]
        }
      ]
    },
    {
      "cell_type": "code",
      "execution_count": 83,
      "metadata": {
        "id": "EH25TkOkZfD9"
      },
      "outputs": [],
      "source": [
        "!g++ WriteTest.cpp -o WriteTest\n",
        "!./WriteTest"
      ]
    },
    {
      "cell_type": "code",
      "source": [
        "199999 * 200000"
      ],
      "metadata": {
        "colab": {
          "base_uri": "https://localhost:8080/"
        },
        "id": "j0mokSOnCCtZ",
        "outputId": "80020b03-560a-4c97-8743-f7aee10bfa4b"
      },
      "execution_count": null,
      "outputs": [
        {
          "output_type": "execute_result",
          "data": {
            "text/plain": [
              "39999800000"
            ]
          },
          "metadata": {},
          "execution_count": 46
        }
      ]
    },
    {
      "cell_type": "code",
      "source": [
        "%%writefile output11.txt\n",
        "39999800000"
      ],
      "metadata": {
        "id": "VoDhDV73B5Mo",
        "colab": {
          "base_uri": "https://localhost:8080/"
        },
        "outputId": "b664125d-9868-4d52-fbcb-414f8f3694b5"
      },
      "execution_count": 84,
      "outputs": [
        {
          "output_type": "stream",
          "name": "stdout",
          "text": [
            "Writing output11.txt\n"
          ]
        }
      ]
    },
    {
      "cell_type": "code",
      "execution_count": 85,
      "metadata": {
        "colab": {
          "base_uri": "https://localhost:8080/"
        },
        "id": "oLiMjbAIfPlX",
        "outputId": "ff55fb17-8282-4985-b3f9-922c959f2353"
      },
      "outputs": [
        {
          "output_type": "stream",
          "name": "stdout",
          "text": [
            "Overwriting WriteTest.cpp\n"
          ]
        }
      ],
      "source": [
        "# input12.txt 200000 decreasing numbers and 200000, 199999 ...  2 1\n",
        "\n",
        "%%writefile WriteTest.cpp\n",
        "\n",
        "#include <iostream>\n",
        "#include <fstream>\n",
        "#include <cstdlib>\n",
        "\n",
        "using namespace std;\n",
        "\n",
        "int main() {\n",
        "  // Create and open a text file\n",
        "  ofstream MyFile(\"input12.txt\");\n",
        "\n",
        " MyFile << 200000 <<\"\\n\";  // n\n",
        " for (int i=1; i <200001; i++){\n",
        "     MyFile << 200001-i <<\" \";\n",
        " }\n",
        "\n",
        "  // Close the file\n",
        "  MyFile.close();\n",
        "}"
      ]
    },
    {
      "cell_type": "code",
      "source": [
        "!g++ WriteTest.cpp -o WriteTest\n",
        "!./WriteTest"
      ],
      "metadata": {
        "id": "oULNBr_zAd9c"
      },
      "execution_count": 86,
      "outputs": []
    },
    {
      "cell_type": "code",
      "source": [
        "%%writefile output12.txt\n",
        "39999800000"
      ],
      "metadata": {
        "colab": {
          "base_uri": "https://localhost:8080/"
        },
        "id": "PQLyocaFB-y4",
        "outputId": "50a2ec7c-f08a-4a33-98c3-0f16feea342c"
      },
      "execution_count": 87,
      "outputs": [
        {
          "output_type": "stream",
          "name": "stdout",
          "text": [
            "Writing output12.txt\n"
          ]
        }
      ]
    },
    {
      "cell_type": "markdown",
      "metadata": {
        "id": "JB6f03qO-lj9"
      },
      "source": [
        "### Measure time\n",
        "\n",
        "https://askubuntu.com/questions/53444/how-can-i-measure-the-execution-time-of-a-terminal-process"
      ]
    },
    {
      "cell_type": "code",
      "execution_count": null,
      "metadata": {
        "colab": {
          "base_uri": "https://localhost:8080/"
        },
        "id": "6p2QLEr576zk",
        "outputId": "aa838cb8-0085-42e3-a006-116ce2efb149"
      },
      "outputs": [
        {
          "output_type": "stream",
          "name": "stdout",
          "text": [
            "2147483646\n",
            "\n",
            "real\t5m7.549s\n",
            "user\t5m4.787s\n",
            "sys\t0m0.095s\n"
          ]
        }
      ],
      "source": [
        "!g++ max_pairwise_product_long_full.cpp -o max_pairwise_product_long_full\n",
        "!time ./max_pairwise_product_long_full< input11.txt"
      ]
    },
    {
      "cell_type": "code",
      "source": [
        "!g++ max_pairwise_product_long_full.cpp -o max_pairwise_product_long_full\n",
        "!time ./max_pairwise_product_long_full< input12.txt"
      ],
      "metadata": {
        "colab": {
          "base_uri": "https://localhost:8080/"
        },
        "id": "cnjCyeUdAnZj",
        "outputId": "f2727d99-445d-4af2-fa1d-d945b2de86a2"
      },
      "execution_count": null,
      "outputs": [
        {
          "output_type": "stream",
          "name": "stdout",
          "text": [
            "^C\n"
          ]
        }
      ]
    },
    {
      "cell_type": "markdown",
      "metadata": {
        "id": "FXClpBsUJuXC"
      },
      "source": [
        "### Calculate the number or and upper bound to the number of instructions executed by the algorithm as a function of n, add in each line a comment with the number of instructions that are executed in that line."
      ]
    },
    {
      "cell_type": "code",
      "execution_count": null,
      "metadata": {
        "colab": {
          "base_uri": "https://localhost:8080/"
        },
        "id": "uG6Mv-Pwlkii",
        "outputId": "50b2817a-cbd5-4b6f-addc-1437b2b0da8c"
      },
      "outputs": [
        {
          "output_type": "stream",
          "name": "stdout",
          "text": [
            "Overwriting max_pairwise_product_long_full.cpp\n"
          ]
        }
      ],
      "source": [
        "%%writefile max_pairwise_product_long_full.cpp\n",
        "#include <iostream>\n",
        "#include <vector>\n",
        "#include <algorithm>\n",
        "\n",
        "long long MaxPairwiseProduct(const std::vector<int>& numbers) {              //INSTRUCTIONS executed by line\n",
        "    long long max_product = 0LL;                                             //1\n",
        "\t  long long aux_product = 0LL;                                             //1\n",
        "    int n = numbers.size();                                                  //1\n",
        "\n",
        "    for (int first = 0; first < n; ++first) {                                //2+2n\n",
        "        for (int second = 0; second < n; ++second) {                         //2n + 2n**2\n",
        "          if ( first != second ){                                            //n**2\n",
        "                aux_product = numbers[first] * numbers[second];              //n**2 -n\n",
        "                if (aux_product > max_product)                               //n**2 -n\n",
        "                    max_product = aux_product;                               //[0, n**2/2 - n/2] upper bound\n",
        "          }\n",
        "        }\n",
        "    }\n",
        "\n",
        "                                                                             // --------------\n",
        "    return max_product;                                                      // 5 + 2*n + [5*n**2, 11*n**2/2  - n/2]  upper bound\n",
        "}\n",
        "\n",
        "int main() {                                              //INSTRUCTIONS executed by line\n",
        "    int n;                                                //1\n",
        "    std::cin >> n;                                        //1\n",
        "    std::vector<int> numbers(n);                          //n\n",
        "    for (int i = 0; i < n; ++i) {                         //2 + 2n\n",
        "        std::cin >> numbers[i];                           //n\n",
        "    }\n",
        "\n",
        "    std::cout << MaxPairwiseProduct(numbers) << \"\\n\";     //1 + 1  + 5 + 2*n + [5*n**2, 11*n**2/2  - n/2]\n",
        "\n",
        "    return 0;                                             // --------------\n",
        "}                                                         //  11 + 6*n + [5*n**2, 11*n**2/2  - n/2]  upper bound\n"
      ]
    },
    {
      "cell_type": "markdown",
      "metadata": {
        "id": "0vTsUg8OwcHs"
      },
      "source": [
        "### Count executed intructions in code\n",
        "\n",
        "\n"
      ]
    },
    {
      "cell_type": "code",
      "execution_count": null,
      "metadata": {
        "colab": {
          "base_uri": "https://localhost:8080/"
        },
        "id": "CuRKkqQc137V",
        "outputId": "db96c960-fad5-43fa-f13f-01ac410c1f07"
      },
      "outputs": [
        {
          "output_type": "stream",
          "name": "stdout",
          "text": [
            "Writing max_pairwise_product_long_full_execints.cpp\n"
          ]
        }
      ],
      "source": [
        "%%writefile max_pairwise_product_long_full_execints.cpp\n",
        "#include <iostream>\n",
        "#include <vector>\n",
        "#include <algorithm>\n",
        "\n",
        "long long MaxPairwiseProduct(const std::vector<int>& numbers, long long &execints) {      //INSTRUCTIONS executed by line\n",
        "\n",
        "    long long max_product = 0LL;                                                          //1\n",
        "    execints++;\n",
        "\n",
        "\t  long long aux_product = 0LL;                                                          //1\n",
        "    execints++;\n",
        "\n",
        "    int n = numbers.size();                                                               //1\n",
        "    execints++;\n",
        "\n",
        "    execints++;\n",
        "    for (int first = 0; first < n; ++first) {                                             //2+2n\n",
        "        execints += 2;\n",
        "\n",
        "        execints++;\n",
        "        for (int second = 0; second < n; ++second) {                                       //2n + 2n**2\n",
        "          execints += 2;\n",
        "\n",
        "          execints++;\n",
        "          if ( first != second ){                                                         //n**2\n",
        "                aux_product = numbers[first] * numbers[second];                           //n**2 -n\n",
        "                execints++;\n",
        "\n",
        "                execints++;\n",
        "                if (aux_product > max_product){                                           //n**2 -n\n",
        "                    max_product = aux_product;                                            //[0,n**2/2 - n/2)  upper bound\n",
        "                    execints++;\n",
        "\n",
        "                }\n",
        "        }\n",
        "\n",
        "      }\n",
        "      execints++;\n",
        "    }\n",
        "    execints++;\n",
        "                                                                                        // --------------\n",
        "    return max_product;                                                                 // 5 + 2*n + [5*n**2, 11*n**2/2  - n/2] upper bound\n",
        "}\n",
        "\n",
        "int main() {                                                 //INSTRUCTIONS executed by line\n",
        "\n",
        "    long long execints =0LL;\n",
        "\n",
        "    int n;                                                   //1\n",
        "    execints++;\n",
        "\n",
        "    std::cin >> n;                                           //1\n",
        "    execints++;\n",
        "\n",
        "    std::vector<int> numbers(n);                             //n\n",
        "    execints += n;\n",
        "\n",
        "    execints++;\n",
        "    for (int i = 0; i < n; ++i) {                            //2 + 2n\n",
        "        execints += 2;\n",
        "\n",
        "        std::cin >> numbers[i];\n",
        "        execints++;                                          //n\n",
        "\n",
        "    }\n",
        "\n",
        "\n",
        "    //std::cout << MaxPairwiseProduct(numbers) << \"\\n\";      //1 + 1  + 5 + 2*n + [5*n**2, 11*n**2/2  - n/2] upper bound\n",
        "\n",
        "    execints++;\n",
        "    int M = MaxPairwiseProduct(numbers,execints);\n",
        "\n",
        "    execints++;\n",
        "    std::cout <<  execints << \"\\n\";\n",
        "    return 0;                                                // --------------\n",
        "}                                                            // 11 + 6*n + [5*n**2, 11*n**2/2  - n/2]"
      ]
    },
    {
      "cell_type": "markdown",
      "source": [
        "The number of instructions executed by the algooirithm with a list of size $n$ is  \n",
        "\n",
        "$$T (n) = 11 + 6n + \\left[5n^2, 11\\frac{n^2}{2}  - \\frac{n}{2}\\right)  >  6n^2 = O(n^2)$$\n",
        "\n",
        "It depends on the size of the lists and  the order of the list.\n",
        "\n",
        "For the input0.txt\n",
        "```\n",
        "10\n",
        "0 0 0 0 0 0 0 0 0 0\n",
        "```\n",
        "$$T = 11 + 6(10) + 5(10)^2   = 561 $$\n",
        "\n",
        "$$T(10) \\in [571, 621)  $$\n"
      ],
      "metadata": {
        "id": "cUjHtvtdDsmr"
      }
    },
    {
      "cell_type": "code",
      "source": [
        "!g++ max_pairwise_product_long_full_execints.cpp -o max_pairwise_product_long_full_execints\n",
        "!./max_pairwise_product_long_full_execints < input0.txt"
      ],
      "metadata": {
        "colab": {
          "base_uri": "https://localhost:8080/"
        },
        "id": "Om9Fevb0miAT",
        "outputId": "4abf0e0c-e533-466e-8229-30cf4ba36070"
      },
      "execution_count": null,
      "outputs": [
        {
          "output_type": "stream",
          "name": "stdout",
          "text": [
            "570\n"
          ]
        }
      ]
    },
    {
      "cell_type": "markdown",
      "source": [
        "For the input1.txt\n",
        "```\n",
        "10\n",
        "1 2 3 4 5 6 7 8 9 10\n",
        "```\n",
        "$$T = 11 + 6(10) + 5(10)^2 +  9 + 5 + 4 + 3 + 2 + 2 + 2 + 2 + 1 + 0  = 601 $$\n",
        "\n",
        "$$T(10) \\in [572, 622)  $$\n"
      ],
      "metadata": {
        "id": "FwJzZ6VzmArY"
      }
    },
    {
      "cell_type": "code",
      "source": [
        "#The number of times that  max_product = aux_product; in the worst case is less than (n**2 -n)/2 -  upper bound\n",
        "\n",
        "#     1  2  3  4  5  6  7  8  9  10\n",
        "#  1  x  2  3  4  5  6  7  8  9  10         9\n",
        "#  2  2  x  6  8  10 12 14 16 18 20         5 14\n",
        "#  3  3  6  x  12 15 18 21 24 27 30         4 18\n",
        "#  4  4  8  12 x  20 24 28 32 36 40         3 21\n",
        "#  5  5  10 15 20 x  30 35 40 45 50         2 23\n",
        "#  6  6  12 18 24 30 x  42 48 54 60         2 25\n",
        "#  7  7  14 21 28 35 42 x  56 63 70         2 27\n",
        "#  8  8  18 27 36 45 54 63 72 x  90         1 30\n",
        "#  10 10 20 30 40 50 60 70 60 90 x          0"
      ],
      "metadata": {
        "id": "K59xQMWiBNFj"
      },
      "execution_count": null,
      "outputs": []
    },
    {
      "cell_type": "code",
      "source": [
        "11 + 6*(10) + 5*(10)*(10) +  9 + 5 + 4 + 3 + 2 + 2 + 2 + 2 + 1 + 0"
      ],
      "metadata": {
        "colab": {
          "base_uri": "https://localhost:8080/"
        },
        "id": "E3O8dzFfEgir",
        "outputId": "1ec342f1-cd9e-4cfc-cac8-9d91734b674d"
      },
      "execution_count": null,
      "outputs": [
        {
          "output_type": "execute_result",
          "data": {
            "text/plain": [
              "601"
            ]
          },
          "metadata": {},
          "execution_count": 57
        }
      ]
    },
    {
      "cell_type": "code",
      "source": [
        "n = 10\n",
        "print( \"[\", 11 + 6*n + 5*n**2,  \",\", 11 + 6*n  + 5.5*n**2, \")\")"
      ],
      "metadata": {
        "colab": {
          "base_uri": "https://localhost:8080/"
        },
        "id": "TCpdl5u_Gq1a",
        "outputId": "8c264937-ea00-4dbc-e97b-a58b8dcb1201"
      },
      "execution_count": null,
      "outputs": [
        {
          "output_type": "stream",
          "name": "stdout",
          "text": [
            "[ 571 , 621.0 )\n"
          ]
        }
      ]
    },
    {
      "cell_type": "code",
      "execution_count": null,
      "metadata": {
        "colab": {
          "base_uri": "https://localhost:8080/"
        },
        "id": "Kuvm1C05ly2a",
        "outputId": "ce3df8b9-5fa5-4da6-8bc1-16e1aed14f30"
      },
      "outputs": [
        {
          "output_type": "stream",
          "name": "stdout",
          "text": [
            "600\n"
          ]
        }
      ],
      "source": [
        "!g++ max_pairwise_product_long_full_execints.cpp -o max_pairwise_product_long_full_execints\n",
        "!./max_pairwise_product_long_full_execints < input1.txt"
      ]
    },
    {
      "cell_type": "markdown",
      "source": [
        "\n",
        "For the input2.txt\n",
        "```\n",
        "10\n",
        "10 9 8 7 6 5 4 3 2 1\n",
        "```\n",
        "$$T = 11 + 6*(10) + 5*(10)**2 +  1  = 571 $$"
      ],
      "metadata": {
        "id": "Yr_Lb7CaHfxB"
      }
    },
    {
      "cell_type": "code",
      "source": [
        "11 + 6*(10) + 5*(10)**2 +  1"
      ],
      "metadata": {
        "colab": {
          "base_uri": "https://localhost:8080/"
        },
        "id": "HOdqlwJiZUIp",
        "outputId": "ab9662f9-4e25-4b69-adaf-ee39f346a17b"
      },
      "execution_count": null,
      "outputs": [
        {
          "output_type": "execute_result",
          "data": {
            "text/plain": [
              "572"
            ]
          },
          "metadata": {},
          "execution_count": 60
        }
      ]
    },
    {
      "cell_type": "code",
      "source": [
        "!g++ max_pairwise_product_long_full_execints.cpp -o max_pairwise_product_long_full_execints\n",
        "!./max_pairwise_product_long_full_execints < input2.txt"
      ],
      "metadata": {
        "id": "_znzLectjFSe",
        "colab": {
          "base_uri": "https://localhost:8080/"
        },
        "outputId": "bbcd2f0c-ffc2-4032-e31d-f9c9bde9e796"
      },
      "execution_count": null,
      "outputs": [
        {
          "output_type": "stream",
          "name": "stdout",
          "text": [
            "571\n"
          ]
        }
      ]
    },
    {
      "cell_type": "markdown",
      "metadata": {
        "id": "NXW7QkoBL6xH"
      },
      "source": [
        "Calculate estimated time by instruction and number of instructions by second"
      ]
    },
    {
      "cell_type": "markdown",
      "source": [
        "For the input11.txt\n",
        "```\n",
        "200000\n",
        "1 2 ..  199999 2000\n",
        "```\n",
        "$$T = 11 + 6*(200000) + 5.5*(200000)**2  = 200001200012  $$"
      ],
      "metadata": {
        "id": "dlyRjaohz-YH"
      }
    },
    {
      "cell_type": "code",
      "source": [
        "!g++ max_pairwise_product_long_full_execints.cpp -o max_pairwise_product_long_full_execints\n",
        "!./max_pairwise_product_long_full_execints < input11.txt"
      ],
      "metadata": {
        "colab": {
          "base_uri": "https://localhost:8080/"
        },
        "id": "BMH8mF3EKn2w",
        "outputId": "7d7e4627-94bd-4dd0-8051-032306f9e167"
      },
      "execution_count": null,
      "outputs": [
        {
          "output_type": "stream",
          "name": "stdout",
          "text": [
            "^C\n"
          ]
        }
      ]
    },
    {
      "cell_type": "code",
      "execution_count": null,
      "metadata": {
        "colab": {
          "base_uri": "https://localhost:8080/"
        },
        "id": "pKqB3i7dIxnc",
        "outputId": "e8f4322e-06a5-4a1f-9133-734c844bbd8f"
      },
      "outputs": [
        {
          "output_type": "execute_result",
          "data": {
            "text/plain": [
              "1.4749765693187072e-09"
            ]
          },
          "metadata": {},
          "execution_count": 63
        }
      ],
      "source": [
        "# Estimated time by instruction\n",
        "# use the real reported  !time ./max_pairwise_product_long_full< input11.txt in seconds intead of the 295\n",
        "\n",
        "295/200003177092\n"
      ]
    },
    {
      "cell_type": "code",
      "execution_count": null,
      "metadata": {
        "colab": {
          "base_uri": "https://localhost:8080/"
        },
        "id": "18N1ouqeMhE1",
        "outputId": "b2d73cfe-78be-4d68-fbbc-374655620bf4"
      },
      "outputs": [
        {
          "output_type": "execute_result",
          "data": {
            "text/plain": [
              "677976871.4983051"
            ]
          },
          "metadata": {},
          "execution_count": 64
        }
      ],
      "source": [
        "# Estimated number of instructions by second\n",
        "\n",
        "200003177092/295"
      ]
    },
    {
      "cell_type": "markdown",
      "source": [
        "### Estimate and verify the maximun n that can be solved in 1 second\n",
        "\n",
        "$$(5.5n^2 + 5.5n + 11) \\times 1.47*10^{-9} s = 1 s$$\n",
        "\n",
        "$$ n \\approx 11000$$\n"
      ],
      "metadata": {
        "id": "KyuxejFkL5X_"
      }
    },
    {
      "cell_type": "code",
      "source": [
        "# Verify input13.txt\n",
        "%%writefile WriteTest.cpp\n",
        "\n",
        "#include <iostream>\n",
        "#include <fstream>\n",
        "#include <cstdlib>\n",
        "\n",
        "using namespace std;\n",
        "\n",
        "int main() {\n",
        "  // Create and open a text file\n",
        "  ofstream MyFile(\"input13.txt\");\n",
        "\n",
        " MyFile << 11000 <<\"\\n\";  // n\n",
        " for (int i=1; i <11001; i++){\n",
        "     MyFile << i <<\" \";\n",
        " }\n",
        "\n",
        "  // Close the file\n",
        "  MyFile.close();\n",
        "}"
      ],
      "metadata": {
        "colab": {
          "base_uri": "https://localhost:8080/"
        },
        "id": "WXu5jp-DLTOI",
        "outputId": "587fda03-83a3-41e3-aea4-a9230f23d006"
      },
      "execution_count": null,
      "outputs": [
        {
          "output_type": "stream",
          "name": "stdout",
          "text": [
            "Overwriting WriteTest.cpp\n"
          ]
        }
      ]
    },
    {
      "cell_type": "code",
      "source": [
        "!g++ WriteTest.cpp -o WriteTest\n",
        "!./WriteTest"
      ],
      "metadata": {
        "id": "AQ8N52pUMCeT",
        "colab": {
          "base_uri": "https://localhost:8080/"
        },
        "outputId": "aa30c41a-f19e-4447-fb10-baf70e544c25"
      },
      "execution_count": null,
      "outputs": [
        {
          "output_type": "stream",
          "name": "stdout",
          "text": [
            "^C\n"
          ]
        }
      ]
    },
    {
      "cell_type": "code",
      "source": [
        "10999 * 11000"
      ],
      "metadata": {
        "colab": {
          "base_uri": "https://localhost:8080/"
        },
        "id": "2iIOdbTrEtBx",
        "outputId": "09fa91e2-1f70-4d0b-80d5-fee35b919820"
      },
      "execution_count": null,
      "outputs": [
        {
          "output_type": "execute_result",
          "data": {
            "text/plain": [
              "120989000"
            ]
          },
          "metadata": {},
          "execution_count": 67
        }
      ]
    },
    {
      "cell_type": "code",
      "source": [
        "!g++ max_pairwise_product_long_full.cpp -o max_pairwise_product_long_full\n",
        "!time ./max_pairwise_product_long_full< input13.txt"
      ],
      "metadata": {
        "colab": {
          "base_uri": "https://localhost:8080/"
        },
        "id": "ussuAokfM2du",
        "outputId": "c2cd9f14-acca-41d7-f715-eecf2cfe4bd6"
      },
      "execution_count": null,
      "outputs": [
        {
          "output_type": "stream",
          "name": "stdout",
          "text": [
            "/bin/bash: line 1: input13.txt: No such file or directory\n",
            "\n",
            "real\t0m0.001s\n",
            "user\t0m0.000s\n",
            "sys\t0m0.001s\n"
          ]
        }
      ]
    },
    {
      "cell_type": "markdown",
      "metadata": {
        "id": "Tm_AVmt-QQH4"
      },
      "source": [
        "## Python"
      ]
    },
    {
      "cell_type": "code",
      "execution_count": 7,
      "metadata": {
        "id": "gRCCcd7IQTKZ",
        "colab": {
          "base_uri": "https://localhost:8080/"
        },
        "outputId": "ed883689-5b67-4e6f-940b-150e02d595ef"
      },
      "outputs": [
        {
          "output_type": "stream",
          "name": "stdout",
          "text": [
            "Overwriting max_pairwise_product_execints.py\n"
          ]
        }
      ],
      "source": [
        "%%writefile max_pairwise_product_execints.py\n",
        "def MaxPairwiseProduct(numbers, execints):                      # INSTRUCTIONS executed by line\n",
        "    max_product = 0                                             # 1\n",
        "    execints[0] += 1\n",
        "\n",
        "    aux_product = 0                                             # 1\n",
        "    execints[0] += 1\n",
        "\n",
        "    n = len(numbers)                                            # 1\n",
        "    execints[0] += 1\n",
        "\n",
        "    execints[0] += 1\n",
        "    for first in range(n):                                      # 2 + 2n\n",
        "        execints[0] += 2\n",
        "\n",
        "        execints[0] += 1\n",
        "        for second in range(n):                                 # 2n + 2n**2\n",
        "            execints[0] += 2\n",
        "\n",
        "            execints[0] += 1\n",
        "            if first != second:                                 # n**2\n",
        "                aux_product = numbers[first] * numbers[second]   # n**2 - n\n",
        "                execints[0] += 1\n",
        "\n",
        "                execints[0] += 1\n",
        "                if aux_product > max_product:                    # n**2 - n\n",
        "                    max_product = aux_product                    # [0, n**2/2 - n/2] upper bound\n",
        "                    execints[0] += 1\n",
        "\n",
        "        execints[0] += 1\n",
        "    execints[0] += 1\n",
        "\n",
        "    return max_product                                          # 5 + 2n + [5n**2, 11n**2/2 - n/2] upper bound\n",
        "\n",
        "def main():                                                     # INSTRUCTIONS executed by line\n",
        "    execints = [0]                                             # Usando lista para simular paso por referencia\n",
        "\n",
        "    n = int(input())                                           # 1\n",
        "    execints[0] += 1\n",
        "\n",
        "    numbers = list(map(int, input().split()))                  # n\n",
        "    execints[0] += n\n",
        "\n",
        "    execints[0] += 1\n",
        "    result = MaxPairwiseProduct(numbers, execints)             # 1 + 5 + 2n + [5n**2, 11n**2/2 - n/2]\n",
        "\n",
        "    execints[0] += 1\n",
        "    print(execints[0])                                         # Imprime el número total de instrucciones ejecutadas\n",
        "\n",
        "    return 0                                                   # --------------\n",
        "                                                              # 11 + 6n + [5n**2, 11n**2/2 - n/2] upper bound\n",
        "\n",
        "if __name__ == '__main__':\n",
        "    main()"
      ]
    },
    {
      "cell_type": "markdown",
      "source": [
        "La complejidad temporal sigue siendo la misma:\n",
        "$$T(n) = 11 + 6n + \\left[5n^2, 11\\frac{n^2}{2} - \\frac{n}{2}\\right) > 6n^2 = O(n^2)$$"
      ],
      "metadata": {
        "id": "NrJ5Hn4N8IiE"
      }
    },
    {
      "cell_type": "code",
      "execution_count": 13,
      "metadata": {
        "id": "hjw7TJrDL0d-",
        "colab": {
          "base_uri": "https://localhost:8080/"
        },
        "outputId": "9552c5d3-084b-46db-be27-85c6de56f655"
      },
      "outputs": [
        {
          "output_type": "stream",
          "name": "stdout",
          "text": [
            "538\n"
          ]
        }
      ],
      "source": [
        "# Verify\n",
        "!python3 max_pairwise_product_execints.py < input0.txt"
      ]
    },
    {
      "cell_type": "code",
      "source": [
        "!python3 max_pairwise_product_execints.py < input2.txt"
      ],
      "metadata": {
        "colab": {
          "base_uri": "https://localhost:8080/"
        },
        "id": "_3tCSFBo9QPd",
        "outputId": "0cde8710-7ca0-41c9-f32a-f794bb1b1317"
      },
      "execution_count": 17,
      "outputs": [
        {
          "output_type": "stream",
          "name": "stdout",
          "text": [
            "539\n"
          ]
        }
      ]
    },
    {
      "cell_type": "markdown",
      "source": [
        "# For the follwing solutions rquired  the same tests and analysis performed for the first solution"
      ],
      "metadata": {
        "id": "fEZR-3V4ZjCv"
      }
    },
    {
      "cell_type": "markdown",
      "metadata": {
        "id": "MKQKSC-vKePK"
      },
      "source": [
        "## Solutions in C++ and Python that uses\n",
        "$$\\frac{n^2 - n}{2} = O(n^2)\\ \\ \\text{products}$$"
      ]
    },
    {
      "cell_type": "code",
      "execution_count": 18,
      "metadata": {
        "id": "jkkHHoxSK65p",
        "colab": {
          "base_uri": "https://localhost:8080/"
        },
        "outputId": "07d0a1cf-0ca5-49a2-c0fe-c85ea1a7088b"
      },
      "outputs": [
        {
          "output_type": "stream",
          "name": "stdout",
          "text": [
            "Writing max_pairwise_product.cpp\n"
          ]
        }
      ],
      "source": [
        "%%writefile max_pairwise_product.cpp\n",
        "#include <iostream>\n",
        "#include <vector>\n",
        "#include <algorithm>\n",
        "\n",
        "int MaxPairwiseProduct(const std::vector<int>& numbers) {\n",
        "    int max_product = 0;\n",
        "    int n = numbers.size();\n",
        "\n",
        "    for (int first = 0; first < n; ++first) {\n",
        "        for (int second = first + 1; second < n; ++second) {\n",
        "            max_product = std::max(max_product,\n",
        "                numbers[first] * numbers[second]);\n",
        "        }\n",
        "    }\n",
        "\n",
        "    return max_product;\n",
        "}\n",
        "\n",
        "int main() {\n",
        "    int n;\n",
        "    std::cin >> n;\n",
        "    std::vector<int> numbers(n);\n",
        "    for (int i = 0; i < n; ++i) {\n",
        "        std::cin >> numbers[i];\n",
        "    }\n",
        "\n",
        "    std::cout << MaxPairwiseProduct(numbers) << \"\\n\";\n",
        "    return 0;\n",
        "}"
      ]
    },
    {
      "cell_type": "code",
      "execution_count": 19,
      "metadata": {
        "id": "sU8-Ote7K8vz",
        "colab": {
          "base_uri": "https://localhost:8080/"
        },
        "outputId": "8746e955-4466-4523-a2bb-a4fac8f6f10c"
      },
      "outputs": [
        {
          "output_type": "stream",
          "name": "stdout",
          "text": [
            "Writing max_pairwise_product_long.cpp\n"
          ]
        }
      ],
      "source": [
        "%%writefile max_pairwise_product_long.cpp\n",
        "#include <iostream>\n",
        "#include <vector>\n",
        "#include <algorithm>\n",
        "\n",
        "long long MaxPairwiseProduct(const std::vector<int>& numbers) {              //INSTRUCTIONS executed by line\n",
        "    long long max_product = 0LL;                                             //1\n",
        "\t  long long aux_product = 0LL;                                             //1\n",
        "    int n = numbers.size();                                                  //1\n",
        "\n",
        "    for (int first = 0; first < n; ++first) {                                //2+2n\n",
        "        for (int second = first + 1; second < n; ++second) {                 //2n + (n-1)n\n",
        "\t\t\t       aux_product =  (long long) numbers[first] * numbers[second];    //(n-1)n/2\n",
        "            if (max_product < aux_product)  {                                //(n-1)n/2\n",
        "\t\t\t\t        max_product = aux_product;                                   //[1,(n-1)n/2)  upper bound\n",
        "             }\n",
        "        }\n",
        "    }\n",
        "                                                                             // --------------\n",
        "    return max_product;                                                      // 5 + 4n + [2(n-1)n+1, 2.5 (n-1)n) upper bound\n",
        "}\n",
        "\n",
        "int main() {                                              //INSTRUCTIONS executed by line\n",
        "    int n;                                                //1\n",
        "    std::cin >> n;                                        //1\n",
        "    std::vector<int> numbers(n);                          //n\n",
        "    for (int i = 0; i < n; ++i) {                         //2 + 2n\n",
        "        std::cin >> numbers[i];                           //n\n",
        "    }\n",
        "\n",
        "    std::cout << MaxPairwiseProduct(numbers) << \"\\n\";     //1 + 1  + 5 + 4n + [2(n-1)n+1, 2.5 (n-1)n) upper bound\n",
        "    return 0;                                             // --------------\n",
        "}                                                         // 11 + 7n + [2(n-1)n+1, 2.5 (n-1)n) upper bound\n"
      ]
    },
    {
      "cell_type": "markdown",
      "source": [
        "The number of instructions executed by the algooirithm with a list of size $n$ is  \n",
        "\n",
        "$$T (n) = 11 + 7n + \\left[2(n-1)n+1, 2.5(n-1)n\\right)= O(n^2)$$\n",
        "\n",
        "Then for the input0.txt\n",
        "$$T = 11 + 7(10) + 2(9)11   = 279 $$"
      ],
      "metadata": {
        "id": "ypjsiZ6qBrQM"
      }
    },
    {
      "cell_type": "markdown",
      "source": [
        "### Estimate and verify the maximun n that can be solved in 1 second\n",
        "\n"
      ],
      "metadata": {
        "id": "zxCvxiB-XQJh"
      }
    },
    {
      "cell_type": "markdown",
      "source": [
        "Analysis of Maximum n that can be solved in 1 second\n",
        "\n",
        "First, let's look at the time complexity from the C++ code:\n",
        "$$T(n) = 11 + 7n + [2(n-1)n+1, 2.5(n-1)n]$$\n",
        "Let's expand the formula:\n",
        "\n",
        "Lower bound: $2(n-1)n + 1 = 2n^2 - 2n + 1$\n",
        "Upper bound: $2.5(n-1)n = 2.5n^2 - 2.5n$\n",
        "\n",
        "\n",
        "\n",
        "Therefore, the complete range of instructions is:\n",
        "$$T(n) = 11 + 7n + [2n^2 - 2n + 1, 2.5n^2 - 2.5n]$$\n",
        "\n",
        "Assuming a modern computer can execute approximately $10^8$ operations per second, we can set up the inequality using the lower bound:\n",
        "\n",
        "$$11 + 7n + (2n^2 - 2n + 1) \\leq 10^8$$\n",
        "Simplifying:\n",
        "$$2n^2 + 5n + 12 \\leq 10^8$$\n",
        "\n",
        "Since the quadratic term dominates, we can approximate:\n",
        "$$2n^2 \\leq 10^8$$\n",
        "$$n^2 \\leq 5 \\times 10^7$$\n",
        "$$n \\leq \\sqrt{5 \\times 10^7} \\approx 7071$$"
      ],
      "metadata": {
        "id": "ShipMFLaDFxl"
      }
    },
    {
      "cell_type": "code",
      "source": [
        "%%writefile test_generator.cpp\n",
        "#include <iostream>\n",
        "#include <fstream>\n",
        "#include <random>\n",
        "#include <string>\n",
        "\n",
        "void generateTest(int n, const std::string& filename) {\n",
        "    std::random_device rd;\n",
        "    std::mt19937 gen(rd());\n",
        "    std::uniform_int_distribution<> dis(1, 1000000000);  // Números entre 1 y 10^9\n",
        "\n",
        "    std::ofstream file(filename);\n",
        "    file << n << \"\\n\";\n",
        "    for (int i = 0; i < n; i++) {\n",
        "        file << dis(gen);\n",
        "        if (i < n-1) file << \" \";\n",
        "    }\n",
        "    file << \"\\n\";\n",
        "    file.close();\n",
        "}\n",
        "\n",
        "int main() {\n",
        "    // Generar tests con tamaños crecientes\n",
        "    int sizes[] = {1000, 2000, 3000, 4000, 5000, 6000, 7000};\n",
        "\n",
        "    for (int size : sizes) {\n",
        "        std::string filename = \"input_\" + std::to_string(size) + \".txt\";\n",
        "        generateTest(size, filename);\n",
        "        std::cout << \"Generated \" << filename << \" with \" << size << \" numbers\\n\";\n",
        "    }\n",
        "\n",
        "    return 0;\n",
        "}"
      ],
      "metadata": {
        "id": "Su8drkhrZwcp",
        "colab": {
          "base_uri": "https://localhost:8080/"
        },
        "outputId": "fb6e9af0-6b54-4f72-df95-04e2fcd9f0a9"
      },
      "execution_count": 100,
      "outputs": [
        {
          "output_type": "stream",
          "name": "stdout",
          "text": [
            "Overwriting test_generator.cpp\n"
          ]
        }
      ]
    },
    {
      "cell_type": "code",
      "source": [
        "!g++ test_generator.cpp -o test_generator\n",
        "!./test_generator\n",
        "\n",
        "# Compilar el programa principal\n",
        "!g++ max_pairwise_product_long.cpp -o max_pairwise_product_long\n",
        "\n",
        "# Ejecutar los tests y medir el tiempo\n",
        "!time ./max_pairwise_product_long < input_1000.txt\n",
        "!time ./max_pairwise_product_long < input_2000.txt\n",
        "!time ./max_pairwise_product_long < input_3000.txt\n",
        "!time ./max_pairwise_product_long < input_4000.txt\n",
        "!time ./max_pairwise_product_long < input_5000.txt\n",
        "!time ./max_pairwise_product_long < input_6000.txt\n",
        "!time ./max_pairwise_product_long < input_7000.txt"
      ],
      "metadata": {
        "colab": {
          "base_uri": "https://localhost:8080/"
        },
        "id": "8asa-9O1D7x6",
        "outputId": "3dd344ee-dc44-4de7-c94d-a77bee5235b0"
      },
      "execution_count": 102,
      "outputs": [
        {
          "output_type": "stream",
          "name": "stdout",
          "text": [
            "Generated input_1000.txt with 1000 numbers\n",
            "Generated input_2000.txt with 2000 numbers\n",
            "Generated input_3000.txt with 3000 numbers\n",
            "Generated input_4000.txt with 4000 numbers\n",
            "Generated input_5000.txt with 5000 numbers\n",
            "Generated input_6000.txt with 6000 numbers\n",
            "Generated input_7000.txt with 7000 numbers\n",
            "Generated input_8000.txt with 8000 numbers\n",
            "998332035126414263\n",
            "\n",
            "real\t0m0.008s\n",
            "user\t0m0.006s\n",
            "sys\t0m0.002s\n",
            "999026053556593244\n",
            "\n",
            "real\t0m0.018s\n",
            "user\t0m0.017s\n",
            "sys\t0m0.001s\n",
            "998866083570378509\n",
            "\n",
            "real\t0m0.034s\n",
            "user\t0m0.032s\n",
            "sys\t0m0.001s\n",
            "999165755656685760\n",
            "\n",
            "real\t0m0.057s\n",
            "user\t0m0.056s\n",
            "sys\t0m0.000s\n",
            "998956441128546623\n",
            "\n",
            "real\t0m0.093s\n",
            "user\t0m0.089s\n",
            "sys\t0m0.003s\n",
            "999056568192190536\n",
            "\n",
            "real\t0m0.122s\n",
            "user\t0m0.119s\n",
            "sys\t0m0.003s\n",
            "999563069190265523\n",
            "\n",
            "real\t0m0.171s\n",
            "user\t0m0.165s\n",
            "sys\t0m0.005s\n"
          ]
        }
      ]
    },
    {
      "cell_type": "markdown",
      "metadata": {
        "id": "1Hsbd-uHOb_j"
      },
      "source": [
        "# Sort solution in C++ and Python\n",
        "\n",
        "$$ O(n \\lg n)$$\n",
        "\n",
        "**Which sorting algorithm is used in GCC?**\n",
        "https://stackoverflow.com/questions/7221257/which-sorting-algorithm-is-used-in-gcc\n",
        "\n",
        "* ...  the algorithm is called introsort, a combination between Insertionsort, Quicksort & Heapsort. ...\n",
        "\n",
        "**Introsort**\n",
        "https://en.wikipedia.org/wiki/Introsort\n",
        "\n",
        "Introsort or introspective sort is a hybrid sorting algorithm that provides both fast average performance and (asymptotically) optimal worst-case performance. It begins with quicksort, it switches to heapsort when the recursion depth exceeds a level based on (the logarithm of) the number of elements being sorted and it switches to insertion sort when the number of elements is below some threshold\n",
        "\n",
        "*   Class\tSorting algorithm\n",
        "*   Data structure\tArray\n",
        "*   Worst-case performance\t$O(n \\lg n)$\n",
        "*   Average performance\t$O(n \\lg n)$\n",
        "\n",
        "**Timsort**\n",
        "https://en.wikipedia.org/wiki/Timsort\n",
        "\n",
        "Timsort is a hybrid, stable sorting algorithm, derived from merge sort and insertion sort, designed to perform well on many kinds of real-world data. It was implemented by Tim Peters in 2002 for use in the Python programming language.\n",
        "\n",
        "*   Class\tSorting algorithm\n",
        "*   Data structure\tArray\n",
        "*   Worst-case performance\t$O(n \\lg n)$\n",
        "*   Best-case performance $O(n)$\n",
        "*   Average performance\t$O(n \\lg n)$\n",
        "*   Worst-case space complexity $O(n)$"
      ]
    },
    {
      "cell_type": "markdown",
      "metadata": {
        "id": "WMUthAXjOb_k"
      },
      "source": []
    },
    {
      "cell_type": "code",
      "source": [],
      "metadata": {
        "id": "jnIRWyUEDu_C"
      },
      "execution_count": null,
      "outputs": []
    },
    {
      "cell_type": "markdown",
      "metadata": {
        "id": "v8pdV9ABOb_k"
      },
      "source": [
        "Test with inputs 1 and 2\n",
        "\n"
      ]
    },
    {
      "cell_type": "code",
      "execution_count": null,
      "metadata": {
        "id": "kdXAyLG4Ob_k"
      },
      "outputs": [],
      "source": []
    },
    {
      "cell_type": "markdown",
      "metadata": {
        "id": "Sw-5X1q1Ob_k"
      },
      "source": [
        "Test and time it with input 3"
      ]
    },
    {
      "cell_type": "code",
      "execution_count": null,
      "metadata": {
        "id": "ryHJ30WIOb_k"
      },
      "outputs": [],
      "source": []
    },
    {
      "cell_type": "markdown",
      "metadata": {
        "id": "oJGdPl1HOb_k"
      },
      "source": [
        "20 stress tests"
      ]
    },
    {
      "cell_type": "code",
      "execution_count": null,
      "metadata": {
        "id": "pXHtO1dEOb_k"
      },
      "outputs": [],
      "source": []
    },
    {
      "cell_type": "markdown",
      "metadata": {
        "id": "2beTmWFPOb_k"
      },
      "source": [
        "Count executed instructions in code and verify with inputs 1,2 and 3\n"
      ]
    },
    {
      "cell_type": "code",
      "execution_count": null,
      "metadata": {
        "id": "iuByv4x1Ob_k"
      },
      "outputs": [],
      "source": []
    },
    {
      "cell_type": "markdown",
      "metadata": {
        "id": "x2CXhkwTOb_l"
      },
      "source": [
        "Calculate estimated time by instruction and number of instructions by second"
      ]
    },
    {
      "cell_type": "code",
      "execution_count": null,
      "metadata": {
        "id": "nTjxyTMtOb_l"
      },
      "outputs": [],
      "source": []
    },
    {
      "cell_type": "markdown",
      "source": [
        "### Estimate and verify the maximun n that can be solved in 1 second"
      ],
      "metadata": {
        "id": "CcgDYDQuaFeH"
      }
    },
    {
      "cell_type": "code",
      "source": [],
      "metadata": {
        "id": "fLztHReKaGFq"
      },
      "execution_count": null,
      "outputs": []
    },
    {
      "cell_type": "markdown",
      "metadata": {
        "id": "VMKC5duEOQfk"
      },
      "source": [
        "## Efficient solution with largest and second-largest in an list, array or vector in C++ and Python\n",
        "\n",
        " $$T(n) < 10 n  = O(n)$$\n",
        "\n",
        "\n",
        "\n"
      ]
    },
    {
      "cell_type": "markdown",
      "metadata": {
        "id": "nLcKBwbU0QsE"
      },
      "source": [
        "Add in each line a coment with the number of intstrcution that are executed in that line"
      ]
    },
    {
      "cell_type": "code",
      "execution_count": null,
      "metadata": {
        "id": "knls5Fh3NSt_"
      },
      "outputs": [],
      "source": []
    },
    {
      "cell_type": "markdown",
      "metadata": {
        "id": "-JCijbWxNSii"
      },
      "source": [
        "Test with inputs 1 and 2\n",
        "\n"
      ]
    },
    {
      "cell_type": "code",
      "execution_count": null,
      "metadata": {
        "id": "TrTGAfqlNVXT"
      },
      "outputs": [],
      "source": []
    },
    {
      "cell_type": "markdown",
      "metadata": {
        "id": "PRX51wADNR8b"
      },
      "source": [
        "Test and time it with input 3"
      ]
    },
    {
      "cell_type": "code",
      "execution_count": null,
      "metadata": {
        "id": "v4z7-Is_NRt7"
      },
      "outputs": [],
      "source": []
    },
    {
      "cell_type": "markdown",
      "metadata": {
        "id": "rpdfs0_TNZJf"
      },
      "source": [
        "20 stress tests"
      ]
    },
    {
      "cell_type": "code",
      "execution_count": null,
      "metadata": {
        "id": "Lu4tYcKzNcTT"
      },
      "outputs": [],
      "source": []
    },
    {
      "cell_type": "markdown",
      "metadata": {
        "id": "L8U4151JNbxk"
      },
      "source": [
        "Count executed instructions in code and verify with inputs 1,2 and 3\n"
      ]
    },
    {
      "cell_type": "code",
      "execution_count": null,
      "metadata": {
        "id": "dh85RM8vNhFz"
      },
      "outputs": [],
      "source": []
    },
    {
      "cell_type": "markdown",
      "metadata": {
        "id": "K6ybgCmpNygr"
      },
      "source": [
        "Calculate estimated time by instruction and number of instructions by second"
      ]
    },
    {
      "cell_type": "code",
      "execution_count": null,
      "metadata": {
        "id": "kwe3G1O3Nz1w"
      },
      "outputs": [],
      "source": []
    },
    {
      "cell_type": "markdown",
      "source": [
        "### Estimate and verify the maximun n that can be solved in 1 second"
      ],
      "metadata": {
        "id": "v8GY6n_ZaJ4P"
      }
    },
    {
      "cell_type": "code",
      "source": [],
      "metadata": {
        "id": "z3xjzg1YaKk6"
      },
      "execution_count": null,
      "outputs": []
    },
    {
      "cell_type": "markdown",
      "metadata": {
        "id": "sUpIWcykOGpT"
      },
      "source": [
        "## Super efficient solution\n",
        "\n",
        "Whitout storing the list in memory, only stpring the largest and second largest and whitout calling a function, add in each line a coment with the number of instructions that are executed in that line\n",
        "\n",
        "in C++ and Python\n",
        "\n",
        "\n",
        " $$T(n) < 13 n  = O(n)$$\n"
      ]
    },
    {
      "cell_type": "code",
      "execution_count": null,
      "metadata": {
        "id": "hBLt_xBQLy8E"
      },
      "outputs": [],
      "source": []
    },
    {
      "cell_type": "markdown",
      "metadata": {
        "id": "683gc3roHqzb"
      },
      "source": [
        "Test with inputs 1 and 2\n",
        "\n",
        "\n"
      ]
    },
    {
      "cell_type": "code",
      "execution_count": null,
      "metadata": {
        "id": "b7d4LA8OIc2_"
      },
      "outputs": [],
      "source": []
    },
    {
      "cell_type": "markdown",
      "metadata": {
        "id": "36Ugn1odIeJz"
      },
      "source": [
        "Test and time it with input 3"
      ]
    },
    {
      "cell_type": "code",
      "execution_count": null,
      "metadata": {
        "id": "jDyMbCnxHqSN"
      },
      "outputs": [],
      "source": []
    },
    {
      "cell_type": "markdown",
      "metadata": {
        "id": "bhqiKQG6fjKM"
      },
      "source": [
        "20 stress tests"
      ]
    },
    {
      "cell_type": "code",
      "execution_count": null,
      "metadata": {
        "id": "2KsiXKhALzwm"
      },
      "outputs": [],
      "source": []
    },
    {
      "cell_type": "markdown",
      "metadata": {
        "id": "fEXj8GHJH5p1"
      },
      "source": [
        "Count executed instructions in code and verify with inputs 1,2 and 3"
      ]
    },
    {
      "cell_type": "code",
      "execution_count": null,
      "metadata": {
        "id": "LF1DHjKXIAsF"
      },
      "outputs": [],
      "source": []
    },
    {
      "cell_type": "markdown",
      "metadata": {
        "id": "yae7sSm2IG9U"
      },
      "source": [
        "Calculate estimated time by instruction and number of instructions by second"
      ]
    },
    {
      "cell_type": "code",
      "execution_count": null,
      "metadata": {
        "id": "suouY7BYL2dz"
      },
      "outputs": [],
      "source": []
    },
    {
      "cell_type": "markdown",
      "metadata": {
        "id": "sy33CNNfPxcE"
      },
      "source": [
        "### Super efficient solution in Python\n",
        "\n",
        "Whitout storing the list in memory and whitout calling a function, add in each line a coment with the number of intstrcution that are executed in that line"
      ]
    },
    {
      "cell_type": "code",
      "execution_count": null,
      "metadata": {
        "id": "_mOjJwKrPxcJ"
      },
      "outputs": [],
      "source": []
    },
    {
      "cell_type": "markdown",
      "metadata": {
        "id": "K08Eow0hPxcJ"
      },
      "source": [
        "Test with inputs 1 and 2\n",
        "\n",
        "\n"
      ]
    },
    {
      "cell_type": "code",
      "execution_count": null,
      "metadata": {
        "id": "1_mUee2cPxcJ"
      },
      "outputs": [],
      "source": []
    },
    {
      "cell_type": "markdown",
      "metadata": {
        "id": "CE5DB3CmPxcJ"
      },
      "source": [
        "Test and time it with input 3"
      ]
    },
    {
      "cell_type": "code",
      "execution_count": null,
      "metadata": {
        "id": "lyLhFOoePxcJ"
      },
      "outputs": [],
      "source": []
    },
    {
      "cell_type": "markdown",
      "metadata": {
        "id": "HZEI236lPxcK"
      },
      "source": [
        "20 stress tests"
      ]
    },
    {
      "cell_type": "code",
      "execution_count": null,
      "metadata": {
        "id": "_LoV-p4zPxcK"
      },
      "outputs": [],
      "source": []
    },
    {
      "cell_type": "markdown",
      "metadata": {
        "id": "IRVdP3iuPxcK"
      },
      "source": [
        "Count executed instructions in code and verify with inputs 1,2 and 3"
      ]
    },
    {
      "cell_type": "code",
      "execution_count": null,
      "metadata": {
        "id": "RghJOg78PxcK"
      },
      "outputs": [],
      "source": []
    },
    {
      "cell_type": "markdown",
      "metadata": {
        "id": "R6qeUjPaPxcK"
      },
      "source": [
        "Calculate estimated time by instruction and number of instructions by second"
      ]
    },
    {
      "cell_type": "code",
      "execution_count": null,
      "metadata": {
        "id": "iLdXYvn3PxcK"
      },
      "outputs": [],
      "source": []
    },
    {
      "cell_type": "markdown",
      "source": [
        "### Estimate and verify the maximun n that can be solved in 1 second"
      ],
      "metadata": {
        "id": "uZGdjUwuaO4v"
      }
    },
    {
      "cell_type": "code",
      "source": [],
      "metadata": {
        "id": "FjqFevOaaOVz"
      },
      "execution_count": null,
      "outputs": []
    },
    {
      "cell_type": "markdown",
      "source": [
        "## Perform 100 randomized automated tests in C++ and Python with a porgram  compares the answers,for the same 100 random input instances, of the super efficient solution $(T(n) < 10 n = O(n))$ against the sorting solution  $(T(n)  = O(n \\lg{n}))$,  if the answers are not the same stops and displays \"Error\" listing  the input and the two answers; if the 100 tests are completed without stoping displays \"Pass\"."
      ],
      "metadata": {
        "id": "4hHRQMXzW6oR"
      }
    }
  ],
  "metadata": {
    "colab": {
      "provenance": [],
      "include_colab_link": true
    },
    "kernelspec": {
      "display_name": "Python 3",
      "name": "python3"
    },
    "language_info": {
      "name": "python"
    }
  },
  "nbformat": 4,
  "nbformat_minor": 0
}